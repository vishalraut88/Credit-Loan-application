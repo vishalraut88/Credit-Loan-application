{
 "cells": [
  {
   "cell_type": "code",
   "execution_count": 2,
   "metadata": {},
   "outputs": [],
   "source": [
    "import lightgbm as lgbm\n",
    "from hyperopt import hp, tpe, Trials\n",
    "import pandas as pd\n",
    "import numpy as np\n",
    "import seaborn as sns\n",
    "import matplotlib.pyplot as plt\n",
    "from sklearn.model_selection import train_test_split\n",
    "from utils.preprocessing import preprocessing \n",
    "from utils.utils import initial_hyperparam_search,cast_params_to_proper_types,lgb_f1_score,feature_imp_lgbm,filter_out_features_based_on_statistical_approach\n",
    "import pickle\n",
    "\n",
    "from lightgbm import plot_importance\n",
    "from sklearn.model_selection import GridSearchCV\n",
    "import matplotlib.pyplot as plt\n",
    "from sklearn.model_selection import StratifiedKFold\n",
    "from sklearn.metrics import roc_auc_score,f1_score,confusion_matrix,precision_score,recall_score,roc_curve\n"
   ]
  },
  {
   "cell_type": "code",
   "execution_count": 3,
   "metadata": {},
   "outputs": [],
   "source": [
    "prepos= preprocessing()\n",
    "df_credit_application = prepos.read_data(\"credit_applications.csv\")\n",
    "df_customers = prepos.read_data(\"customers.csv\")\n",
    "df_customers.drop(\"Unnamed: 0\",axis=1,inplace=True)\n",
    "df_credit_application.drop(\"Unnamed: 0\",axis=1,inplace=True)"
   ]
  },
  {
   "cell_type": "code",
   "execution_count": 4,
   "metadata": {},
   "outputs": [
    {
     "name": "stdout",
     "output_type": "stream",
     "text": [
      "(29996, 11)\n"
     ]
    }
   ],
   "source": [
    "df_complete_data = df_customers.merge(df_credit_application,how=\"inner\",on=[\"client_nr\",\"yearmonth\"])\n",
    "df_complete_data.drop(\"nr_credit_applications\",axis=1,inplace=True)\n",
    "print(df_complete_data.shape)"
   ]
  },
  {
   "cell_type": "code",
   "execution_count": 5,
   "metadata": {},
   "outputs": [
    {
     "data": {
      "text/html": [
       "<div>\n",
       "<style scoped>\n",
       "    .dataframe tbody tr th:only-of-type {\n",
       "        vertical-align: middle;\n",
       "    }\n",
       "\n",
       "    .dataframe tbody tr th {\n",
       "        vertical-align: top;\n",
       "    }\n",
       "\n",
       "    .dataframe thead th {\n",
       "        text-align: right;\n",
       "    }\n",
       "</style>\n",
       "<table border=\"1\" class=\"dataframe\">\n",
       "  <thead>\n",
       "    <tr style=\"text-align: right;\">\n",
       "      <th></th>\n",
       "      <th>client_nr</th>\n",
       "      <th>yearmonth</th>\n",
       "      <th>total_nr_trx</th>\n",
       "      <th>nr_debit_trx</th>\n",
       "      <th>volume_debit_trx</th>\n",
       "      <th>nr_credit_trx</th>\n",
       "      <th>volume_credit_trx</th>\n",
       "      <th>min_balance</th>\n",
       "      <th>max_balance</th>\n",
       "      <th>CRG</th>\n",
       "      <th>credit_application</th>\n",
       "    </tr>\n",
       "  </thead>\n",
       "  <tbody>\n",
       "    <tr>\n",
       "      <th>count</th>\n",
       "      <td>29996.000000</td>\n",
       "      <td>29996.000000</td>\n",
       "      <td>29996.000000</td>\n",
       "      <td>29996.000000</td>\n",
       "      <td>2.999600e+04</td>\n",
       "      <td>29996.000000</td>\n",
       "      <td>2.999600e+04</td>\n",
       "      <td>2.999600e+04</td>\n",
       "      <td>2.999600e+04</td>\n",
       "      <td>24459.000000</td>\n",
       "      <td>29996.000000</td>\n",
       "    </tr>\n",
       "    <tr>\n",
       "      <th>mean</th>\n",
       "      <td>481.560775</td>\n",
       "      <td>201493.675157</td>\n",
       "      <td>166.427957</td>\n",
       "      <td>75.785571</td>\n",
       "      <td>1.121290e+07</td>\n",
       "      <td>90.642386</td>\n",
       "      <td>1.126906e+07</td>\n",
       "      <td>-5.523773e+06</td>\n",
       "      <td>3.752693e+06</td>\n",
       "      <td>3.251850</td>\n",
       "      <td>0.067509</td>\n",
       "    </tr>\n",
       "    <tr>\n",
       "      <th>std</th>\n",
       "      <td>281.317753</td>\n",
       "      <td>77.361645</td>\n",
       "      <td>220.947519</td>\n",
       "      <td>60.063496</td>\n",
       "      <td>1.617596e+07</td>\n",
       "      <td>192.244770</td>\n",
       "      <td>1.624998e+07</td>\n",
       "      <td>1.357517e+07</td>\n",
       "      <td>1.616937e+07</td>\n",
       "      <td>1.889136</td>\n",
       "      <td>0.250906</td>\n",
       "    </tr>\n",
       "    <tr>\n",
       "      <th>min</th>\n",
       "      <td>1.000000</td>\n",
       "      <td>201401.000000</td>\n",
       "      <td>1.000000</td>\n",
       "      <td>0.000000</td>\n",
       "      <td>0.000000e+00</td>\n",
       "      <td>0.000000</td>\n",
       "      <td>0.000000e+00</td>\n",
       "      <td>-3.467127e+08</td>\n",
       "      <td>-2.485206e+08</td>\n",
       "      <td>1.000000</td>\n",
       "      <td>0.000000</td>\n",
       "    </tr>\n",
       "    <tr>\n",
       "      <th>25%</th>\n",
       "      <td>237.000000</td>\n",
       "      <td>201409.000000</td>\n",
       "      <td>76.000000</td>\n",
       "      <td>38.000000</td>\n",
       "      <td>3.072750e+06</td>\n",
       "      <td>33.000000</td>\n",
       "      <td>3.148068e+06</td>\n",
       "      <td>-7.895864e+06</td>\n",
       "      <td>-1.868002e+06</td>\n",
       "      <td>2.000000</td>\n",
       "      <td>0.000000</td>\n",
       "    </tr>\n",
       "    <tr>\n",
       "      <th>50%</th>\n",
       "      <td>479.000000</td>\n",
       "      <td>201505.000000</td>\n",
       "      <td>129.000000</td>\n",
       "      <td>66.000000</td>\n",
       "      <td>6.822769e+06</td>\n",
       "      <td>56.000000</td>\n",
       "      <td>6.934694e+06</td>\n",
       "      <td>-2.957198e+06</td>\n",
       "      <td>1.040998e+06</td>\n",
       "      <td>3.000000</td>\n",
       "      <td>0.000000</td>\n",
       "    </tr>\n",
       "    <tr>\n",
       "      <th>75%</th>\n",
       "      <td>721.000000</td>\n",
       "      <td>201601.000000</td>\n",
       "      <td>205.000000</td>\n",
       "      <td>101.000000</td>\n",
       "      <td>1.386656e+07</td>\n",
       "      <td>102.000000</td>\n",
       "      <td>1.394257e+07</td>\n",
       "      <td>1.690275e+04</td>\n",
       "      <td>5.806224e+06</td>\n",
       "      <td>4.000000</td>\n",
       "      <td>0.000000</td>\n",
       "    </tr>\n",
       "    <tr>\n",
       "      <th>max</th>\n",
       "      <td>1000.000000</td>\n",
       "      <td>201608.000000</td>\n",
       "      <td>6341.000000</td>\n",
       "      <td>1590.000000</td>\n",
       "      <td>7.980480e+08</td>\n",
       "      <td>6325.000000</td>\n",
       "      <td>8.775321e+08</td>\n",
       "      <td>2.109783e+08</td>\n",
       "      <td>3.722319e+08</td>\n",
       "      <td>7.000000</td>\n",
       "      <td>1.000000</td>\n",
       "    </tr>\n",
       "  </tbody>\n",
       "</table>\n",
       "</div>"
      ],
      "text/plain": [
       "          client_nr      yearmonth  total_nr_trx  nr_debit_trx  \\\n",
       "count  29996.000000   29996.000000  29996.000000  29996.000000   \n",
       "mean     481.560775  201493.675157    166.427957     75.785571   \n",
       "std      281.317753      77.361645    220.947519     60.063496   \n",
       "min        1.000000  201401.000000      1.000000      0.000000   \n",
       "25%      237.000000  201409.000000     76.000000     38.000000   \n",
       "50%      479.000000  201505.000000    129.000000     66.000000   \n",
       "75%      721.000000  201601.000000    205.000000    101.000000   \n",
       "max     1000.000000  201608.000000   6341.000000   1590.000000   \n",
       "\n",
       "       volume_debit_trx  nr_credit_trx  volume_credit_trx   min_balance  \\\n",
       "count      2.999600e+04   29996.000000       2.999600e+04  2.999600e+04   \n",
       "mean       1.121290e+07      90.642386       1.126906e+07 -5.523773e+06   \n",
       "std        1.617596e+07     192.244770       1.624998e+07  1.357517e+07   \n",
       "min        0.000000e+00       0.000000       0.000000e+00 -3.467127e+08   \n",
       "25%        3.072750e+06      33.000000       3.148068e+06 -7.895864e+06   \n",
       "50%        6.822769e+06      56.000000       6.934694e+06 -2.957198e+06   \n",
       "75%        1.386656e+07     102.000000       1.394257e+07  1.690275e+04   \n",
       "max        7.980480e+08    6325.000000       8.775321e+08  2.109783e+08   \n",
       "\n",
       "        max_balance           CRG  credit_application  \n",
       "count  2.999600e+04  24459.000000        29996.000000  \n",
       "mean   3.752693e+06      3.251850            0.067509  \n",
       "std    1.616937e+07      1.889136            0.250906  \n",
       "min   -2.485206e+08      1.000000            0.000000  \n",
       "25%   -1.868002e+06      2.000000            0.000000  \n",
       "50%    1.040998e+06      3.000000            0.000000  \n",
       "75%    5.806224e+06      4.000000            0.000000  \n",
       "max    3.722319e+08      7.000000            1.000000  "
      ]
     },
     "execution_count": 5,
     "metadata": {},
     "output_type": "execute_result"
    }
   ],
   "source": [
    "df_complete_data.describe()"
   ]
  },
  {
   "cell_type": "code",
   "execution_count": 6,
   "metadata": {},
   "outputs": [
    {
     "data": {
      "text/plain": [
       "<Axes: xlabel='credit_application', ylabel='count'>"
      ]
     },
     "execution_count": 6,
     "metadata": {},
     "output_type": "execute_result"
    },
    {
     "data": {
      "image/png": "[encoded data removed]",
      "text/plain": [
       "<Figure size 640x480 with 1 Axes>"
      ]
     },
     "metadata": {},
     "output_type": "display_data"
    }
   ],
   "source": [
    "sns.countplot(x=df_complete_data[\"credit_application\"])\n",
    "\n",
    "# 0    27971\n",
    "# 1     2025"
   ]
  },
  {
   "cell_type": "code",
   "execution_count": 7,
   "metadata": {},
   "outputs": [
    {
     "data": {
      "text/html": [
       "<div>\n",
       "<style scoped>\n",
       "    .dataframe tbody tr th:only-of-type {\n",
       "        vertical-align: middle;\n",
       "    }\n",
       "\n",
       "    .dataframe tbody tr th {\n",
       "        vertical-align: top;\n",
       "    }\n",
       "\n",
       "    .dataframe thead th {\n",
       "        text-align: right;\n",
       "    }\n",
       "</style>\n",
       "<table border=\"1\" class=\"dataframe\">\n",
       "  <thead>\n",
       "    <tr style=\"text-align: right;\">\n",
       "      <th></th>\n",
       "      <th>Missing Values</th>\n",
       "      <th>Percentage of missing values</th>\n",
       "    </tr>\n",
       "  </thead>\n",
       "  <tbody>\n",
       "    <tr>\n",
       "      <th>client_nr</th>\n",
       "      <td>0</td>\n",
       "      <td>0.000000</td>\n",
       "    </tr>\n",
       "    <tr>\n",
       "      <th>yearmonth</th>\n",
       "      <td>0</td>\n",
       "      <td>0.000000</td>\n",
       "    </tr>\n",
       "    <tr>\n",
       "      <th>total_nr_trx</th>\n",
       "      <td>0</td>\n",
       "      <td>0.000000</td>\n",
       "    </tr>\n",
       "    <tr>\n",
       "      <th>nr_debit_trx</th>\n",
       "      <td>0</td>\n",
       "      <td>0.000000</td>\n",
       "    </tr>\n",
       "    <tr>\n",
       "      <th>volume_debit_trx</th>\n",
       "      <td>0</td>\n",
       "      <td>0.000000</td>\n",
       "    </tr>\n",
       "    <tr>\n",
       "      <th>nr_credit_trx</th>\n",
       "      <td>0</td>\n",
       "      <td>0.000000</td>\n",
       "    </tr>\n",
       "    <tr>\n",
       "      <th>volume_credit_trx</th>\n",
       "      <td>0</td>\n",
       "      <td>0.000000</td>\n",
       "    </tr>\n",
       "    <tr>\n",
       "      <th>min_balance</th>\n",
       "      <td>0</td>\n",
       "      <td>0.000000</td>\n",
       "    </tr>\n",
       "    <tr>\n",
       "      <th>max_balance</th>\n",
       "      <td>0</td>\n",
       "      <td>0.000000</td>\n",
       "    </tr>\n",
       "    <tr>\n",
       "      <th>CRG</th>\n",
       "      <td>5537</td>\n",
       "      <td>18.459128</td>\n",
       "    </tr>\n",
       "    <tr>\n",
       "      <th>credit_application</th>\n",
       "      <td>0</td>\n",
       "      <td>0.000000</td>\n",
       "    </tr>\n",
       "  </tbody>\n",
       "</table>\n",
       "</div>"
      ],
      "text/plain": [
       "                    Missing Values  Percentage of missing values\n",
       "client_nr                        0                      0.000000\n",
       "yearmonth                        0                      0.000000\n",
       "total_nr_trx                     0                      0.000000\n",
       "nr_debit_trx                     0                      0.000000\n",
       "volume_debit_trx                 0                      0.000000\n",
       "nr_credit_trx                    0                      0.000000\n",
       "volume_credit_trx                0                      0.000000\n",
       "min_balance                      0                      0.000000\n",
       "max_balance                      0                      0.000000\n",
       "CRG                           5537                     18.459128\n",
       "credit_application               0                      0.000000"
      ]
     },
     "execution_count": 7,
     "metadata": {},
     "output_type": "execute_result"
    }
   ],
   "source": [
    "prepos.missing_values_intable(df_complete_data)"
   ]
  },
  {
   "cell_type": "code",
   "execution_count": 8,
   "metadata": {},
   "outputs": [
    {
     "data": {
      "text/plain": [
       "<Axes: >"
      ]
     },
     "execution_count": 8,
     "metadata": {},
     "output_type": "execute_result"
    },
    {
     "data": {
      "image/png": "[encoded data removed]",
      "text/plain": [
       "<Figure size 640x480 with 2 Axes>"
      ]
     },
     "metadata": {},
     "output_type": "display_data"
    }
   ],
   "source": [
    "corl= df_complete_data.corr()\n",
    "sns.heatmap(corl, \n",
    "            xticklabels=corl.columns.values,\n",
    "            yticklabels=corl.columns.values)\n",
    "\n"
   ]
  },
  {
   "cell_type": "code",
   "execution_count": 9,
   "metadata": {
    "scrolled": true
   },
   "outputs": [
    {
     "name": "stdout",
     "output_type": "stream",
     "text": [
      "Removing columns: []\n",
      "['min_balance', 'CRG', 'credit_application']\n",
      "credit_application    1.00\n",
      "CRG                   0.13\n",
      "min_balance           0.08\n",
      "max_balance           0.04\n",
      "nr_debit_trx          0.03\n",
      "client_nr             0.02\n",
      "yearmonth             0.01\n",
      "volume_debit_trx      0.01\n",
      "nr_credit_trx         0.01\n",
      "volume_credit_trx     0.01\n",
      "total_nr_trx          0.00\n",
      "Name: credit_application, dtype: float64\n"
     ]
    }
   ],
   "source": [
    "\n",
    "# fimp=feature_importances()\n",
    "X_train_feature_selection, accepted_columns,assoc_result,disallowed_columns = filter_out_features_based_on_statistical_approach(df_complete_data,[],\"credit_application\")\n",
    "print(accepted_columns)\n",
    "print(assoc_result[\"credit_application\"].sort_values(ascending=False))"
   ]
  },
  {
   "cell_type": "code",
   "execution_count": 10,
   "metadata": {},
   "outputs": [
    {
     "data": {
      "text/html": [
       "<div>\n",
       "<style scoped>\n",
       "    .dataframe tbody tr th:only-of-type {\n",
       "        vertical-align: middle;\n",
       "    }\n",
       "\n",
       "    .dataframe tbody tr th {\n",
       "        vertical-align: top;\n",
       "    }\n",
       "\n",
       "    .dataframe thead th {\n",
       "        text-align: right;\n",
       "    }\n",
       "</style>\n",
       "<table border=\"1\" class=\"dataframe\">\n",
       "  <thead>\n",
       "    <tr style=\"text-align: right;\">\n",
       "      <th></th>\n",
       "      <th>client_nr</th>\n",
       "      <th>yearmonth</th>\n",
       "      <th>total_nr_trx</th>\n",
       "      <th>nr_debit_trx</th>\n",
       "      <th>volume_debit_trx</th>\n",
       "      <th>nr_credit_trx</th>\n",
       "      <th>volume_credit_trx</th>\n",
       "      <th>min_balance</th>\n",
       "      <th>max_balance</th>\n",
       "      <th>CRG</th>\n",
       "      <th>credit_application</th>\n",
       "    </tr>\n",
       "  </thead>\n",
       "  <tbody>\n",
       "    <tr>\n",
       "      <th>count</th>\n",
       "      <td>24459.000000</td>\n",
       "      <td>24459.000000</td>\n",
       "      <td>24459.000000</td>\n",
       "      <td>24459.000000</td>\n",
       "      <td>2.445900e+04</td>\n",
       "      <td>24459.000000</td>\n",
       "      <td>2.445900e+04</td>\n",
       "      <td>2.445900e+04</td>\n",
       "      <td>2.445900e+04</td>\n",
       "      <td>24459.000000</td>\n",
       "      <td>24459.000000</td>\n",
       "    </tr>\n",
       "    <tr>\n",
       "      <th>mean</th>\n",
       "      <td>469.299317</td>\n",
       "      <td>201493.476471</td>\n",
       "      <td>161.691974</td>\n",
       "      <td>78.912875</td>\n",
       "      <td>1.054171e+07</td>\n",
       "      <td>82.779100</td>\n",
       "      <td>1.057677e+07</td>\n",
       "      <td>-6.704420e+06</td>\n",
       "      <td>1.837832e+06</td>\n",
       "      <td>3.251850</td>\n",
       "      <td>0.076986</td>\n",
       "    </tr>\n",
       "    <tr>\n",
       "      <th>std</th>\n",
       "      <td>273.731117</td>\n",
       "      <td>77.314666</td>\n",
       "      <td>134.775849</td>\n",
       "      <td>55.771395</td>\n",
       "      <td>1.410595e+07</td>\n",
       "      <td>92.514359</td>\n",
       "      <td>1.403486e+07</td>\n",
       "      <td>1.324650e+07</td>\n",
       "      <td>1.369087e+07</td>\n",
       "      <td>1.889136</td>\n",
       "      <td>0.266575</td>\n",
       "    </tr>\n",
       "    <tr>\n",
       "      <th>min</th>\n",
       "      <td>1.000000</td>\n",
       "      <td>201401.000000</td>\n",
       "      <td>1.000000</td>\n",
       "      <td>0.000000</td>\n",
       "      <td>0.000000e+00</td>\n",
       "      <td>0.000000</td>\n",
       "      <td>0.000000e+00</td>\n",
       "      <td>-3.467127e+08</td>\n",
       "      <td>-1.986447e+08</td>\n",
       "      <td>1.000000</td>\n",
       "      <td>0.000000</td>\n",
       "    </tr>\n",
       "    <tr>\n",
       "      <th>25%</th>\n",
       "      <td>237.000000</td>\n",
       "      <td>201409.000000</td>\n",
       "      <td>82.000000</td>\n",
       "      <td>42.000000</td>\n",
       "      <td>3.300231e+06</td>\n",
       "      <td>34.000000</td>\n",
       "      <td>3.338818e+06</td>\n",
       "      <td>-8.998246e+06</td>\n",
       "      <td>-2.839296e+06</td>\n",
       "      <td>2.000000</td>\n",
       "      <td>0.000000</td>\n",
       "    </tr>\n",
       "    <tr>\n",
       "      <th>50%</th>\n",
       "      <td>463.000000</td>\n",
       "      <td>201505.000000</td>\n",
       "      <td>131.000000</td>\n",
       "      <td>68.000000</td>\n",
       "      <td>6.783566e+06</td>\n",
       "      <td>57.000000</td>\n",
       "      <td>6.839510e+06</td>\n",
       "      <td>-4.164044e+06</td>\n",
       "      <td>5.269600e+05</td>\n",
       "      <td>3.000000</td>\n",
       "      <td>0.000000</td>\n",
       "    </tr>\n",
       "    <tr>\n",
       "      <th>75%</th>\n",
       "      <td>691.000000</td>\n",
       "      <td>201512.000000</td>\n",
       "      <td>204.000000</td>\n",
       "      <td>103.000000</td>\n",
       "      <td>1.311511e+07</td>\n",
       "      <td>100.000000</td>\n",
       "      <td>1.318977e+07</td>\n",
       "      <td>-9.432600e+04</td>\n",
       "      <td>4.290830e+06</td>\n",
       "      <td>4.000000</td>\n",
       "      <td>0.000000</td>\n",
       "    </tr>\n",
       "    <tr>\n",
       "      <th>max</th>\n",
       "      <td>988.000000</td>\n",
       "      <td>201608.000000</td>\n",
       "      <td>1830.000000</td>\n",
       "      <td>567.000000</td>\n",
       "      <td>3.685273e+08</td>\n",
       "      <td>1506.000000</td>\n",
       "      <td>4.000308e+08</td>\n",
       "      <td>5.683120e+07</td>\n",
       "      <td>1.386983e+08</td>\n",
       "      <td>7.000000</td>\n",
       "      <td>1.000000</td>\n",
       "    </tr>\n",
       "  </tbody>\n",
       "</table>\n",
       "</div>"
      ],
      "text/plain": [
       "          client_nr      yearmonth  total_nr_trx  nr_debit_trx  \\\n",
       "count  24459.000000   24459.000000  24459.000000  24459.000000   \n",
       "mean     469.299317  201493.476471    161.691974     78.912875   \n",
       "std      273.731117      77.314666    134.775849     55.771395   \n",
       "min        1.000000  201401.000000      1.000000      0.000000   \n",
       "25%      237.000000  201409.000000     82.000000     42.000000   \n",
       "50%      463.000000  201505.000000    131.000000     68.000000   \n",
       "75%      691.000000  201512.000000    204.000000    103.000000   \n",
       "max      988.000000  201608.000000   1830.000000    567.000000   \n",
       "\n",
       "       volume_debit_trx  nr_credit_trx  volume_credit_trx   min_balance  \\\n",
       "count      2.445900e+04   24459.000000       2.445900e+04  2.445900e+04   \n",
       "mean       1.054171e+07      82.779100       1.057677e+07 -6.704420e+06   \n",
       "std        1.410595e+07      92.514359       1.403486e+07  1.324650e+07   \n",
       "min        0.000000e+00       0.000000       0.000000e+00 -3.467127e+08   \n",
       "25%        3.300231e+06      34.000000       3.338818e+06 -8.998246e+06   \n",
       "50%        6.783566e+06      57.000000       6.839510e+06 -4.164044e+06   \n",
       "75%        1.311511e+07     100.000000       1.318977e+07 -9.432600e+04   \n",
       "max        3.685273e+08    1506.000000       4.000308e+08  5.683120e+07   \n",
       "\n",
       "        max_balance           CRG  credit_application  \n",
       "count  2.445900e+04  24459.000000        24459.000000  \n",
       "mean   1.837832e+06      3.251850            0.076986  \n",
       "std    1.369087e+07      1.889136            0.266575  \n",
       "min   -1.986447e+08      1.000000            0.000000  \n",
       "25%   -2.839296e+06      2.000000            0.000000  \n",
       "50%    5.269600e+05      3.000000            0.000000  \n",
       "75%    4.290830e+06      4.000000            0.000000  \n",
       "max    1.386983e+08      7.000000            1.000000  "
      ]
     },
     "execution_count": 10,
     "metadata": {},
     "output_type": "execute_result"
    }
   ],
   "source": [
    "df_complete_data = df_complete_data[~df_complete_data[\"CRG\"].isna()]\n",
    "df_complete_data.describe()"
   ]
  },
  {
   "cell_type": "code",
   "execution_count": 11,
   "metadata": {},
   "outputs": [],
   "source": [
    "df_credit_applied = df_complete_data[df_complete_data[\"credit_application\"]==1]\n",
    "df_credit_not_applied = df_complete_data[df_complete_data[\"credit_application\"]==0]\n"
   ]
  },
  {
   "cell_type": "code",
   "execution_count": 12,
   "metadata": {},
   "outputs": [
    {
     "data": {
      "text/html": [
       "<div>\n",
       "<style scoped>\n",
       "    .dataframe tbody tr th:only-of-type {\n",
       "        vertical-align: middle;\n",
       "    }\n",
       "\n",
       "    .dataframe tbody tr th {\n",
       "        vertical-align: top;\n",
       "    }\n",
       "\n",
       "    .dataframe thead th {\n",
       "        text-align: right;\n",
       "    }\n",
       "</style>\n",
       "<table border=\"1\" class=\"dataframe\">\n",
       "  <thead>\n",
       "    <tr style=\"text-align: right;\">\n",
       "      <th></th>\n",
       "      <th>client_nr</th>\n",
       "      <th>yearmonth</th>\n",
       "      <th>total_nr_trx</th>\n",
       "      <th>nr_debit_trx</th>\n",
       "      <th>volume_debit_trx</th>\n",
       "      <th>nr_credit_trx</th>\n",
       "      <th>volume_credit_trx</th>\n",
       "      <th>min_balance</th>\n",
       "      <th>max_balance</th>\n",
       "      <th>CRG</th>\n",
       "      <th>credit_application</th>\n",
       "    </tr>\n",
       "  </thead>\n",
       "  <tbody>\n",
       "    <tr>\n",
       "      <th>count</th>\n",
       "      <td>1883.000000</td>\n",
       "      <td>1883.000000</td>\n",
       "      <td>1883.000000</td>\n",
       "      <td>1883.000000</td>\n",
       "      <td>1.883000e+03</td>\n",
       "      <td>1883.000000</td>\n",
       "      <td>1.883000e+03</td>\n",
       "      <td>1.883000e+03</td>\n",
       "      <td>1.883000e+03</td>\n",
       "      <td>1883.000000</td>\n",
       "      <td>1883.0</td>\n",
       "    </tr>\n",
       "    <tr>\n",
       "      <th>mean</th>\n",
       "      <td>500.077536</td>\n",
       "      <td>201491.560276</td>\n",
       "      <td>164.551779</td>\n",
       "      <td>82.551779</td>\n",
       "      <td>1.091583e+07</td>\n",
       "      <td>82.000000</td>\n",
       "      <td>1.103553e+07</td>\n",
       "      <td>-9.219318e+06</td>\n",
       "      <td>4.921372e+05</td>\n",
       "      <td>3.938396</td>\n",
       "      <td>1.0</td>\n",
       "    </tr>\n",
       "    <tr>\n",
       "      <th>std</th>\n",
       "      <td>278.853672</td>\n",
       "      <td>74.600858</td>\n",
       "      <td>118.688574</td>\n",
       "      <td>54.472934</td>\n",
       "      <td>1.426407e+07</td>\n",
       "      <td>75.491609</td>\n",
       "      <td>1.381656e+07</td>\n",
       "      <td>1.396383e+07</td>\n",
       "      <td>9.967135e+06</td>\n",
       "      <td>2.007273</td>\n",
       "      <td>0.0</td>\n",
       "    </tr>\n",
       "    <tr>\n",
       "      <th>min</th>\n",
       "      <td>3.000000</td>\n",
       "      <td>201401.000000</td>\n",
       "      <td>3.000000</td>\n",
       "      <td>1.000000</td>\n",
       "      <td>1.640000e+03</td>\n",
       "      <td>0.000000</td>\n",
       "      <td>0.000000e+00</td>\n",
       "      <td>-2.512930e+08</td>\n",
       "      <td>-4.969930e+07</td>\n",
       "      <td>1.000000</td>\n",
       "      <td>1.0</td>\n",
       "    </tr>\n",
       "    <tr>\n",
       "      <th>25%</th>\n",
       "      <td>261.000000</td>\n",
       "      <td>201409.000000</td>\n",
       "      <td>88.000000</td>\n",
       "      <td>46.000000</td>\n",
       "      <td>3.596187e+06</td>\n",
       "      <td>37.000000</td>\n",
       "      <td>3.597184e+06</td>\n",
       "      <td>-1.246202e+07</td>\n",
       "      <td>-3.286638e+06</td>\n",
       "      <td>3.000000</td>\n",
       "      <td>1.0</td>\n",
       "    </tr>\n",
       "    <tr>\n",
       "      <th>50%</th>\n",
       "      <td>518.000000</td>\n",
       "      <td>201505.000000</td>\n",
       "      <td>136.000000</td>\n",
       "      <td>72.000000</td>\n",
       "      <td>6.928000e+06</td>\n",
       "      <td>58.000000</td>\n",
       "      <td>7.219140e+06</td>\n",
       "      <td>-5.901753e+06</td>\n",
       "      <td>2.122350e+05</td>\n",
       "      <td>3.000000</td>\n",
       "      <td>1.0</td>\n",
       "    </tr>\n",
       "    <tr>\n",
       "      <th>75%</th>\n",
       "      <td>728.000000</td>\n",
       "      <td>201512.000000</td>\n",
       "      <td>211.000000</td>\n",
       "      <td>109.000000</td>\n",
       "      <td>1.315141e+07</td>\n",
       "      <td>102.000000</td>\n",
       "      <td>1.331102e+07</td>\n",
       "      <td>-2.304337e+06</td>\n",
       "      <td>2.955748e+06</td>\n",
       "      <td>7.000000</td>\n",
       "      <td>1.0</td>\n",
       "    </tr>\n",
       "    <tr>\n",
       "      <th>max</th>\n",
       "      <td>987.000000</td>\n",
       "      <td>201608.000000</td>\n",
       "      <td>1632.000000</td>\n",
       "      <td>567.000000</td>\n",
       "      <td>2.230778e+08</td>\n",
       "      <td>1226.000000</td>\n",
       "      <td>1.916246e+08</td>\n",
       "      <td>1.727436e+07</td>\n",
       "      <td>1.147000e+08</td>\n",
       "      <td>7.000000</td>\n",
       "      <td>1.0</td>\n",
       "    </tr>\n",
       "  </tbody>\n",
       "</table>\n",
       "</div>"
      ],
      "text/plain": [
       "         client_nr      yearmonth  total_nr_trx  nr_debit_trx  \\\n",
       "count  1883.000000    1883.000000   1883.000000   1883.000000   \n",
       "mean    500.077536  201491.560276    164.551779     82.551779   \n",
       "std     278.853672      74.600858    118.688574     54.472934   \n",
       "min       3.000000  201401.000000      3.000000      1.000000   \n",
       "25%     261.000000  201409.000000     88.000000     46.000000   \n",
       "50%     518.000000  201505.000000    136.000000     72.000000   \n",
       "75%     728.000000  201512.000000    211.000000    109.000000   \n",
       "max     987.000000  201608.000000   1632.000000    567.000000   \n",
       "\n",
       "       volume_debit_trx  nr_credit_trx  volume_credit_trx   min_balance  \\\n",
       "count      1.883000e+03    1883.000000       1.883000e+03  1.883000e+03   \n",
       "mean       1.091583e+07      82.000000       1.103553e+07 -9.219318e+06   \n",
       "std        1.426407e+07      75.491609       1.381656e+07  1.396383e+07   \n",
       "min        1.640000e+03       0.000000       0.000000e+00 -2.512930e+08   \n",
       "25%        3.596187e+06      37.000000       3.597184e+06 -1.246202e+07   \n",
       "50%        6.928000e+06      58.000000       7.219140e+06 -5.901753e+06   \n",
       "75%        1.315141e+07     102.000000       1.331102e+07 -2.304337e+06   \n",
       "max        2.230778e+08    1226.000000       1.916246e+08  1.727436e+07   \n",
       "\n",
       "        max_balance          CRG  credit_application  \n",
       "count  1.883000e+03  1883.000000              1883.0  \n",
       "mean   4.921372e+05     3.938396                 1.0  \n",
       "std    9.967135e+06     2.007273                 0.0  \n",
       "min   -4.969930e+07     1.000000                 1.0  \n",
       "25%   -3.286638e+06     3.000000                 1.0  \n",
       "50%    2.122350e+05     3.000000                 1.0  \n",
       "75%    2.955748e+06     7.000000                 1.0  \n",
       "max    1.147000e+08     7.000000                 1.0  "
      ]
     },
     "execution_count": 12,
     "metadata": {},
     "output_type": "execute_result"
    }
   ],
   "source": [
    "df_credit_applied.describe()"
   ]
  },
  {
   "cell_type": "code",
   "execution_count": 13,
   "metadata": {},
   "outputs": [
    {
     "data": {
      "text/html": [
       "<div>\n",
       "<style scoped>\n",
       "    .dataframe tbody tr th:only-of-type {\n",
       "        vertical-align: middle;\n",
       "    }\n",
       "\n",
       "    .dataframe tbody tr th {\n",
       "        vertical-align: top;\n",
       "    }\n",
       "\n",
       "    .dataframe thead th {\n",
       "        text-align: right;\n",
       "    }\n",
       "</style>\n",
       "<table border=\"1\" class=\"dataframe\">\n",
       "  <thead>\n",
       "    <tr style=\"text-align: right;\">\n",
       "      <th></th>\n",
       "      <th>client_nr</th>\n",
       "      <th>yearmonth</th>\n",
       "      <th>total_nr_trx</th>\n",
       "      <th>nr_debit_trx</th>\n",
       "      <th>volume_debit_trx</th>\n",
       "      <th>nr_credit_trx</th>\n",
       "      <th>volume_credit_trx</th>\n",
       "      <th>min_balance</th>\n",
       "      <th>max_balance</th>\n",
       "      <th>CRG</th>\n",
       "      <th>credit_application</th>\n",
       "    </tr>\n",
       "  </thead>\n",
       "  <tbody>\n",
       "    <tr>\n",
       "      <th>count</th>\n",
       "      <td>22576.000000</td>\n",
       "      <td>22576.000000</td>\n",
       "      <td>22576.000000</td>\n",
       "      <td>22576.000000</td>\n",
       "      <td>2.257600e+04</td>\n",
       "      <td>22576.000000</td>\n",
       "      <td>2.257600e+04</td>\n",
       "      <td>2.257600e+04</td>\n",
       "      <td>2.257600e+04</td>\n",
       "      <td>22576.000000</td>\n",
       "      <td>22576.0</td>\n",
       "    </tr>\n",
       "    <tr>\n",
       "      <th>mean</th>\n",
       "      <td>466.732193</td>\n",
       "      <td>201493.636295</td>\n",
       "      <td>161.453446</td>\n",
       "      <td>78.609364</td>\n",
       "      <td>1.051050e+07</td>\n",
       "      <td>82.844082</td>\n",
       "      <td>1.053850e+07</td>\n",
       "      <td>-6.494659e+06</td>\n",
       "      <td>1.950073e+06</td>\n",
       "      <td>3.194587</td>\n",
       "      <td>0.0</td>\n",
       "    </tr>\n",
       "    <tr>\n",
       "      <th>std</th>\n",
       "      <td>273.149148</td>\n",
       "      <td>77.536185</td>\n",
       "      <td>136.031344</td>\n",
       "      <td>55.868805</td>\n",
       "      <td>1.409255e+07</td>\n",
       "      <td>93.795805</td>\n",
       "      <td>1.405254e+07</td>\n",
       "      <td>1.316354e+07</td>\n",
       "      <td>1.395094e+07</td>\n",
       "      <td>1.867626</td>\n",
       "      <td>0.0</td>\n",
       "    </tr>\n",
       "    <tr>\n",
       "      <th>min</th>\n",
       "      <td>1.000000</td>\n",
       "      <td>201401.000000</td>\n",
       "      <td>1.000000</td>\n",
       "      <td>0.000000</td>\n",
       "      <td>0.000000e+00</td>\n",
       "      <td>0.000000</td>\n",
       "      <td>0.000000e+00</td>\n",
       "      <td>-3.467127e+08</td>\n",
       "      <td>-1.986447e+08</td>\n",
       "      <td>1.000000</td>\n",
       "      <td>0.0</td>\n",
       "    </tr>\n",
       "    <tr>\n",
       "      <th>25%</th>\n",
       "      <td>236.000000</td>\n",
       "      <td>201408.000000</td>\n",
       "      <td>81.000000</td>\n",
       "      <td>42.000000</td>\n",
       "      <td>3.265849e+06</td>\n",
       "      <td>34.000000</td>\n",
       "      <td>3.314907e+06</td>\n",
       "      <td>-8.733733e+06</td>\n",
       "      <td>-2.801805e+06</td>\n",
       "      <td>2.000000</td>\n",
       "      <td>0.0</td>\n",
       "    </tr>\n",
       "    <tr>\n",
       "      <th>50%</th>\n",
       "      <td>460.000000</td>\n",
       "      <td>201504.000000</td>\n",
       "      <td>130.000000</td>\n",
       "      <td>68.000000</td>\n",
       "      <td>6.771628e+06</td>\n",
       "      <td>57.000000</td>\n",
       "      <td>6.812971e+06</td>\n",
       "      <td>-4.001845e+06</td>\n",
       "      <td>5.600740e+05</td>\n",
       "      <td>3.000000</td>\n",
       "      <td>0.0</td>\n",
       "    </tr>\n",
       "    <tr>\n",
       "      <th>75%</th>\n",
       "      <td>688.000000</td>\n",
       "      <td>201601.000000</td>\n",
       "      <td>204.000000</td>\n",
       "      <td>103.000000</td>\n",
       "      <td>1.310775e+07</td>\n",
       "      <td>100.000000</td>\n",
       "      <td>1.317681e+07</td>\n",
       "      <td>-2.916450e+04</td>\n",
       "      <td>4.382616e+06</td>\n",
       "      <td>4.000000</td>\n",
       "      <td>0.0</td>\n",
       "    </tr>\n",
       "    <tr>\n",
       "      <th>max</th>\n",
       "      <td>988.000000</td>\n",
       "      <td>201608.000000</td>\n",
       "      <td>1830.000000</td>\n",
       "      <td>565.000000</td>\n",
       "      <td>3.685273e+08</td>\n",
       "      <td>1506.000000</td>\n",
       "      <td>4.000308e+08</td>\n",
       "      <td>5.683120e+07</td>\n",
       "      <td>1.386983e+08</td>\n",
       "      <td>7.000000</td>\n",
       "      <td>0.0</td>\n",
       "    </tr>\n",
       "  </tbody>\n",
       "</table>\n",
       "</div>"
      ],
      "text/plain": [
       "          client_nr      yearmonth  total_nr_trx  nr_debit_trx  \\\n",
       "count  22576.000000   22576.000000  22576.000000  22576.000000   \n",
       "mean     466.732193  201493.636295    161.453446     78.609364   \n",
       "std      273.149148      77.536185    136.031344     55.868805   \n",
       "min        1.000000  201401.000000      1.000000      0.000000   \n",
       "25%      236.000000  201408.000000     81.000000     42.000000   \n",
       "50%      460.000000  201504.000000    130.000000     68.000000   \n",
       "75%      688.000000  201601.000000    204.000000    103.000000   \n",
       "max      988.000000  201608.000000   1830.000000    565.000000   \n",
       "\n",
       "       volume_debit_trx  nr_credit_trx  volume_credit_trx   min_balance  \\\n",
       "count      2.257600e+04   22576.000000       2.257600e+04  2.257600e+04   \n",
       "mean       1.051050e+07      82.844082       1.053850e+07 -6.494659e+06   \n",
       "std        1.409255e+07      93.795805       1.405254e+07  1.316354e+07   \n",
       "min        0.000000e+00       0.000000       0.000000e+00 -3.467127e+08   \n",
       "25%        3.265849e+06      34.000000       3.314907e+06 -8.733733e+06   \n",
       "50%        6.771628e+06      57.000000       6.812971e+06 -4.001845e+06   \n",
       "75%        1.310775e+07     100.000000       1.317681e+07 -2.916450e+04   \n",
       "max        3.685273e+08    1506.000000       4.000308e+08  5.683120e+07   \n",
       "\n",
       "        max_balance           CRG  credit_application  \n",
       "count  2.257600e+04  22576.000000             22576.0  \n",
       "mean   1.950073e+06      3.194587                 0.0  \n",
       "std    1.395094e+07      1.867626                 0.0  \n",
       "min   -1.986447e+08      1.000000                 0.0  \n",
       "25%   -2.801805e+06      2.000000                 0.0  \n",
       "50%    5.600740e+05      3.000000                 0.0  \n",
       "75%    4.382616e+06      4.000000                 0.0  \n",
       "max    1.386983e+08      7.000000                 0.0  "
      ]
     },
     "execution_count": 13,
     "metadata": {},
     "output_type": "execute_result"
    }
   ],
   "source": [
    "df_credit_not_applied.describe()"
   ]
  },
  {
   "cell_type": "code",
   "execution_count": 14,
   "metadata": {},
   "outputs": [
    {
     "data": {
      "text/plain": [
       "<Axes: xlabel='CRG', ylabel='count'>"
      ]
     },
     "execution_count": 14,
     "metadata": {},
     "output_type": "execute_result"
    },
    {
     "data": {
      "image/png": "[encoded data removed]",
      "text/plain": [
       "<Figure size 640x480 with 1 Axes>"
      ]
     },
     "metadata": {},
     "output_type": "display_data"
    }
   ],
   "source": [
    "sns.countplot(x=df_credit_applied[\"CRG\"])"
   ]
  },
  {
   "cell_type": "code",
   "execution_count": 15,
   "metadata": {},
   "outputs": [
    {
     "data": {
      "text/plain": [
       "<Axes: xlabel='CRG', ylabel='count'>"
      ]
     },
     "execution_count": 15,
     "metadata": {},
     "output_type": "execute_result"
    },
    {
     "data": {
      "image/png": "[encoded data removed]",
      "text/plain": [
       "<Figure size 640x480 with 1 Axes>"
      ]
     },
     "metadata": {},
     "output_type": "display_data"
    }
   ],
   "source": [
    "sns.countplot(x=df_credit_not_applied[\"CRG\"])"
   ]
  },
  {
   "cell_type": "code",
   "execution_count": 16,
   "metadata": {},
   "outputs": [],
   "source": [
    "plt.rcParams[\"figure.figsize\"] = [3,3]  #set the graph to a smaller size \n"
   ]
  },
  {
   "cell_type": "code",
   "execution_count": 17,
   "metadata": {},
   "outputs": [
    {
     "data": {
      "text/plain": [
       "<Axes: >"
      ]
     },
     "execution_count": 17,
     "metadata": {},
     "output_type": "execute_result"
    },
    {
     "data": {
      "image/png": "[encoded data removed]",
      "text/plain": [
       "<Figure size 300x300 with 1 Axes>"
      ]
     },
     "metadata": {},
     "output_type": "display_data"
    }
   ],
   "source": [
    "df_credit_applied[\"min_balance\"].hist()"
   ]
  },
  {
   "cell_type": "code",
   "execution_count": 18,
   "metadata": {},
   "outputs": [
    {
     "data": {
      "text/plain": [
       "<Axes: >"
      ]
     },
     "execution_count": 18,
     "metadata": {},
     "output_type": "execute_result"
    },
    {
     "data": {
      "image/png": "[encoded data removed]",
      "text/plain": [
       "<Figure size 300x300 with 1 Axes>"
      ]
     },
     "metadata": {},
     "output_type": "display_data"
    }
   ],
   "source": [
    "df_credit_not_applied[\"min_balance\"].hist()"
   ]
  },
  {
   "cell_type": "code",
   "execution_count": 19,
   "metadata": {
    "scrolled": true
   },
   "outputs": [
    {
     "data": {
      "text/plain": [
       "<Axes: >"
      ]
     },
     "execution_count": 19,
     "metadata": {},
     "output_type": "execute_result"
    },
    {
     "data": {
      "image/png": "[encoded data removed]",
      "text/plain": [
       "<Figure size 300x300 with 1 Axes>"
      ]
     },
     "metadata": {},
     "output_type": "display_data"
    }
   ],
   "source": [
    "df_credit_applied[\"max_balance\"].hist()"
   ]
  },
  {
   "cell_type": "code",
   "execution_count": 20,
   "metadata": {},
   "outputs": [
    {
     "data": {
      "text/plain": [
       "<Axes: >"
      ]
     },
     "execution_count": 20,
     "metadata": {},
     "output_type": "execute_result"
    },
    {
     "data": {
      "image/png": "[encoded data removed]",
      "text/plain": [
       "<Figure size 300x300 with 1 Axes>"
      ]
     },
     "metadata": {},
     "output_type": "display_data"
    }
   ],
   "source": [
    "df_credit_not_applied[\"max_balance\"].hist()"
   ]
  },
  {
   "cell_type": "markdown",
   "metadata": {},
   "source": [
    "###### Month and year features and EDA"
   ]
  },
  {
   "cell_type": "code",
   "execution_count": 21,
   "metadata": {},
   "outputs": [],
   "source": [
    "# df_complete_data[\"year_month_str\"]=df_complete_data.yearmonth.astype(str)\n",
    "# df_complete_data[\"month\"]=df_complete_data[\"year_month_str\"].apply(lambda x: x[-2:])\n",
    "# df_complete_data[\"year\"]=df_complete_data[\"year_month_str\"].apply(lambda x: x[:-2])\n",
    "# # df_complete_data[\"year\"]\n",
    "# df_complete_data.drop([\"year_month_str\"],axis=1,inplace=True)\n",
    "# df_complete_data[\"year\"]= df_complete_data[\"year\"].astype(int)\n",
    "# df_complete_data[\"month\"]= df_complete_data[\"year\"].astype(int)\n",
    "# sns.countplot(data=df_complete_data,x=\"month\")\n",
    "# sns.countplot(data=df_credit_applied,x=\"month\")\n",
    "# sns.countplot(data=df_credit_not_applied,x=\"month\")\n",
    "# sns.countplot(data=df_complete_data,x=\"year\")\n",
    "# sns.countplot(data=df_credit_applied,x=\"year\")\n",
    "# sns.countplot(data=df_credit_not_applied,x=\"year\")"
   ]
  },
  {
   "cell_type": "markdown",
   "metadata": {},
   "source": [
    "###### New features ideas\n",
    "<b>1.credit_applied_before_ratio </b> - Calculate how many times client has applied for credit in the past for each month"
   ]
  },
  {
   "cell_type": "code",
   "execution_count": 22,
   "metadata": {},
   "outputs": [],
   "source": [
    "def calculate_nr_credit_in_past(current_index):\n",
    "    client_nr = df_complete_data.loc[[current_index]][\"client_nr\"].values[0]\n",
    "    tmp_sum = df_complete_data[(df_complete_data[\"client_nr\"]==client_nr) & (df_complete_data.index <current_index)][\"credit_application\"].sum()\n",
    "    tmp_cnt = df_complete_data[(df_complete_data[\"client_nr\"]==client_nr) & (df_complete_data.index <current_index)][\"credit_application\"].count()\n",
    "    if(tmp_cnt==0):\n",
    "        return 0\n",
    "    else:\n",
    "        return tmp_sum/tmp_cnt\n",
    "    \n",
    "    \n"
   ]
  },
  {
   "cell_type": "code",
   "execution_count": 23,
   "metadata": {},
   "outputs": [],
   "source": [
    "df_complete_data[\"credit_applied_before_ratio\"]= df_complete_data.index.map(calculate_nr_credit_in_past)"
   ]
  },
  {
   "cell_type": "markdown",
   "metadata": {},
   "source": [
    " ###### 2. debit_credit_ratio\n",
    " From the outside, I'd expect customer will need loan if debit amount is roughly about 80% or more of credit amount.\n",
    " <br>e.g: If my expense(debit_amount) is more than salary(credit), its natural to have the need for the credit. "
   ]
  },
  {
   "cell_type": "code",
   "execution_count": 24,
   "metadata": {},
   "outputs": [],
   "source": [
    "# plt.rcParams[\"figure.figsize\"] = [5,5]  #set the graph to a smaller size \n",
    "df_complete_data[\"debit_credit_ratio\"]=df_complete_data[\"volume_debit_trx\"]/df_complete_data[\"volume_credit_trx\"]\n",
    "df_complete_data[\"debit_credit_ratio\"] = np.where(df_complete_data[\"debit_credit_ratio\"]==np.inf,df_complete_data[\"volume_debit_trx\"],df_complete_data[\"debit_credit_ratio\"])"
   ]
  },
  {
   "cell_type": "markdown",
   "metadata": {},
   "source": [
    " ###### 3.Is_debit_more_average\n",
    " \n",
    " Is volume_debit_trx is more than the average of the volume_debit_trx for that client\n",
    " <br>If yes 1 else 0"
   ]
  },
  {
   "cell_type": "code",
   "execution_count": 25,
   "metadata": {},
   "outputs": [],
   "source": [
    "# debit_average_per_client = df_complete_data.groupby([\"client_nr\"]).mean()[\"volume_debit_trx\"].reset_index()\n",
    "# df_complete_data[\"debit_average_per_client\"] = df_complete_data[\"client_nr\"].apply(lambda x: debit_average_per_client[debit_average_per_client[\"client_nr\"]==x][\"volume_debit_trx\"].values[0])\n",
    "# df_complete_data[\"Is_debit_more_average\"]=np.where(df_complete_data[\"debit_average_per_client\"] < df_complete_data[\"volume_debit_trx\"],1,0)\n",
    "# df_complete_data.drop([\"debit_average_per_client\"],axis=1,inplace=True)"
   ]
  },
  {
   "cell_type": "markdown",
   "metadata": {},
   "source": [
    "#### Split data strategy\n",
    "\n",
    "As part of train/test data split, 20% of data will be reserved as test data and will not seen by any model.\n",
    "<br>That amounts to approximately = 6 months worth of data.\n",
    "<br>Instead of splitting train/test data randomly, I decided to leave last 6 month data as test data set i.e. March 2016 to August 2016"
   ]
  },
  {
   "cell_type": "code",
   "execution_count": 26,
   "metadata": {},
   "outputs": [],
   "source": [
    "def Split_data(df_complete_data):\n",
    "    X_test = df_complete_data[df_complete_data[\"yearmonth\"].isin([201608,201607,201606,201605,201604,201603])].copy()\n",
    "    y_test = X_test[\"credit_application\"]\n",
    "\n",
    "    X_train_org = df_complete_data[~df_complete_data[\"yearmonth\"].isin([201608,201607,201606,201605,201604,201603])].copy()\n",
    "    y_train_org = X_train_org[\"credit_application\"]\n",
    "\n",
    "    X_train,X_val,y_train,y_val=train_test_split(X_train_org,X_train_org[\"credit_application\"],test_size=0.2,random_state=42,stratify=X_train_org[\"credit_application\"])\n",
    "\n",
    "    X_test.drop([\"credit_application\"],axis=1,inplace=True)\n",
    "    X_train_org.drop([\"credit_application\",\"client_nr\"],axis=1,inplace=True)\n",
    "    X_train.drop([\"credit_application\",\"client_nr\"],axis=1,inplace=True)\n",
    "    X_val.drop([\"credit_application\",\"client_nr\"],axis=1,inplace=True)\n",
    "    \n",
    "    return X_train_org,X_train,X_val,X_test,y_train_org,y_train,y_test,y_val\n",
    "    "
   ]
  },
  {
   "cell_type": "code",
   "execution_count": 27,
   "metadata": {},
   "outputs": [],
   "source": [
    "X_train_org,X_train,X_val,X_test,y_train_org,y_train,y_test,y_val=Split_data(df_complete_data)"
   ]
  },
  {
   "cell_type": "markdown",
   "metadata": {},
   "source": [
    "##### 2. Using Lightgbm feature importance"
   ]
  },
  {
   "cell_type": "code",
   "execution_count": 28,
   "metadata": {},
   "outputs": [],
   "source": [
    "\n",
    "params_scope = {\n",
    "    'learning_rate': hp.uniform('learning_rate', 0.001, 0.1),\n",
    "    'num_leaves': hp.quniform('num_leaves', 2, 15, 1),\n",
    "    'n_estimators': hp.quniform('n_estimators', 10, 500, 10),\n",
    "    'scale_pos_weight': hp.quniform('scale_pos_weight', 5, 100, 5),\n",
    "    'reg_lambda ': hp.uniform('reg_lambda', 10.00, 100.0),\n",
    "    'pos_bagging_fraction': hp.uniform('pos_bagging_fraction', 0.0, 1.0),\n",
    "    'max_bin': hp.quniform('max_bin', 16, 256, 16)\n",
    "                            }\n"
   ]
  },
  {
   "cell_type": "code",
   "execution_count": 29,
   "metadata": {
    "scrolled": true
   },
   "outputs": [
    {
     "name": "stdout",
     "output_type": "stream",
     "text": [
      "100%|██████████████████████████████████████████████| 250/250 [02:48<00:00,  1.48trial/s, best loss: 0.7542857142857142]\n"
     ]
    },
    {
     "name": "stderr",
     "output_type": "stream",
     "text": [
      "C:\\Users\\vishalra\\Anaconda3\\envs\\nlp_tasks\\lib\\site-packages\\lightgbm\\sklearn.py:736: UserWarning: 'verbose' argument is deprecated and will be removed in a future release of LightGBM. Pass 'log_evaluation()' callback via 'callbacks' argument instead.\n",
      "  _log_warning(\"'verbose' argument is deprecated and will be removed in a future release of LightGBM. \"\n"
     ]
    }
   ],
   "source": [
    "model,initial_params = feature_imp_lgbm(X_train,y_train,X_val,y_val,params_scope)\n",
    "feature_imp_df = pd.DataFrame(data={'feature_name':model.feature_name_,\n",
    "                   'feature_importance':model.feature_importances_},\n",
    "            \n",
    "            )\n",
    "feature_imp_df.sort_values(by=\"feature_importance\",ascending=False,inplace=True)"
   ]
  },
  {
   "cell_type": "code",
   "execution_count": 30,
   "metadata": {},
   "outputs": [
    {
     "name": "stdout",
     "output_type": "stream",
     "text": [
      "{'learning_rate': 0.014673918807559042, 'max_bin': 112.0, 'n_estimators': 100.0, 'num_leaves': 11.0, 'pos_bagging_fraction': 0.9332269881860231, 'reg_lambda': 55.281614179062075, 'scale_pos_weight': 15.0}\n"
     ]
    },
    {
     "data": {
      "text/html": [
       "<div>\n",
       "<style scoped>\n",
       "    .dataframe tbody tr th:only-of-type {\n",
       "        vertical-align: middle;\n",
       "    }\n",
       "\n",
       "    .dataframe tbody tr th {\n",
       "        vertical-align: top;\n",
       "    }\n",
       "\n",
       "    .dataframe thead th {\n",
       "        text-align: right;\n",
       "    }\n",
       "</style>\n",
       "<table border=\"1\" class=\"dataframe\">\n",
       "  <thead>\n",
       "    <tr style=\"text-align: right;\">\n",
       "      <th></th>\n",
       "      <th>feature_name</th>\n",
       "      <th>feature_importance</th>\n",
       "    </tr>\n",
       "  </thead>\n",
       "  <tbody>\n",
       "    <tr>\n",
       "      <th>6</th>\n",
       "      <td>min_balance</td>\n",
       "      <td>158</td>\n",
       "    </tr>\n",
       "    <tr>\n",
       "      <th>8</th>\n",
       "      <td>CRG</td>\n",
       "      <td>152</td>\n",
       "    </tr>\n",
       "    <tr>\n",
       "      <th>2</th>\n",
       "      <td>nr_debit_trx</td>\n",
       "      <td>139</td>\n",
       "    </tr>\n",
       "    <tr>\n",
       "      <th>9</th>\n",
       "      <td>credit_applied_before_ratio</td>\n",
       "      <td>120</td>\n",
       "    </tr>\n",
       "    <tr>\n",
       "      <th>10</th>\n",
       "      <td>debit_credit_ratio</td>\n",
       "      <td>87</td>\n",
       "    </tr>\n",
       "    <tr>\n",
       "      <th>0</th>\n",
       "      <td>yearmonth</td>\n",
       "      <td>85</td>\n",
       "    </tr>\n",
       "    <tr>\n",
       "      <th>7</th>\n",
       "      <td>max_balance</td>\n",
       "      <td>70</td>\n",
       "    </tr>\n",
       "    <tr>\n",
       "      <th>4</th>\n",
       "      <td>nr_credit_trx</td>\n",
       "      <td>64</td>\n",
       "    </tr>\n",
       "    <tr>\n",
       "      <th>3</th>\n",
       "      <td>volume_debit_trx</td>\n",
       "      <td>55</td>\n",
       "    </tr>\n",
       "    <tr>\n",
       "      <th>1</th>\n",
       "      <td>total_nr_trx</td>\n",
       "      <td>47</td>\n",
       "    </tr>\n",
       "    <tr>\n",
       "      <th>5</th>\n",
       "      <td>volume_credit_trx</td>\n",
       "      <td>23</td>\n",
       "    </tr>\n",
       "  </tbody>\n",
       "</table>\n",
       "</div>"
      ],
      "text/plain": [
       "                   feature_name  feature_importance\n",
       "6                   min_balance                 158\n",
       "8                           CRG                 152\n",
       "2                  nr_debit_trx                 139\n",
       "9   credit_applied_before_ratio                 120\n",
       "10           debit_credit_ratio                  87\n",
       "0                     yearmonth                  85\n",
       "7                   max_balance                  70\n",
       "4                 nr_credit_trx                  64\n",
       "3              volume_debit_trx                  55\n",
       "1                  total_nr_trx                  47\n",
       "5             volume_credit_trx                  23"
      ]
     },
     "execution_count": 30,
     "metadata": {},
     "output_type": "execute_result"
    }
   ],
   "source": [
    "print(initial_params)\n",
    "feature_imp_df"
   ]
  },
  {
   "cell_type": "markdown",
   "metadata": {},
   "source": [
    "##### Based on statistical imp,heatmap and lgbm feature importances below columns can be dropped"
   ]
  },
  {
   "cell_type": "code",
   "execution_count": 31,
   "metadata": {},
   "outputs": [],
   "source": [
    "X_train.drop([\"volume_credit_trx\",\"volume_debit_trx\",\"total_nr_trx\"],axis=1,inplace=True)\n",
    "X_train_org.drop([\"volume_credit_trx\",\"volume_debit_trx\",\"total_nr_trx\"],axis=1,inplace=True)"
   ]
  },
  {
   "cell_type": "code",
   "execution_count": 32,
   "metadata": {},
   "outputs": [
    {
     "name": "stderr",
     "output_type": "stream",
     "text": [
      "C:\\Users\\vishalra\\Anaconda3\\envs\\nlp_tasks\\lib\\site-packages\\lightgbm\\sklearn.py:736: UserWarning: 'verbose' argument is deprecated and will be removed in a future release of LightGBM. Pass 'log_evaluation()' callback via 'callbacks' argument instead.\n",
      "  _log_warning(\"'verbose' argument is deprecated and will be removed in a future release of LightGBM. \"\n"
     ]
    },
    {
     "data": {
      "text/html": [
       "<style>#sk-container-id-1 {color: black;background-color: white;}#sk-container-id-1 pre{padding: 0;}#sk-container-id-1 div.sk-toggleable {background-color: white;}#sk-container-id-1 label.sk-toggleable__label {cursor: pointer;display: block;width: 100%;margin-bottom: 0;padding: 0.3em;box-sizing: border-box;text-align: center;}#sk-container-id-1 label.sk-toggleable__label-arrow:before {content: \"▸\";float: left;margin-right: 0.25em;color: #696969;}#sk-container-id-1 label.sk-toggleable__label-arrow:hover:before {color: black;}#sk-container-id-1 div.sk-estimator:hover label.sk-toggleable__label-arrow:before {color: black;}#sk-container-id-1 div.sk-toggleable__content {max-height: 0;max-width: 0;overflow: hidden;text-align: left;background-color: #f0f8ff;}#sk-container-id-1 div.sk-toggleable__content pre {margin: 0.2em;color: black;border-radius: 0.25em;background-color: #f0f8ff;}#sk-container-id-1 input.sk-toggleable__control:checked~div.sk-toggleable__content {max-height: 200px;max-width: 100%;overflow: auto;}#sk-container-id-1 input.sk-toggleable__control:checked~label.sk-toggleable__label-arrow:before {content: \"▾\";}#sk-container-id-1 div.sk-estimator input.sk-toggleable__control:checked~label.sk-toggleable__label {background-color: #d4ebff;}#sk-container-id-1 div.sk-label input.sk-toggleable__control:checked~label.sk-toggleable__label {background-color: #d4ebff;}#sk-container-id-1 input.sk-hidden--visually {border: 0;clip: rect(1px 1px 1px 1px);clip: rect(1px, 1px, 1px, 1px);height: 1px;margin: -1px;overflow: hidden;padding: 0;position: absolute;width: 1px;}#sk-container-id-1 div.sk-estimator {font-family: monospace;background-color: #f0f8ff;border: 1px dotted black;border-radius: 0.25em;box-sizing: border-box;margin-bottom: 0.5em;}#sk-container-id-1 div.sk-estimator:hover {background-color: #d4ebff;}#sk-container-id-1 div.sk-parallel-item::after {content: \"\";width: 100%;border-bottom: 1px solid gray;flex-grow: 1;}#sk-container-id-1 div.sk-label:hover label.sk-toggleable__label {background-color: #d4ebff;}#sk-container-id-1 div.sk-serial::before {content: \"\";position: absolute;border-left: 1px solid gray;box-sizing: border-box;top: 0;bottom: 0;left: 50%;z-index: 0;}#sk-container-id-1 div.sk-serial {display: flex;flex-direction: column;align-items: center;background-color: white;padding-right: 0.2em;padding-left: 0.2em;position: relative;}#sk-container-id-1 div.sk-item {position: relative;z-index: 1;}#sk-container-id-1 div.sk-parallel {display: flex;align-items: stretch;justify-content: center;background-color: white;position: relative;}#sk-container-id-1 div.sk-item::before, #sk-container-id-1 div.sk-parallel-item::before {content: \"\";position: absolute;border-left: 1px solid gray;box-sizing: border-box;top: 0;bottom: 0;left: 50%;z-index: -1;}#sk-container-id-1 div.sk-parallel-item {display: flex;flex-direction: column;z-index: 1;position: relative;background-color: white;}#sk-container-id-1 div.sk-parallel-item:first-child::after {align-self: flex-end;width: 50%;}#sk-container-id-1 div.sk-parallel-item:last-child::after {align-self: flex-start;width: 50%;}#sk-container-id-1 div.sk-parallel-item:only-child::after {width: 0;}#sk-container-id-1 div.sk-dashed-wrapped {border: 1px dashed gray;margin: 0 0.4em 0.5em 0.4em;box-sizing: border-box;padding-bottom: 0.4em;background-color: white;}#sk-container-id-1 div.sk-label label {font-family: monospace;font-weight: bold;display: inline-block;line-height: 1.2em;}#sk-container-id-1 div.sk-label-container {text-align: center;}#sk-container-id-1 div.sk-container {/* jupyter's `normalize.less` sets `[hidden] { display: none; }` but bootstrap.min.css set `[hidden] { display: none !important; }` so we also need the `!important` here to be able to override the default hidden behavior on the sphinx rendered scikit-learn.org. See: https://github.com/scikit-learn/scikit-learn/issues/21755 */display: inline-block !important;position: relative;}#sk-container-id-1 div.sk-text-repr-fallback {display: none;}</style><div id=\"sk-container-id-1\" class=\"sk-top-container\"><div class=\"sk-text-repr-fallback\"><pre>LGBMClassifier(learning_rate=0.014673918807559042, max_bin=112, num_leaves=11,\n",
       "               objective=&#x27;binary&#x27;, random_state=42, scale_pos_weight=15,\n",
       "               verbose=-1)</pre><b>In a Jupyter environment, please rerun this cell to show the HTML representation or trust the notebook. <br />On GitHub, the HTML representation is unable to render, please try loading this page with nbviewer.org.</b></div><div class=\"sk-container\" hidden><div class=\"sk-item\"><div class=\"sk-estimator sk-toggleable\"><input class=\"sk-toggleable__control sk-hidden--visually\" id=\"sk-estimator-id-1\" type=\"checkbox\" checked><label for=\"sk-estimator-id-1\" class=\"sk-toggleable__label sk-toggleable__label-arrow\">LGBMClassifier</label><div class=\"sk-toggleable__content\"><pre>LGBMClassifier(learning_rate=0.014673918807559042, max_bin=112, num_leaves=11,\n",
       "               objective=&#x27;binary&#x27;, random_state=42, scale_pos_weight=15,\n",
       "               verbose=-1)</pre></div></div></div></div></div>"
      ],
      "text/plain": [
       "LGBMClassifier(learning_rate=0.014673918807559042, max_bin=112, num_leaves=11,\n",
       "               objective='binary', random_state=42, scale_pos_weight=15,\n",
       "               verbose=-1)"
      ]
     },
     "execution_count": 32,
     "metadata": {},
     "output_type": "execute_result"
    }
   ],
   "source": [
    "import lightgbm as lgb\n",
    "params = cast_params_to_proper_types(initial_params)\n",
    "model = lgb.LGBMClassifier(\n",
    "        random_state=42,\n",
    "        verbose=-1,\n",
    "        objective='binary'\n",
    "        ,**params\n",
    ")   \n",
    "\n",
    "model.fit(\n",
    "X_train_org,\n",
    "y_train_org,\n",
    "eval_set=[(X_val[X_train_org.columns], y_val)],\n",
    "verbose=0,\n",
    "eval_metric=lgb_f1_score\n",
    ")"
   ]
  },
  {
   "cell_type": "code",
   "execution_count": 33,
   "metadata": {},
   "outputs": [
    {
     "name": "stderr",
     "output_type": "stream",
     "text": [
      "C:\\Users\\vishalra\\Anaconda3\\envs\\nlp_tasks\\lib\\site-packages\\tqdm\\auto.py:21: TqdmWarning: IProgress not found. Please update jupyter and ipywidgets. See https://ipywidgets.readthedocs.io/en/stable/user_install.html\n",
      "  from .autonotebook import tqdm as notebook_tqdm\n",
      "LightGBM binary classifier with TreeExplainer shap values output has changed to a list of ndarray\n"
     ]
    },
    {
     "data": {
      "image/png": "[encoded data removed]",
      "text/plain": [
       "<Figure size 800x470 with 1 Axes>"
      ]
     },
     "metadata": {},
     "output_type": "display_data"
    }
   ],
   "source": [
    "import shap\n",
    "explainer = shap.TreeExplainer(model)\n",
    "shap_values = explainer.shap_values(X_val[X_train.columns])\n",
    "shap.summary_plot(shap_values, X_val[X_train.columns], plot_type=\"bar\")"
   ]
  },
  {
   "cell_type": "code",
   "execution_count": 34,
   "metadata": {},
   "outputs": [],
   "source": [
    "def cross_validation(model,X_train_org,y_train_org,threshold):\n",
    "    \n",
    "    kfolds = StratifiedKFold(5)\n",
    "    current_f1_scores=[]\n",
    "    roc_auc_scores_val=[]\n",
    "    precision_score_val=[]\n",
    "    recall_score_val=[]\n",
    "    fpr_scores=[]\n",
    "    tpr_scores=[]\n",
    "\n",
    "    \n",
    "    \n",
    "    for train_idx ,val_index in kfolds.split(X_train_org,y_train_org):\n",
    "        model.fit(\n",
    "                    X_train_org.iloc[train_idx],\n",
    "                    y_train_org.iloc[train_idx]\n",
    "#                   ,eval_metric=lgb_f1_score\n",
    "                )\n",
    "        y_pred=np.where(model.predict_proba(X_train_org.iloc[val_index])[:,1] >threshold,1,0)\n",
    "        current_f1_scores.append(f1_score(y_train_org.iloc[val_index], y_pred))\n",
    "        tn, fp, fn, tp = confusion_matrix(y_train_org.iloc[val_index],y_pred).ravel()\n",
    "        print(confusion_matrix(y_train_org.iloc[val_index],y_pred))\n",
    "        roc_auc_scores_val.append(roc_auc_score(y_train_org.iloc[val_index], y_pred))\n",
    "        precision_score_val.append(precision_score(y_true=y_train_org.iloc[val_index],y_pred=y_pred))\n",
    "        recall_score_val.append(recall_score(y_true=y_train_org.iloc[val_index],y_pred=y_pred))\n",
    "        fpr_val, tpr_val, _ = roc_curve(y_true=y_train_org.iloc[val_index], y_score=y_pred)\n",
    "        fpr_scores.append(fpr_val)\n",
    "        tpr_scores.append(tpr_val)\n",
    "    \n",
    "    return current_f1_scores,roc_auc_scores_val,precision_score_val,recall_score_val,fpr_scores,tpr_scores\n",
    "\n",
    "    \n",
    "\n",
    "def plot_roc(fpr,tpr,roc_auc,color_ip):\n",
    "    print('ROC AUC=%0.2f'%roc_auc)\n",
    "    plt.plot(fpr,tpr,label='AUC=%0.2f'%roc_auc,color=color_ip)\n",
    "    plt.legend(loc='lower right')\n",
    "    plt.plot([0,1],[0,1],'b--')\n",
    "    plt.xlim([0,1])\n",
    "    plt.ylim([0,1.05])\n",
    "    plt.xlabel('False Positive Rate')\n",
    "    plt.ylabel('True Positive Rate')\n",
    "    plt.grid(True) \n",
    "#     plt.show()"
   ]
  },
  {
   "cell_type": "code",
   "execution_count": 35,
   "metadata": {},
   "outputs": [
    {
     "name": "stdout",
     "output_type": "stream",
     "text": [
      "[[2168 1500]\n",
      " [  78  234]]\n",
      "[[1917 1750]\n",
      " [  76  236]]\n",
      "[[1975 1692]\n",
      " [  75  237]]\n",
      "[[1492 2175]\n",
      " [  61  251]]\n",
      "[[1559 2108]\n",
      " [  51  261]]\n"
     ]
    }
   ],
   "source": [
    "current_f1_scores,roc_auc_scores_val,precision_score_val,recall_score_val,fpr_scores,tpr_scores=cross_validation(model,X_train_org,y_train_org,0.4)"
   ]
  },
  {
   "cell_type": "code",
   "execution_count": 47,
   "metadata": {},
   "outputs": [
    {
     "name": "stdout",
     "output_type": "stream",
     "text": [
      "ROC AUC=0.67\n",
      "ROC AUC=0.64\n",
      "ROC AUC=0.65\n",
      "ROC AUC=0.61\n",
      "ROC AUC=0.63\n",
      "Mean ROC AUC score on validation data =0.64\n"
     ]
    },
    {
     "data": {
      "image/png": "[encoded data removed]",
      "text/plain": [
       "<Figure size 600x500 with 1 Axes>"
      ]
     },
     "metadata": {},
     "output_type": "display_data"
    }
   ],
   "source": [
    "plt.rcParams[\"figure.figsize\"] = [6,5]  #set the graph to a smaller size \n",
    "\n",
    "color_list=[\"green\",\"red\",\"black\",\"yellow\",\"orange\"]\n",
    "for fpr_val,tpr_val,roc_auc_score,color in zip(fpr_scores,tpr_scores,roc_auc_scores_val,color_list):\n",
    "    plot_roc(fpr_val,tpr_val,roc_auc_score,color)\n",
    "    \n",
    "    \n",
    "print('Mean ROC AUC score on validation data =%0.2f'%np.mean(roc_auc_scores_val))"
   ]
  },
  {
   "cell_type": "code",
   "execution_count": 37,
   "metadata": {},
   "outputs": [],
   "source": [
    "def print_metrics(f1_scores,recall_scores,precision_scores,dataset=\"validation\"):\n",
    "    print(\"F1 scores on \"+ dataset+\" data:\")\n",
    "    print(f1_scores)\n",
    "    print(\"-----------------------------------------------------\")\n",
    "    print(\"Recall scores on \"+ dataset+\" data:\")\n",
    "    print(recall_scores)\n",
    "    print(\"-----------------------------------------------------\")\n",
    "    print(\"Mean f1 score on \"+ dataset+\" data:\")\n",
    "    print(np.mean(f1_scores))\n",
    "\n",
    "    print(\"-----------------------------------------------------\")\n",
    "    print(\"Mean recall score on \"+ dataset+\" data:\")\n",
    "    print(np.mean(recall_scores))\n",
    "\n",
    "    print(\"-----------------------------------------------------\")\n",
    "    print(\"Mean precision score on \"+ dataset+\" data:\")\n",
    "    print(np.mean(precision_scores))"
   ]
  },
  {
   "cell_type": "code",
   "execution_count": 38,
   "metadata": {},
   "outputs": [
    {
     "name": "stdout",
     "output_type": "stream",
     "text": [
      "F1 scores on validation data:\n",
      "[0.22873900293255134, 0.2053959965187119, 0.2115127175368139, 0.183345507669832, 0.1947034688549049]\n",
      "-----------------------------------------------------\n",
      "Recall scores on validation data:\n",
      "[0.75, 0.7564102564102564, 0.7596153846153846, 0.8044871794871795, 0.8365384615384616]\n",
      "-----------------------------------------------------\n",
      "Mean f1 score on validation data:\n",
      "0.2047393387025628\n",
      "-----------------------------------------------------\n",
      "Mean recall score on validation data:\n",
      "0.7814102564102564\n",
      "-----------------------------------------------------\n",
      "Mean precision score on validation data:\n",
      "0.118055412891931\n"
     ]
    }
   ],
   "source": [
    "print_metrics(current_f1_scores,recall_score_val,precision_score_val,\"validation\")"
   ]
  },
  {
   "cell_type": "markdown",
   "metadata": {},
   "source": [
    "###### On test data"
   ]
  },
  {
   "cell_type": "code",
   "execution_count": 39,
   "metadata": {},
   "outputs": [
    {
     "name": "stdout",
     "output_type": "stream",
     "text": [
      "---------------THRESHOLD =0.3 ----------------------\n",
      "[[1947 2293]\n",
      " [  48  275]]\n",
      "F1 score on Test data:\n",
      "0.19024558976132827\n",
      "-----------------------------------------------------\n",
      "Recall score on Test data:\n",
      "0.8513931888544891\n",
      "-----------------------------------------------------\n",
      "Precision score on Test data:\n",
      "0.10708722741433022\n",
      "---------------THRESHOLD =0.35 ----------------------\n",
      "[[2106 2134]\n",
      " [  57  266]]\n",
      "F1 score on Test data:\n",
      "0.19537275064267354\n",
      "-----------------------------------------------------\n",
      "Recall score on Test data:\n",
      "0.8235294117647058\n",
      "-----------------------------------------------------\n",
      "Precision score on Test data:\n",
      "0.11083333333333334\n",
      "---------------THRESHOLD =0.4 ----------------------\n",
      "[[2226 2014]\n",
      " [  61  262]]\n",
      "F1 score on Test data:\n",
      "0.20161600615621394\n",
      "-----------------------------------------------------\n",
      "Recall score on Test data:\n",
      "0.8111455108359134\n",
      "-----------------------------------------------------\n",
      "Precision score on Test data:\n",
      "0.11511423550087874\n",
      "---------------THRESHOLD =0.45 ----------------------\n",
      "[[2309 1931]\n",
      " [  67  256]]\n",
      "F1 score on Test data:\n",
      "0.20398406374501993\n",
      "-----------------------------------------------------\n",
      "Recall score on Test data:\n",
      "0.7925696594427245\n",
      "-----------------------------------------------------\n",
      "Precision score on Test data:\n",
      "0.11705532693187014\n",
      "---------------THRESHOLD =0.5 ----------------------\n",
      "[[3116 1124]\n",
      " [ 132  191]]\n",
      "F1 score on Test data:\n",
      "0.23321123321123324\n",
      "-----------------------------------------------------\n",
      "Recall score on Test data:\n",
      "0.5913312693498453\n",
      "-----------------------------------------------------\n",
      "Precision score on Test data:\n",
      "0.1452471482889734\n",
      "---------------THRESHOLD =0.55 ----------------------\n",
      "[[3660  580]\n",
      " [ 198  125]]\n",
      "F1 score on Test data:\n",
      "0.24319066147859922\n",
      "-----------------------------------------------------\n",
      "Recall score on Test data:\n",
      "0.38699690402476783\n",
      "-----------------------------------------------------\n",
      "Precision score on Test data:\n",
      "0.1773049645390071\n",
      "---------------THRESHOLD =0.61 ----------------------\n",
      "[[4205   35]\n",
      " [ 312   11]]\n",
      "F1 score on Test data:\n",
      "0.05962059620596206\n",
      "-----------------------------------------------------\n",
      "Recall score on Test data:\n",
      "0.034055727554179564\n",
      "-----------------------------------------------------\n",
      "Precision score on Test data:\n",
      "0.2391304347826087\n"
     ]
    }
   ],
   "source": [
    "# y_test_pred = model.predict(X_test)\n",
    "for i in np.arange(0.3,0.65,0.051):\n",
    "    i=(round(i,2))\n",
    "    print(\"---------------THRESHOLD =\"+str(i)+\" ----------------------\")\n",
    "\n",
    "    y_test_pred=np.where(model.predict_proba(X_test[X_train.columns])[:,1] >i,1,0)\n",
    "\n",
    "    print(confusion_matrix(y_test,y_test_pred))\n",
    "    print(\"F1 score on Test data:\")\n",
    "    print(f1_score(y_test,y_test_pred))\n",
    "    print(\"-----------------------------------------------------\")\n",
    "    print(\"Recall score on Test data:\")\n",
    "    print(recall_score(y_test,y_test_pred))\n",
    "    print(\"-----------------------------------------------------\")\n",
    "    print(\"Precision score on Test data:\")\n",
    "    print(precision_score(y_test,y_test_pred))"
   ]
  },
  {
   "cell_type": "code",
   "execution_count": 40,
   "metadata": {},
   "outputs": [
    {
     "name": "stdout",
     "output_type": "stream",
     "text": [
      "[[2309 1931]\n",
      " [  67  256]]\n",
      "F1 score on Test data:\n",
      "0.20398406374501993\n",
      "-----------------------------------------------------\n",
      "Recall score on Test data:\n",
      "0.7925696594427245\n",
      "-----------------------------------------------------\n",
      "Precision score on Test data:\n",
      "0.11705532693187014\n"
     ]
    }
   ],
   "source": [
    "# X_test=X_test[X_train.columns]\n",
    "y_test_pred=np.where(model.predict_proba(X_test[X_train.columns])[:,1] >0.45,1,0)\n",
    "print(confusion_matrix(y_test,y_test_pred))\n",
    "print(\"F1 score on Test data:\")\n",
    "print(f1_score(y_test,y_test_pred))\n",
    "print(\"-----------------------------------------------------\")\n",
    "print(\"Recall score on Test data:\")\n",
    "print(recall_score(y_test,y_test_pred))\n",
    "print(\"-----------------------------------------------------\")\n",
    "print(\"Precision score on Test data:\")\n",
    "print(precision_score(y_test,y_test_pred))"
   ]
  },
  {
   "cell_type": "code",
   "execution_count": 41,
   "metadata": {},
   "outputs": [],
   "source": [
    "### Save preds to csv file\n",
    "\n",
    "X_test[\"ground_truth\"] = y_test\n",
    "X_test[\"pred_lgbm\"]=y_test_pred\n",
    "# X_test.to_csv(\"output files/predictions_on_test_set_lgbm.csv\")\n",
    "# pickle.dump(model,open('output files/model_lgbm.pkl','wb'))\n"
   ]
  },
  {
   "cell_type": "markdown",
   "metadata": {},
   "source": [
    "###### SVM "
   ]
  },
  {
   "cell_type": "code",
   "execution_count": 33,
   "metadata": {},
   "outputs": [],
   "source": [
    "# from sklearn.preprocessing import StandardScaler,MinMaxScaler\n",
    "# std=StandardScaler()\n",
    "# Xformed_data = std.fit_transform(X_train_org)\n",
    "# Xformed_data = pd.DataFrame(Xformed_data,columns=X_train_org.columns)\n",
    "# from sklearn.model_selection import RandomizedSearchCV\n",
    "# from sklearn.svm import SVC\n",
    "# def svm_hyper(X_train_transformed, y_train):\n",
    "#     svc = SVC()\n",
    "#     C_range = [0.001,0.1,1,10]\n",
    "# #     gamma_range = [0.001,0.1,1,'scale', 'auto']    \n",
    "#     param_grid = { \n",
    "#         \"C\": C_range,\n",
    "#         \"kernel\": ['rbf', 'poly']\n",
    "# #         ,\"gamma\": gamma_range\n",
    "#         }\n",
    "#     print(param_grid)\n",
    "#     scoring = ['f1']\n",
    "# #     kfold = StratifiedKFold(n_splits=3, shuffle=True, random_state=0)\n",
    "#     random_search = RandomizedSearchCV(estimator=svc, \n",
    "#                                param_distributions=param_grid, \n",
    "#                                n_iter=5,\n",
    "#                                scoring=scoring,\n",
    "#                                refit=\"f1\",        \n",
    "#                                n_jobs=-1, \n",
    "#                                cv=3)\n",
    "#     # Fit grid search\n",
    "#     random_result = random_search.fit(X_train_transformed, y_train)\n",
    "#     # Print grid search summary\n",
    "#     model = random_search.best_estimator_\n",
    "#     return model,random_search\n",
    "\n",
    "# model,random_search = svm_hyper(Xformed_data,y_train_org)\n",
    "# import pickle\n",
    "# # pickle.dump(model,open(\"output files/model_svm.pkl\",\"wb\"))\n",
    "# model_svm = pickle.load(open(\"output files/model_svm.pkl\",\"rb\"))\n",
    "# y_test_pred = model_svm.predict(X_test[X_train.columns])\n",
    "# print(confusion_matrix(y_test_pred,y_test))\n",
    "# print(f1_score(y_test_pred,y_test))\n"
   ]
  },
  {
   "cell_type": "markdown",
   "metadata": {},
   "source": [
    "###### Random forest "
   ]
  },
  {
   "cell_type": "code",
   "execution_count": 48,
   "metadata": {},
   "outputs": [],
   "source": [
    "from imblearn.ensemble import BalancedRandomForestClassifier\n",
    "from sklearn.model_selection import cross_val_score,RandomizedSearchCV\n"
   ]
  },
  {
   "cell_type": "code",
   "execution_count": 49,
   "metadata": {},
   "outputs": [
    {
     "data": {
      "text/plain": [
       "{'n_estimators': [100, 200, 300, 400, 500, 600, 700, 800, 900, 1000],\n",
       " 'max_features': ['auto', 'sqrt'],\n",
       " 'max_depth': [10, 20, 30, 40, 50, 60, 70, 80, 90, 100, 110, None],\n",
       " 'min_samples_split': [2, 5, 10],\n",
       " 'min_samples_leaf': [1, 2, 4, 10],\n",
       " 'bootstrap': [True, False]}"
      ]
     },
     "execution_count": 49,
     "metadata": {},
     "output_type": "execute_result"
    }
   ],
   "source": [
    "\n",
    "n_estimators = [int(x) for x in np.linspace(start = 100, stop = 1000, num = 10)]\n",
    "\n",
    "max_features = ['auto', 'sqrt']\n",
    "max_depth = [int(x) for x in np.linspace(10, 110, num = 11)]\n",
    "max_depth.append(None)\n",
    "min_samples_split = [2, 5, 10]\n",
    "min_samples_leaf = [1, 2, 4,10]\n",
    "bootstrap = [True, False]\n",
    "random_grid = {'n_estimators': n_estimators,\n",
    "               'max_features': max_features,\n",
    "               'max_depth': max_depth,\n",
    "               'min_samples_split': min_samples_split,\n",
    "               'min_samples_leaf': min_samples_leaf,\n",
    "               'bootstrap': bootstrap}\n",
    "\n",
    "random_grid"
   ]
  },
  {
   "cell_type": "code",
   "execution_count": 50,
   "metadata": {},
   "outputs": [
    {
     "name": "stdout",
     "output_type": "stream",
     "text": [
      "Fitting 3 folds for each of 10 candidates, totalling 30 fits\n"
     ]
    }
   ],
   "source": [
    "import warnings\n",
    "with warnings.catch_warnings():\n",
    "    warnings.simplefilter(\"ignore\")\n",
    "    model_rf = BalancedRandomForestClassifier()\n",
    "    rf_random = RandomizedSearchCV(estimator = model_rf, param_distributions = random_grid, n_iter = 10, cv = 3, verbose=2, random_state=42, n_jobs = -1)\n",
    "    rf_random.fit(X_train_org, y_train_org)\n"
   ]
  },
  {
   "cell_type": "code",
   "execution_count": 51,
   "metadata": {},
   "outputs": [
    {
     "data": {
      "text/html": [
       "<style>#sk-container-id-2 {color: black;background-color: white;}#sk-container-id-2 pre{padding: 0;}#sk-container-id-2 div.sk-toggleable {background-color: white;}#sk-container-id-2 label.sk-toggleable__label {cursor: pointer;display: block;width: 100%;margin-bottom: 0;padding: 0.3em;box-sizing: border-box;text-align: center;}#sk-container-id-2 label.sk-toggleable__label-arrow:before {content: \"▸\";float: left;margin-right: 0.25em;color: #696969;}#sk-container-id-2 label.sk-toggleable__label-arrow:hover:before {color: black;}#sk-container-id-2 div.sk-estimator:hover label.sk-toggleable__label-arrow:before {color: black;}#sk-container-id-2 div.sk-toggleable__content {max-height: 0;max-width: 0;overflow: hidden;text-align: left;background-color: #f0f8ff;}#sk-container-id-2 div.sk-toggleable__content pre {margin: 0.2em;color: black;border-radius: 0.25em;background-color: #f0f8ff;}#sk-container-id-2 input.sk-toggleable__control:checked~div.sk-toggleable__content {max-height: 200px;max-width: 100%;overflow: auto;}#sk-container-id-2 input.sk-toggleable__control:checked~label.sk-toggleable__label-arrow:before {content: \"▾\";}#sk-container-id-2 div.sk-estimator input.sk-toggleable__control:checked~label.sk-toggleable__label {background-color: #d4ebff;}#sk-container-id-2 div.sk-label input.sk-toggleable__control:checked~label.sk-toggleable__label {background-color: #d4ebff;}#sk-container-id-2 input.sk-hidden--visually {border: 0;clip: rect(1px 1px 1px 1px);clip: rect(1px, 1px, 1px, 1px);height: 1px;margin: -1px;overflow: hidden;padding: 0;position: absolute;width: 1px;}#sk-container-id-2 div.sk-estimator {font-family: monospace;background-color: #f0f8ff;border: 1px dotted black;border-radius: 0.25em;box-sizing: border-box;margin-bottom: 0.5em;}#sk-container-id-2 div.sk-estimator:hover {background-color: #d4ebff;}#sk-container-id-2 div.sk-parallel-item::after {content: \"\";width: 100%;border-bottom: 1px solid gray;flex-grow: 1;}#sk-container-id-2 div.sk-label:hover label.sk-toggleable__label {background-color: #d4ebff;}#sk-container-id-2 div.sk-serial::before {content: \"\";position: absolute;border-left: 1px solid gray;box-sizing: border-box;top: 0;bottom: 0;left: 50%;z-index: 0;}#sk-container-id-2 div.sk-serial {display: flex;flex-direction: column;align-items: center;background-color: white;padding-right: 0.2em;padding-left: 0.2em;position: relative;}#sk-container-id-2 div.sk-item {position: relative;z-index: 1;}#sk-container-id-2 div.sk-parallel {display: flex;align-items: stretch;justify-content: center;background-color: white;position: relative;}#sk-container-id-2 div.sk-item::before, #sk-container-id-2 div.sk-parallel-item::before {content: \"\";position: absolute;border-left: 1px solid gray;box-sizing: border-box;top: 0;bottom: 0;left: 50%;z-index: -1;}#sk-container-id-2 div.sk-parallel-item {display: flex;flex-direction: column;z-index: 1;position: relative;background-color: white;}#sk-container-id-2 div.sk-parallel-item:first-child::after {align-self: flex-end;width: 50%;}#sk-container-id-2 div.sk-parallel-item:last-child::after {align-self: flex-start;width: 50%;}#sk-container-id-2 div.sk-parallel-item:only-child::after {width: 0;}#sk-container-id-2 div.sk-dashed-wrapped {border: 1px dashed gray;margin: 0 0.4em 0.5em 0.4em;box-sizing: border-box;padding-bottom: 0.4em;background-color: white;}#sk-container-id-2 div.sk-label label {font-family: monospace;font-weight: bold;display: inline-block;line-height: 1.2em;}#sk-container-id-2 div.sk-label-container {text-align: center;}#sk-container-id-2 div.sk-container {/* jupyter's `normalize.less` sets `[hidden] { display: none; }` but bootstrap.min.css set `[hidden] { display: none !important; }` so we also need the `!important` here to be able to override the default hidden behavior on the sphinx rendered scikit-learn.org. See: https://github.com/scikit-learn/scikit-learn/issues/21755 */display: inline-block !important;position: relative;}#sk-container-id-2 div.sk-text-repr-fallback {display: none;}</style><div id=\"sk-container-id-2\" class=\"sk-top-container\"><div class=\"sk-text-repr-fallback\"><pre>BalancedRandomForestClassifier(max_depth=20, min_samples_leaf=10,\n",
       "                               min_samples_split=5, n_estimators=700)</pre><b>In a Jupyter environment, please rerun this cell to show the HTML representation or trust the notebook. <br />On GitHub, the HTML representation is unable to render, please try loading this page with nbviewer.org.</b></div><div class=\"sk-container\" hidden><div class=\"sk-item\"><div class=\"sk-estimator sk-toggleable\"><input class=\"sk-toggleable__control sk-hidden--visually\" id=\"sk-estimator-id-2\" type=\"checkbox\" checked><label for=\"sk-estimator-id-2\" class=\"sk-toggleable__label sk-toggleable__label-arrow\">BalancedRandomForestClassifier</label><div class=\"sk-toggleable__content\"><pre>BalancedRandomForestClassifier(max_depth=20, min_samples_leaf=10,\n",
       "                               min_samples_split=5, n_estimators=700)</pre></div></div></div></div></div>"
      ],
      "text/plain": [
       "BalancedRandomForestClassifier(max_depth=20, min_samples_leaf=10,\n",
       "                               min_samples_split=5, n_estimators=700)"
      ]
     },
     "execution_count": 51,
     "metadata": {},
     "output_type": "execute_result"
    }
   ],
   "source": [
    "rf_random.best_estimator_"
   ]
  },
  {
   "cell_type": "code",
   "execution_count": 52,
   "metadata": {},
   "outputs": [],
   "source": [
    "model_rf=rf_random.best_estimator_"
   ]
  },
  {
   "cell_type": "code",
   "execution_count": 55,
   "metadata": {},
   "outputs": [
    {
     "name": "stdout",
     "output_type": "stream",
     "text": [
      "F1 scores on validation data:\n",
      "[0.22873900293255134, 0.2053959965187119, 0.2115127175368139, 0.183345507669832, 0.1947034688549049]\n",
      "-----------------------------------------------------\n",
      "Recall scores on validation data:\n",
      "[0.75, 0.7564102564102564, 0.7596153846153846, 0.8044871794871795, 0.8365384615384616]\n",
      "-----------------------------------------------------\n",
      "Mean f1 score on validation data:\n",
      "0.2047393387025628\n",
      "-----------------------------------------------------\n",
      "Mean recall score on validation data:\n",
      "0.7814102564102564\n",
      "-----------------------------------------------------\n",
      "Mean precision score on validation data:\n",
      "0.118055412891931\n"
     ]
    }
   ],
   "source": [
    "print_metrics(current_f1_scores,recall_score_val,precision_score_val,\"validation\")"
   ]
  },
  {
   "cell_type": "code",
   "execution_count": 56,
   "metadata": {},
   "outputs": [
    {
     "name": "stdout",
     "output_type": "stream",
     "text": [
      "---------------THRESHOLD =0.3 ----------------------\n",
      "[[1482 2758]\n",
      " [  26  297]]\n",
      "F1 score on Test data:\n",
      "0.17584369449378331\n",
      "-----------------------------------------------------\n",
      "Recall score on Test data:\n",
      "0.9195046439628483\n",
      "-----------------------------------------------------\n",
      "Precision score on Test data:\n",
      "0.0972176759410802\n",
      "---------------THRESHOLD =0.35 ----------------------\n",
      "[[1866 2374]\n",
      " [  37  286]]\n",
      "F1 score on Test data:\n",
      "0.19175326852162253\n",
      "-----------------------------------------------------\n",
      "Recall score on Test data:\n",
      "0.8854489164086687\n",
      "-----------------------------------------------------\n",
      "Precision score on Test data:\n",
      "0.10751879699248121\n",
      "---------------THRESHOLD =0.4 ----------------------\n",
      "[[2124 2116]\n",
      " [  55  268]]\n",
      "F1 score on Test data:\n",
      "0.19800517177687477\n",
      "-----------------------------------------------------\n",
      "Recall score on Test data:\n",
      "0.8297213622291022\n",
      "-----------------------------------------------------\n",
      "Precision score on Test data:\n",
      "0.11241610738255034\n",
      "---------------THRESHOLD =0.45 ----------------------\n",
      "[[2487 1753]\n",
      " [  77  246]]\n",
      "F1 score on Test data:\n",
      "0.21188630490956073\n",
      "-----------------------------------------------------\n",
      "Recall score on Test data:\n",
      "0.7616099071207431\n",
      "-----------------------------------------------------\n",
      "Precision score on Test data:\n",
      "0.12306153076538269\n",
      "---------------THRESHOLD =0.5 ----------------------\n",
      "[[2951 1289]\n",
      " [ 109  214]]\n",
      "F1 score on Test data:\n",
      "0.2343921139101862\n",
      "-----------------------------------------------------\n",
      "Recall score on Test data:\n",
      "0.6625386996904025\n",
      "-----------------------------------------------------\n",
      "Precision score on Test data:\n",
      "0.14238190286094476\n",
      "---------------THRESHOLD =0.55 ----------------------\n",
      "[[3348  892]\n",
      " [ 141  182]]\n",
      "F1 score on Test data:\n",
      "0.26055833929849676\n",
      "-----------------------------------------------------\n",
      "Recall score on Test data:\n",
      "0.5634674922600619\n",
      "-----------------------------------------------------\n",
      "Precision score on Test data:\n",
      "0.16945996275605213\n",
      "---------------THRESHOLD =0.61 ----------------------\n",
      "[[3708  532]\n",
      " [ 200  123]]\n",
      "F1 score on Test data:\n",
      "0.25153374233128833\n",
      "-----------------------------------------------------\n",
      "Recall score on Test data:\n",
      "0.38080495356037153\n",
      "-----------------------------------------------------\n",
      "Precision score on Test data:\n",
      "0.18778625954198475\n"
     ]
    }
   ],
   "source": [
    "# y_test_pred = model.predict(X_test)\n",
    "for i in np.arange(0.3,0.65,0.051):\n",
    "    i=(round(i,2))\n",
    "    print(\"---------------THRESHOLD =\"+str(i)+\" ----------------------\")\n",
    "\n",
    "    y_test_pred=np.where(model_rf.predict_proba(X_test[X_train.columns])[:,1] >i,1,0)\n",
    "\n",
    "    print(confusion_matrix(y_test,y_test_pred))\n",
    "    print(\"F1 score on Test data:\")\n",
    "    print(f1_score(y_test,y_test_pred))\n",
    "    print(\"-----------------------------------------------------\")\n",
    "    print(\"Recall score on Test data:\")\n",
    "    print(recall_score(y_test,y_test_pred))\n",
    "    print(\"-----------------------------------------------------\")\n",
    "    print(\"Precision score on Test data:\")\n",
    "    print(precision_score(y_test,y_test_pred))"
   ]
  },
  {
   "cell_type": "code",
   "execution_count": 57,
   "metadata": {},
   "outputs": [
    {
     "name": "stdout",
     "output_type": "stream",
     "text": [
      "[[2487 1753]\n",
      " [  77  246]]\n",
      "F1 score on Test data:\n",
      "0.21188630490956073\n",
      "-----------------------------------------------------\n",
      "Recall score on Test data:\n",
      "0.7616099071207431\n",
      "-----------------------------------------------------\n",
      "Precision score on Test data:\n",
      "0.12306153076538269\n"
     ]
    }
   ],
   "source": [
    "\n",
    "y_test_pred=np.where(model_rf.predict_proba(X_test[X_train.columns])[:,1] >0.45,1,0)\n",
    "print(confusion_matrix(y_test,y_test_pred))\n",
    "print(\"F1 score on Test data:\")\n",
    "print(f1_score(y_test,y_test_pred))\n",
    "print(\"-----------------------------------------------------\")\n",
    "print(\"Recall score on Test data:\")\n",
    "print(recall_score(y_test,y_test_pred))\n",
    "print(\"-----------------------------------------------------\")\n",
    "print(\"Precision score on Test data:\")\n",
    "print(precision_score(y_test,y_test_pred))"
   ]
  },
  {
   "cell_type": "code",
   "execution_count": 58,
   "metadata": {},
   "outputs": [],
   "source": [
    "### Save preds to csv file\n",
    "\n",
    "X_test[\"ground_truth\"] = y_test\n",
    "X_test[\"pred_rf\"]=y_test_pred\n",
    "# X_test.to_csv(\"output files/predictions_on_test_set_rf_threshold_0.5.csv\")\n",
    "\n",
    "\n",
    "# pickle.dump(model,open(\"output files/model_rf.pkl\",\"wb\"))"
   ]
  },
  {
   "cell_type": "markdown",
   "metadata": {},
   "source": [
    "##### Unsupervised (Isolation forest)"
   ]
  },
  {
   "cell_type": "code",
   "execution_count": 59,
   "metadata": {},
   "outputs": [],
   "source": [
    "\n",
    "from sklearn.ensemble import IsolationForest\n",
    "from sklearn.model_selection import ParameterSampler\n",
    "from sklearn.metrics import f1_score,roc_auc_score,confusion_matrix,recall_score,precision_score"
   ]
  },
  {
   "cell_type": "code",
   "execution_count": 60,
   "metadata": {},
   "outputs": [
    {
     "name": "stderr",
     "output_type": "stream",
     "text": [
      "X does not have valid feature names, but IsolationForest was fitted with feature names\n"
     ]
    },
    {
     "data": {
      "text/html": [
       "<style>#sk-container-id-3 {color: black;background-color: white;}#sk-container-id-3 pre{padding: 0;}#sk-container-id-3 div.sk-toggleable {background-color: white;}#sk-container-id-3 label.sk-toggleable__label {cursor: pointer;display: block;width: 100%;margin-bottom: 0;padding: 0.3em;box-sizing: border-box;text-align: center;}#sk-container-id-3 label.sk-toggleable__label-arrow:before {content: \"▸\";float: left;margin-right: 0.25em;color: #696969;}#sk-container-id-3 label.sk-toggleable__label-arrow:hover:before {color: black;}#sk-container-id-3 div.sk-estimator:hover label.sk-toggleable__label-arrow:before {color: black;}#sk-container-id-3 div.sk-toggleable__content {max-height: 0;max-width: 0;overflow: hidden;text-align: left;background-color: #f0f8ff;}#sk-container-id-3 div.sk-toggleable__content pre {margin: 0.2em;color: black;border-radius: 0.25em;background-color: #f0f8ff;}#sk-container-id-3 input.sk-toggleable__control:checked~div.sk-toggleable__content {max-height: 200px;max-width: 100%;overflow: auto;}#sk-container-id-3 input.sk-toggleable__control:checked~label.sk-toggleable__label-arrow:before {content: \"▾\";}#sk-container-id-3 div.sk-estimator input.sk-toggleable__control:checked~label.sk-toggleable__label {background-color: #d4ebff;}#sk-container-id-3 div.sk-label input.sk-toggleable__control:checked~label.sk-toggleable__label {background-color: #d4ebff;}#sk-container-id-3 input.sk-hidden--visually {border: 0;clip: rect(1px 1px 1px 1px);clip: rect(1px, 1px, 1px, 1px);height: 1px;margin: -1px;overflow: hidden;padding: 0;position: absolute;width: 1px;}#sk-container-id-3 div.sk-estimator {font-family: monospace;background-color: #f0f8ff;border: 1px dotted black;border-radius: 0.25em;box-sizing: border-box;margin-bottom: 0.5em;}#sk-container-id-3 div.sk-estimator:hover {background-color: #d4ebff;}#sk-container-id-3 div.sk-parallel-item::after {content: \"\";width: 100%;border-bottom: 1px solid gray;flex-grow: 1;}#sk-container-id-3 div.sk-label:hover label.sk-toggleable__label {background-color: #d4ebff;}#sk-container-id-3 div.sk-serial::before {content: \"\";position: absolute;border-left: 1px solid gray;box-sizing: border-box;top: 0;bottom: 0;left: 50%;z-index: 0;}#sk-container-id-3 div.sk-serial {display: flex;flex-direction: column;align-items: center;background-color: white;padding-right: 0.2em;padding-left: 0.2em;position: relative;}#sk-container-id-3 div.sk-item {position: relative;z-index: 1;}#sk-container-id-3 div.sk-parallel {display: flex;align-items: stretch;justify-content: center;background-color: white;position: relative;}#sk-container-id-3 div.sk-item::before, #sk-container-id-3 div.sk-parallel-item::before {content: \"\";position: absolute;border-left: 1px solid gray;box-sizing: border-box;top: 0;bottom: 0;left: 50%;z-index: -1;}#sk-container-id-3 div.sk-parallel-item {display: flex;flex-direction: column;z-index: 1;position: relative;background-color: white;}#sk-container-id-3 div.sk-parallel-item:first-child::after {align-self: flex-end;width: 50%;}#sk-container-id-3 div.sk-parallel-item:last-child::after {align-self: flex-start;width: 50%;}#sk-container-id-3 div.sk-parallel-item:only-child::after {width: 0;}#sk-container-id-3 div.sk-dashed-wrapped {border: 1px dashed gray;margin: 0 0.4em 0.5em 0.4em;box-sizing: border-box;padding-bottom: 0.4em;background-color: white;}#sk-container-id-3 div.sk-label label {font-family: monospace;font-weight: bold;display: inline-block;line-height: 1.2em;}#sk-container-id-3 div.sk-label-container {text-align: center;}#sk-container-id-3 div.sk-container {/* jupyter's `normalize.less` sets `[hidden] { display: none; }` but bootstrap.min.css set `[hidden] { display: none !important; }` so we also need the `!important` here to be able to override the default hidden behavior on the sphinx rendered scikit-learn.org. See: https://github.com/scikit-learn/scikit-learn/issues/21755 */display: inline-block !important;position: relative;}#sk-container-id-3 div.sk-text-repr-fallback {display: none;}</style><div id=\"sk-container-id-3\" class=\"sk-top-container\"><div class=\"sk-text-repr-fallback\"><pre>IsolationForest(contamination=0.03, max_features=0.1, max_samples=0.1,\n",
       "                n_estimators=230)</pre><b>In a Jupyter environment, please rerun this cell to show the HTML representation or trust the notebook. <br />On GitHub, the HTML representation is unable to render, please try loading this page with nbviewer.org.</b></div><div class=\"sk-container\" hidden><div class=\"sk-item\"><div class=\"sk-estimator sk-toggleable\"><input class=\"sk-toggleable__control sk-hidden--visually\" id=\"sk-estimator-id-3\" type=\"checkbox\" checked><label for=\"sk-estimator-id-3\" class=\"sk-toggleable__label sk-toggleable__label-arrow\">IsolationForest</label><div class=\"sk-toggleable__content\"><pre>IsolationForest(contamination=0.03, max_features=0.1, max_samples=0.1,\n",
       "                n_estimators=230)</pre></div></div></div></div></div>"
      ],
      "text/plain": [
       "IsolationForest(contamination=0.03, max_features=0.1, max_samples=0.1,\n",
       "                n_estimators=230)"
      ]
     },
     "execution_count": 60,
     "metadata": {},
     "output_type": "execute_result"
    }
   ],
   "source": [
    "model_iso = IsolationForest(contamination=0.03, max_features=0.1, max_samples=0.1,n_estimators=230)\n",
    "model_iso.fit(X_train_org)"
   ]
  },
  {
   "cell_type": "code",
   "execution_count": 61,
   "metadata": {},
   "outputs": [],
   "source": [
    "model_iso.predict(X_test[X_train.columns])\n",
    "y_test_pred = model_iso.predict(X_test[X_train.columns])\n",
    "y_test_pred = [1 if x==-1 else 0 for x in y_test_pred ]\n",
    "score = f1_score(y_test, y_test_pred)"
   ]
  },
  {
   "cell_type": "code",
   "execution_count": 62,
   "metadata": {},
   "outputs": [
    {
     "name": "stdout",
     "output_type": "stream",
     "text": [
      "0.10426540284360189\n",
      "0.1021671826625387\n"
     ]
    }
   ],
   "source": [
    "print(score)\n",
    "print(recall_score(y_test, y_test_pred))"
   ]
  },
  {
   "cell_type": "code",
   "execution_count": 63,
   "metadata": {},
   "outputs": [],
   "source": [
    "X_test[\"iso_pred\"]=y_test_pred"
   ]
  },
  {
   "cell_type": "markdown",
   "metadata": {},
   "source": [
    "##### Ensemble voting"
   ]
  },
  {
   "cell_type": "code",
   "execution_count": 64,
   "metadata": {},
   "outputs": [],
   "source": [
    "X_test[\"final_pred\"]=np.where(X_test[\"pred_lgbm\"]+X_test[\"pred_rf\"]+X_test[\"iso_pred\"]>1,1,0)"
   ]
  },
  {
   "cell_type": "code",
   "execution_count": 65,
   "metadata": {},
   "outputs": [
    {
     "name": "stdout",
     "output_type": "stream",
     "text": [
      "0.2171945701357466\n",
      "0.7430340557275542\n",
      "0.1271860095389507\n"
     ]
    },
    {
     "data": {
      "text/plain": [
       "array([[2593, 1647],\n",
       "       [  83,  240]], dtype=int64)"
      ]
     },
     "execution_count": 65,
     "metadata": {},
     "output_type": "execute_result"
    }
   ],
   "source": [
    "print(f1_score(X_test[\"ground_truth\"],X_test[\"final_pred\"]))\n",
    "print(recall_score(X_test[\"ground_truth\"],X_test[\"final_pred\"]))\n",
    "print(precision_score(X_test[\"ground_truth\"],X_test[\"final_pred\"]))\n",
    "confusion_matrix(X_test[\"ground_truth\"],X_test[\"final_pred\"])"
   ]
  },
  {
   "cell_type": "code",
   "execution_count": null,
   "metadata": {},
   "outputs": [],
   "source": [
    "# pickle.dump(model_iso,open('output files/model_iso.pkl','wb'))\n",
    "# X_test.to_csv(\"output files/ensemble_voting.csv\")\n"
   ]
  },
  {
   "cell_type": "markdown",
   "metadata": {},
   "source": [
    "##### New features : \n",
    "<b>4.  z_scores for below columns"
   ]
  },
  {
   "cell_type": "code",
   "execution_count": 66,
   "metadata": {},
   "outputs": [],
   "source": [
    "z_cols=['total_nr_trx', 'nr_debit_trx',\n",
    "       'volume_debit_trx', 'nr_credit_trx', 'volume_credit_trx', 'min_balance',\n",
    "       'max_balance']"
   ]
  },
  {
   "cell_type": "code",
   "execution_count": 67,
   "metadata": {},
   "outputs": [],
   "source": [
    "import scipy.stats as stats\n",
    "\n",
    "def get_zscore_col(ip_col):\n",
    "    new_col_name=ip_col+'_zscore'\n",
    "    df_complete_data[new_col_name]=stats.zscore(df_complete_data[ip_col].values)\n",
    "    "
   ]
  },
  {
   "cell_type": "code",
   "execution_count": 68,
   "metadata": {},
   "outputs": [],
   "source": [
    "for z in z_cols:\n",
    "    get_zscore_col(z)"
   ]
  },
  {
   "cell_type": "code",
   "execution_count": 69,
   "metadata": {},
   "outputs": [],
   "source": [
    "X_train_org,X_train,X_val,X_test,y_train_org,y_train,y_test,y_val=Split_data(df_complete_data)\n",
    "X_train.drop([\"volume_credit_trx\",\"volume_debit_trx\",\"total_nr_trx\"],axis=1,inplace=True)\n",
    "X_train_org.drop([\"volume_credit_trx\",\"volume_debit_trx\",\"total_nr_trx\"],axis=1,inplace=True)"
   ]
  },
  {
   "cell_type": "code",
   "execution_count": 70,
   "metadata": {},
   "outputs": [],
   "source": [
    "\n",
    "params_scope = {\n",
    "    'learning_rate': hp.uniform('learning_rate', 0.001, 0.1),\n",
    "    'num_leaves': hp.quniform('num_leaves', 2, 15, 1),\n",
    "    'n_estimators': hp.quniform('n_estimators', 10, 500, 10),\n",
    "    'scale_pos_weight': hp.quniform('scale_pos_weight', 5, 100, 5),\n",
    "    'reg_lambda ': hp.uniform('reg_lambda', 10.00, 100.0),\n",
    "    'pos_bagging_fraction': hp.uniform('pos_bagging_fraction', 0.0, 1.0),\n",
    "    'max_bin': hp.quniform('max_bin', 16, 256, 16)\n",
    "                            }\n"
   ]
  },
  {
   "cell_type": "code",
   "execution_count": 71,
   "metadata": {
    "scrolled": true
   },
   "outputs": [],
   "source": [
    "# feature_imp_df[feature_imp_df[\"feature_importance\"]==0].feature_name.values"
   ]
  },
  {
   "cell_type": "code",
   "execution_count": 72,
   "metadata": {},
   "outputs": [],
   "source": [
    "X_train.drop(['max_balance',\n",
    "       'nr_debit_trx_zscore', 'volume_debit_trx_zscore',\n",
    "       'nr_credit_trx_zscore', 'volume_credit_trx_zscore'],axis=1,inplace=True)\n",
    "\n",
    "X_train_org.drop(['max_balance',\n",
    "       'nr_debit_trx_zscore', 'volume_debit_trx_zscore',\n",
    "       'nr_credit_trx_zscore', 'volume_credit_trx_zscore'],axis=1,inplace=True)"
   ]
  },
  {
   "cell_type": "code",
   "execution_count": 73,
   "metadata": {},
   "outputs": [
    {
     "name": "stdout",
     "output_type": "stream",
     "text": [
      "100%|██████████████████████████████████████████████| 250/250 [03:08<00:00,  1.33trial/s, best loss: 0.7492931196983977]\n"
     ]
    },
    {
     "name": "stderr",
     "output_type": "stream",
     "text": [
      "'verbose' argument is deprecated and will be removed in a future release of LightGBM. Pass 'log_evaluation()' callback via 'callbacks' argument instead.\n"
     ]
    }
   ],
   "source": [
    "model_new,initial_params = feature_imp_lgbm(X_train,y_train,X_val,y_val,params_scope)\n",
    "feature_imp_df = pd.DataFrame(data={'feature_name':model_new.feature_name_,\n",
    "                   'feature_importance':model_new.feature_importances_},\n",
    "            \n",
    "            )\n",
    "feature_imp_df.sort_values(by=\"feature_importance\",ascending=False,inplace=True)"
   ]
  },
  {
   "cell_type": "code",
   "execution_count": 74,
   "metadata": {},
   "outputs": [
    {
     "name": "stdout",
     "output_type": "stream",
     "text": [
      "{'learning_rate': 0.08963777481377375, 'max_bin': 176.0, 'n_estimators': 10.0, 'num_leaves': 6.0, 'pos_bagging_fraction': 0.17944615605343356, 'reg_lambda': 32.834374467999524, 'scale_pos_weight': 20.0}\n"
     ]
    },
    {
     "data": {
      "text/html": [
       "<div>\n",
       "<style scoped>\n",
       "    .dataframe tbody tr th:only-of-type {\n",
       "        vertical-align: middle;\n",
       "    }\n",
       "\n",
       "    .dataframe tbody tr th {\n",
       "        vertical-align: top;\n",
       "    }\n",
       "\n",
       "    .dataframe thead th {\n",
       "        text-align: right;\n",
       "    }\n",
       "</style>\n",
       "<table border=\"1\" class=\"dataframe\">\n",
       "  <thead>\n",
       "    <tr style=\"text-align: right;\">\n",
       "      <th></th>\n",
       "      <th>feature_name</th>\n",
       "      <th>feature_importance</th>\n",
       "    </tr>\n",
       "  </thead>\n",
       "  <tbody>\n",
       "    <tr>\n",
       "      <th>4</th>\n",
       "      <td>CRG</td>\n",
       "      <td>10</td>\n",
       "    </tr>\n",
       "    <tr>\n",
       "      <th>5</th>\n",
       "      <td>credit_applied_before_ratio</td>\n",
       "      <td>10</td>\n",
       "    </tr>\n",
       "    <tr>\n",
       "      <th>1</th>\n",
       "      <td>nr_debit_trx</td>\n",
       "      <td>7</td>\n",
       "    </tr>\n",
       "    <tr>\n",
       "      <th>3</th>\n",
       "      <td>min_balance</td>\n",
       "      <td>6</td>\n",
       "    </tr>\n",
       "    <tr>\n",
       "      <th>0</th>\n",
       "      <td>yearmonth</td>\n",
       "      <td>5</td>\n",
       "    </tr>\n",
       "    <tr>\n",
       "      <th>6</th>\n",
       "      <td>debit_credit_ratio</td>\n",
       "      <td>4</td>\n",
       "    </tr>\n",
       "    <tr>\n",
       "      <th>2</th>\n",
       "      <td>nr_credit_trx</td>\n",
       "      <td>3</td>\n",
       "    </tr>\n",
       "    <tr>\n",
       "      <th>8</th>\n",
       "      <td>min_balance_zscore</td>\n",
       "      <td>2</td>\n",
       "    </tr>\n",
       "    <tr>\n",
       "      <th>9</th>\n",
       "      <td>max_balance_zscore</td>\n",
       "      <td>2</td>\n",
       "    </tr>\n",
       "    <tr>\n",
       "      <th>7</th>\n",
       "      <td>total_nr_trx_zscore</td>\n",
       "      <td>1</td>\n",
       "    </tr>\n",
       "  </tbody>\n",
       "</table>\n",
       "</div>"
      ],
      "text/plain": [
       "                  feature_name  feature_importance\n",
       "4                          CRG                  10\n",
       "5  credit_applied_before_ratio                  10\n",
       "1                 nr_debit_trx                   7\n",
       "3                  min_balance                   6\n",
       "0                    yearmonth                   5\n",
       "6           debit_credit_ratio                   4\n",
       "2                nr_credit_trx                   3\n",
       "8           min_balance_zscore                   2\n",
       "9           max_balance_zscore                   2\n",
       "7          total_nr_trx_zscore                   1"
      ]
     },
     "execution_count": 74,
     "metadata": {},
     "output_type": "execute_result"
    }
   ],
   "source": [
    "print(initial_params)\n",
    "feature_imp_df"
   ]
  },
  {
   "cell_type": "code",
   "execution_count": 75,
   "metadata": {},
   "outputs": [
    {
     "name": "stderr",
     "output_type": "stream",
     "text": [
      "LightGBM binary classifier with TreeExplainer shap values output has changed to a list of ndarray\n"
     ]
    },
    {
     "data": {
      "image/png": "[encoded data removed]",
      "text/plain": [
       "<Figure size 800x550 with 1 Axes>"
      ]
     },
     "metadata": {},
     "output_type": "display_data"
    }
   ],
   "source": [
    "import shap\n",
    "explainer = shap.TreeExplainer(model_new)\n",
    "shap_values = explainer.shap_values(X_val[X_train.columns])\n",
    "shap.summary_plot(shap_values, X_val[X_train.columns], plot_type=\"bar\")"
   ]
  },
  {
   "cell_type": "code",
   "execution_count": 76,
   "metadata": {},
   "outputs": [
    {
     "name": "stdout",
     "output_type": "stream",
     "text": [
      "[[2187 1481]\n",
      " [  80  232]]\n",
      "[[2080 1587]\n",
      " [  91  221]]\n",
      "[[2058 1609]\n",
      " [  73  239]]\n",
      "[[1562 2105]\n",
      " [  69  243]]\n",
      "[[1595 2072]\n",
      " [  52  260]]\n",
      "ROC AUC=0.67\n",
      "ROC AUC=0.64\n",
      "ROC AUC=0.66\n",
      "ROC AUC=0.60\n",
      "ROC AUC=0.63\n",
      "Mean ROC AUC score on validation data =0.64\n"
     ]
    },
    {
     "data": {
      "image/png": "[encoded data removed]",
      "text/plain": [
       "<Figure size 600x500 with 1 Axes>"
      ]
     },
     "metadata": {},
     "output_type": "display_data"
    }
   ],
   "source": [
    "current_f1_scores,roc_auc_scores_val,precision_score_val,recall_score_val,fpr_scores,tpr_scores=cross_validation(model_new,X_train_org[X_train.columns],y_train_org,0.4)\n",
    "color_list=[\"green\",\"red\",\"black\",\"yellow\",\"orange\"]\n",
    "for fpr_val,tpr_val,roc_auc_score,color in zip(fpr_scores,tpr_scores,roc_auc_scores_val,color_list):\n",
    "    plot_roc(fpr_val,tpr_val,roc_auc_score,color)\n",
    "    \n",
    "    \n",
    "print('Mean ROC AUC score on validation data =%0.2f'%np.mean(roc_auc_scores_val))"
   ]
  },
  {
   "cell_type": "code",
   "execution_count": 77,
   "metadata": {},
   "outputs": [
    {
     "name": "stdout",
     "output_type": "stream",
     "text": [
      "---------------THRESHOLD =0.3 ----------------------\n",
      "[[1538 2702]\n",
      " [  29  294]]\n",
      "F1 score on Test data:\n",
      "0.1771617957216029\n",
      "-----------------------------------------------------\n",
      "Recall score on Test data:\n",
      "0.9102167182662538\n",
      "-----------------------------------------------------\n",
      "Precision score on Test data:\n",
      "0.09813084112149532\n",
      "---------------THRESHOLD =0.35 ----------------------\n",
      "[[2024 2216]\n",
      " [  45  278]]\n",
      "F1 score on Test data:\n",
      "0.19737309194178204\n",
      "-----------------------------------------------------\n",
      "Recall score on Test data:\n",
      "0.8606811145510835\n",
      "-----------------------------------------------------\n",
      "Precision score on Test data:\n",
      "0.11146752205292702\n",
      "---------------THRESHOLD =0.4 ----------------------\n",
      "[[2166 2074]\n",
      " [  56  267]]\n",
      "F1 score on Test data:\n",
      "0.20045045045045046\n",
      "-----------------------------------------------------\n",
      "Recall score on Test data:\n",
      "0.826625386996904\n",
      "-----------------------------------------------------\n",
      "Precision score on Test data:\n",
      "0.11405382315249893\n",
      "---------------THRESHOLD =0.45 ----------------------\n",
      "[[2294 1946]\n",
      " [  64  259]]\n",
      "F1 score on Test data:\n",
      "0.20490506329113922\n",
      "-----------------------------------------------------\n",
      "Recall score on Test data:\n",
      "0.8018575851393189\n",
      "-----------------------------------------------------\n",
      "Precision score on Test data:\n",
      "0.11746031746031746\n",
      "---------------THRESHOLD =0.5 ----------------------\n",
      "[[3513  727]\n",
      " [ 172  151]]\n",
      "F1 score on Test data:\n",
      "0.25145711906744384\n",
      "-----------------------------------------------------\n",
      "Recall score on Test data:\n",
      "0.4674922600619195\n",
      "-----------------------------------------------------\n",
      "Precision score on Test data:\n",
      "0.17198177676537585\n",
      "---------------THRESHOLD =0.55 ----------------------\n",
      "[[4240    0]\n",
      " [ 323    0]]\n",
      "F1 score on Test data:\n",
      "0.0\n",
      "-----------------------------------------------------\n",
      "Recall score on Test data:\n",
      "0.0\n",
      "-----------------------------------------------------\n",
      "Precision score on Test data:\n",
      "0.0\n",
      "---------------THRESHOLD =0.61 ----------------------\n",
      "[[4240    0]\n",
      " [ 323    0]]\n",
      "F1 score on Test data:\n",
      "0.0\n",
      "-----------------------------------------------------\n",
      "Recall score on Test data:\n",
      "0.0\n",
      "-----------------------------------------------------\n",
      "Precision score on Test data:\n",
      "0.0\n"
     ]
    },
    {
     "name": "stderr",
     "output_type": "stream",
     "text": [
      "Precision is ill-defined and being set to 0.0 due to no predicted samples. Use `zero_division` parameter to control this behavior.\n",
      "Precision is ill-defined and being set to 0.0 due to no predicted samples. Use `zero_division` parameter to control this behavior.\n"
     ]
    }
   ],
   "source": [
    "# y_test_pred = model.predict(X_test)\n",
    "for i in np.arange(0.3,0.65,0.051):\n",
    "    i=(round(i,2))\n",
    "    print(\"---------------THRESHOLD =\"+str(i)+\" ----------------------\")\n",
    "\n",
    "    y_test_pred=np.where(model_new.predict_proba(X_test[X_train.columns])[:,1] >i,1,0)\n",
    "\n",
    "    print(confusion_matrix(y_test,y_test_pred))\n",
    "    print(\"F1 score on Test data:\")\n",
    "    print(f1_score(y_test,y_test_pred))\n",
    "    print(\"-----------------------------------------------------\")\n",
    "    print(\"Recall score on Test data:\")\n",
    "    print(recall_score(y_test,y_test_pred))\n",
    "    print(\"-----------------------------------------------------\")\n",
    "    print(\"Precision score on Test data:\")\n",
    "    print(precision_score(y_test,y_test_pred))"
   ]
  },
  {
   "cell_type": "code",
   "execution_count": 78,
   "metadata": {},
   "outputs": [
    {
     "name": "stdout",
     "output_type": "stream",
     "text": [
      "[[2166 2074]\n",
      " [  56  267]]\n",
      "F1 score on Test data:\n",
      "0.20045045045045046\n",
      "-----------------------------------------------------\n",
      "Recall score on Test data:\n",
      "0.826625386996904\n",
      "-----------------------------------------------------\n",
      "Precision score on Test data:\n",
      "0.11405382315249893\n"
     ]
    }
   ],
   "source": [
    "# X_test=X_test[X_train.columns]\n",
    "y_test_pred=np.where(model_new.predict_proba(X_test[X_train.columns])[:,1] >0.4,1,0)\n",
    "print(confusion_matrix(y_test,y_test_pred))\n",
    "print(\"F1 score on Test data:\")\n",
    "print(f1_score(y_test,y_test_pred))\n",
    "print(\"-----------------------------------------------------\")\n",
    "print(\"Recall score on Test data:\")\n",
    "print(recall_score(y_test,y_test_pred))\n",
    "print(\"-----------------------------------------------------\")\n",
    "print(\"Precision score on Test data:\")\n",
    "print(precision_score(y_test,y_test_pred))"
   ]
  },
  {
   "cell_type": "code",
   "execution_count": 79,
   "metadata": {},
   "outputs": [],
   "source": [
    "# 0.20677966101694914\n",
    "# 0.7554179566563467\n",
    "# 0.11978399607265587\n",
    "# array([[2447, 1793],\n",
    "#        [  79,  244]], dtype=int64)"
   ]
  }
 ],
 "metadata": {
  "kernelspec": {
   "display_name": "nlp_tasks",
   "language": "python",
   "name": "nlp_tasks"
  },
  "language_info": {
   "codemirror_mode": {
    "name": "ipython",
    "version": 3
   },
   "file_extension": ".py",
   "mimetype": "text/x-python",
   "name": "python",
   "nbconvert_exporter": "python",
   "pygments_lexer": "ipython3",
   "version": "3.10.9"
  }
 },
 "nbformat": 4,
 "nbformat_minor": 4
}
