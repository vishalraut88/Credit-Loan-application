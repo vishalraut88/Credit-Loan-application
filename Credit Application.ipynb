{
 "cells": [
  {
   "cell_type": "code",
   "execution_count": 1,
   "metadata": {},
   "outputs": [],
   "source": [
    "import lightgbm as lgbm\n",
    "from hyperopt import hp, tpe, Trials"
   ]
  },
  {
   "cell_type": "code",
   "execution_count": 2,
   "metadata": {},
   "outputs": [],
   "source": [
    "import pandas as pd\n",
    "import numpy as np\n",
    "import seaborn as sns\n",
    "import matplotlib.pyplot as plt\n",
    "from sklearn.model_selection import train_test_split\n",
    "from utils.preprocessing import preprocessing \n",
    "from utils.utils import feature_importances,initial_hyperparam_search,cast_params_to_proper_types,lgb_f1_score,feature_imp_lgbm"
   ]
  },
  {
   "cell_type": "code",
   "execution_count": 3,
   "metadata": {},
   "outputs": [],
   "source": [
    "prepos= preprocessing()\n",
    "df_credit_application = prepos.read_data(\"credit_applications.csv\")\n",
    "df_customers = prepos.read_data(\"customers.csv\")\n",
    "df_customers.drop(\"Unnamed: 0\",axis=1,inplace=True)\n",
    "df_credit_application.drop(\"Unnamed: 0\",axis=1,inplace=True)"
   ]
  },
  {
   "cell_type": "code",
   "execution_count": 4,
   "metadata": {},
   "outputs": [
    {
     "name": "stdout",
     "output_type": "stream",
     "text": [
      "(29996, 12)\n"
     ]
    }
   ],
   "source": [
    "df_complete_data = df_customers.merge(df_credit_application,how=\"inner\",on=[\"client_nr\",\"yearmonth\"])\n",
    "print(df_complete_data.shape)"
   ]
  },
  {
   "cell_type": "code",
   "execution_count": null,
   "metadata": {},
   "outputs": [],
   "source": []
  },
  {
   "cell_type": "markdown",
   "metadata": {},
   "source": [
    "##### EDA And feature importances"
   ]
  },
  {
   "cell_type": "code",
   "execution_count": 5,
   "metadata": {},
   "outputs": [
    {
     "data": {
      "text/html": [
       "<div>\n",
       "<style scoped>\n",
       "    .dataframe tbody tr th:only-of-type {\n",
       "        vertical-align: middle;\n",
       "    }\n",
       "\n",
       "    .dataframe tbody tr th {\n",
       "        vertical-align: top;\n",
       "    }\n",
       "\n",
       "    .dataframe thead th {\n",
       "        text-align: right;\n",
       "    }\n",
       "</style>\n",
       "<table border=\"1\" class=\"dataframe\">\n",
       "  <thead>\n",
       "    <tr style=\"text-align: right;\">\n",
       "      <th></th>\n",
       "      <th>client_nr</th>\n",
       "      <th>yearmonth</th>\n",
       "      <th>total_nr_trx</th>\n",
       "      <th>nr_debit_trx</th>\n",
       "      <th>volume_debit_trx</th>\n",
       "      <th>nr_credit_trx</th>\n",
       "      <th>volume_credit_trx</th>\n",
       "      <th>min_balance</th>\n",
       "      <th>max_balance</th>\n",
       "      <th>CRG</th>\n",
       "      <th>credit_application</th>\n",
       "      <th>nr_credit_applications</th>\n",
       "    </tr>\n",
       "  </thead>\n",
       "  <tbody>\n",
       "    <tr>\n",
       "      <th>count</th>\n",
       "      <td>29996.000000</td>\n",
       "      <td>29996.000000</td>\n",
       "      <td>29996.000000</td>\n",
       "      <td>29996.000000</td>\n",
       "      <td>2.999600e+04</td>\n",
       "      <td>29996.000000</td>\n",
       "      <td>2.999600e+04</td>\n",
       "      <td>2.999600e+04</td>\n",
       "      <td>2.999600e+04</td>\n",
       "      <td>24459.000000</td>\n",
       "      <td>29996.000000</td>\n",
       "      <td>29996.000000</td>\n",
       "    </tr>\n",
       "    <tr>\n",
       "      <th>mean</th>\n",
       "      <td>481.560775</td>\n",
       "      <td>201493.675157</td>\n",
       "      <td>166.427957</td>\n",
       "      <td>75.785571</td>\n",
       "      <td>1.121290e+07</td>\n",
       "      <td>90.642386</td>\n",
       "      <td>1.126906e+07</td>\n",
       "      <td>-5.523773e+06</td>\n",
       "      <td>3.752693e+06</td>\n",
       "      <td>3.251850</td>\n",
       "      <td>0.067509</td>\n",
       "      <td>0.087078</td>\n",
       "    </tr>\n",
       "    <tr>\n",
       "      <th>std</th>\n",
       "      <td>281.317753</td>\n",
       "      <td>77.361645</td>\n",
       "      <td>220.947519</td>\n",
       "      <td>60.063496</td>\n",
       "      <td>1.617596e+07</td>\n",
       "      <td>192.244770</td>\n",
       "      <td>1.624998e+07</td>\n",
       "      <td>1.357517e+07</td>\n",
       "      <td>1.616937e+07</td>\n",
       "      <td>1.889136</td>\n",
       "      <td>0.250906</td>\n",
       "      <td>0.364473</td>\n",
       "    </tr>\n",
       "    <tr>\n",
       "      <th>min</th>\n",
       "      <td>1.000000</td>\n",
       "      <td>201401.000000</td>\n",
       "      <td>1.000000</td>\n",
       "      <td>0.000000</td>\n",
       "      <td>0.000000e+00</td>\n",
       "      <td>0.000000</td>\n",
       "      <td>0.000000e+00</td>\n",
       "      <td>-3.467127e+08</td>\n",
       "      <td>-2.485206e+08</td>\n",
       "      <td>1.000000</td>\n",
       "      <td>0.000000</td>\n",
       "      <td>0.000000</td>\n",
       "    </tr>\n",
       "    <tr>\n",
       "      <th>25%</th>\n",
       "      <td>237.000000</td>\n",
       "      <td>201409.000000</td>\n",
       "      <td>76.000000</td>\n",
       "      <td>38.000000</td>\n",
       "      <td>3.072750e+06</td>\n",
       "      <td>33.000000</td>\n",
       "      <td>3.148068e+06</td>\n",
       "      <td>-7.895864e+06</td>\n",
       "      <td>-1.868002e+06</td>\n",
       "      <td>2.000000</td>\n",
       "      <td>0.000000</td>\n",
       "      <td>0.000000</td>\n",
       "    </tr>\n",
       "    <tr>\n",
       "      <th>50%</th>\n",
       "      <td>479.000000</td>\n",
       "      <td>201505.000000</td>\n",
       "      <td>129.000000</td>\n",
       "      <td>66.000000</td>\n",
       "      <td>6.822769e+06</td>\n",
       "      <td>56.000000</td>\n",
       "      <td>6.934694e+06</td>\n",
       "      <td>-2.957198e+06</td>\n",
       "      <td>1.040998e+06</td>\n",
       "      <td>3.000000</td>\n",
       "      <td>0.000000</td>\n",
       "      <td>0.000000</td>\n",
       "    </tr>\n",
       "    <tr>\n",
       "      <th>75%</th>\n",
       "      <td>721.000000</td>\n",
       "      <td>201601.000000</td>\n",
       "      <td>205.000000</td>\n",
       "      <td>101.000000</td>\n",
       "      <td>1.386656e+07</td>\n",
       "      <td>102.000000</td>\n",
       "      <td>1.394257e+07</td>\n",
       "      <td>1.690275e+04</td>\n",
       "      <td>5.806224e+06</td>\n",
       "      <td>4.000000</td>\n",
       "      <td>0.000000</td>\n",
       "      <td>0.000000</td>\n",
       "    </tr>\n",
       "    <tr>\n",
       "      <th>max</th>\n",
       "      <td>1000.000000</td>\n",
       "      <td>201608.000000</td>\n",
       "      <td>6341.000000</td>\n",
       "      <td>1590.000000</td>\n",
       "      <td>7.980480e+08</td>\n",
       "      <td>6325.000000</td>\n",
       "      <td>8.775321e+08</td>\n",
       "      <td>2.109783e+08</td>\n",
       "      <td>3.722319e+08</td>\n",
       "      <td>7.000000</td>\n",
       "      <td>1.000000</td>\n",
       "      <td>7.000000</td>\n",
       "    </tr>\n",
       "  </tbody>\n",
       "</table>\n",
       "</div>"
      ],
      "text/plain": [
       "          client_nr      yearmonth  total_nr_trx  nr_debit_trx  \\\n",
       "count  29996.000000   29996.000000  29996.000000  29996.000000   \n",
       "mean     481.560775  201493.675157    166.427957     75.785571   \n",
       "std      281.317753      77.361645    220.947519     60.063496   \n",
       "min        1.000000  201401.000000      1.000000      0.000000   \n",
       "25%      237.000000  201409.000000     76.000000     38.000000   \n",
       "50%      479.000000  201505.000000    129.000000     66.000000   \n",
       "75%      721.000000  201601.000000    205.000000    101.000000   \n",
       "max     1000.000000  201608.000000   6341.000000   1590.000000   \n",
       "\n",
       "       volume_debit_trx  nr_credit_trx  volume_credit_trx   min_balance  \\\n",
       "count      2.999600e+04   29996.000000       2.999600e+04  2.999600e+04   \n",
       "mean       1.121290e+07      90.642386       1.126906e+07 -5.523773e+06   \n",
       "std        1.617596e+07     192.244770       1.624998e+07  1.357517e+07   \n",
       "min        0.000000e+00       0.000000       0.000000e+00 -3.467127e+08   \n",
       "25%        3.072750e+06      33.000000       3.148068e+06 -7.895864e+06   \n",
       "50%        6.822769e+06      56.000000       6.934694e+06 -2.957198e+06   \n",
       "75%        1.386656e+07     102.000000       1.394257e+07  1.690275e+04   \n",
       "max        7.980480e+08    6325.000000       8.775321e+08  2.109783e+08   \n",
       "\n",
       "        max_balance           CRG  credit_application  nr_credit_applications  \n",
       "count  2.999600e+04  24459.000000        29996.000000            29996.000000  \n",
       "mean   3.752693e+06      3.251850            0.067509                0.087078  \n",
       "std    1.616937e+07      1.889136            0.250906                0.364473  \n",
       "min   -2.485206e+08      1.000000            0.000000                0.000000  \n",
       "25%   -1.868002e+06      2.000000            0.000000                0.000000  \n",
       "50%    1.040998e+06      3.000000            0.000000                0.000000  \n",
       "75%    5.806224e+06      4.000000            0.000000                0.000000  \n",
       "max    3.722319e+08      7.000000            1.000000                7.000000  "
      ]
     },
     "execution_count": 5,
     "metadata": {},
     "output_type": "execute_result"
    }
   ],
   "source": [
    "df_complete_data.describe()"
   ]
  },
  {
   "cell_type": "code",
   "execution_count": 6,
   "metadata": {},
   "outputs": [
    {
     "data": {
      "text/plain": [
       "<Axes: xlabel='credit_application', ylabel='count'>"
      ]
     },
     "execution_count": 6,
     "metadata": {},
     "output_type": "execute_result"
    },
    {
     "data": {
      "image/png": "[encoded data removed]",
      "text/plain": [
       "<Figure size 640x480 with 1 Axes>"
      ]
     },
     "metadata": {},
     "output_type": "display_data"
    }
   ],
   "source": [
    "sns.countplot(x=df_complete_data[\"credit_application\"])\n",
    "\n",
    "# 0    27971\n",
    "# 1     2025"
   ]
  },
  {
   "cell_type": "code",
   "execution_count": 7,
   "metadata": {},
   "outputs": [
    {
     "data": {
      "text/html": [
       "<div>\n",
       "<style scoped>\n",
       "    .dataframe tbody tr th:only-of-type {\n",
       "        vertical-align: middle;\n",
       "    }\n",
       "\n",
       "    .dataframe tbody tr th {\n",
       "        vertical-align: top;\n",
       "    }\n",
       "\n",
       "    .dataframe thead th {\n",
       "        text-align: right;\n",
       "    }\n",
       "</style>\n",
       "<table border=\"1\" class=\"dataframe\">\n",
       "  <thead>\n",
       "    <tr style=\"text-align: right;\">\n",
       "      <th></th>\n",
       "      <th>Missing Values</th>\n",
       "      <th>Percentage of missing values</th>\n",
       "    </tr>\n",
       "  </thead>\n",
       "  <tbody>\n",
       "    <tr>\n",
       "      <th>client_nr</th>\n",
       "      <td>0</td>\n",
       "      <td>0.000000</td>\n",
       "    </tr>\n",
       "    <tr>\n",
       "      <th>yearmonth</th>\n",
       "      <td>0</td>\n",
       "      <td>0.000000</td>\n",
       "    </tr>\n",
       "    <tr>\n",
       "      <th>total_nr_trx</th>\n",
       "      <td>0</td>\n",
       "      <td>0.000000</td>\n",
       "    </tr>\n",
       "    <tr>\n",
       "      <th>nr_debit_trx</th>\n",
       "      <td>0</td>\n",
       "      <td>0.000000</td>\n",
       "    </tr>\n",
       "    <tr>\n",
       "      <th>volume_debit_trx</th>\n",
       "      <td>0</td>\n",
       "      <td>0.000000</td>\n",
       "    </tr>\n",
       "    <tr>\n",
       "      <th>nr_credit_trx</th>\n",
       "      <td>0</td>\n",
       "      <td>0.000000</td>\n",
       "    </tr>\n",
       "    <tr>\n",
       "      <th>volume_credit_trx</th>\n",
       "      <td>0</td>\n",
       "      <td>0.000000</td>\n",
       "    </tr>\n",
       "    <tr>\n",
       "      <th>min_balance</th>\n",
       "      <td>0</td>\n",
       "      <td>0.000000</td>\n",
       "    </tr>\n",
       "    <tr>\n",
       "      <th>max_balance</th>\n",
       "      <td>0</td>\n",
       "      <td>0.000000</td>\n",
       "    </tr>\n",
       "    <tr>\n",
       "      <th>CRG</th>\n",
       "      <td>5537</td>\n",
       "      <td>18.459128</td>\n",
       "    </tr>\n",
       "    <tr>\n",
       "      <th>credit_application</th>\n",
       "      <td>0</td>\n",
       "      <td>0.000000</td>\n",
       "    </tr>\n",
       "    <tr>\n",
       "      <th>nr_credit_applications</th>\n",
       "      <td>0</td>\n",
       "      <td>0.000000</td>\n",
       "    </tr>\n",
       "  </tbody>\n",
       "</table>\n",
       "</div>"
      ],
      "text/plain": [
       "                        Missing Values  Percentage of missing values\n",
       "client_nr                            0                      0.000000\n",
       "yearmonth                            0                      0.000000\n",
       "total_nr_trx                         0                      0.000000\n",
       "nr_debit_trx                         0                      0.000000\n",
       "volume_debit_trx                     0                      0.000000\n",
       "nr_credit_trx                        0                      0.000000\n",
       "volume_credit_trx                    0                      0.000000\n",
       "min_balance                          0                      0.000000\n",
       "max_balance                          0                      0.000000\n",
       "CRG                               5537                     18.459128\n",
       "credit_application                   0                      0.000000\n",
       "nr_credit_applications               0                      0.000000"
      ]
     },
     "execution_count": 7,
     "metadata": {},
     "output_type": "execute_result"
    }
   ],
   "source": [
    "prepos.missing_values_intable(df_complete_data)"
   ]
  },
  {
   "cell_type": "code",
   "execution_count": 8,
   "metadata": {},
   "outputs": [],
   "source": [
    "# plt.rcParams[\"figure.figsize\"] = [5,5]  #set the graph to a smaller size \n",
    "df_complete_data[\"debit_credit_ratio\"]=df_complete_data[\"volume_debit_trx\"]/df_complete_data[\"volume_credit_trx\"]"
   ]
  },
  {
   "cell_type": "code",
   "execution_count": 9,
   "metadata": {},
   "outputs": [],
   "source": [
    "df_complete_data[\"debit_credit_ratio\"] = np.where(df_complete_data[\"debit_credit_ratio\"]==np.inf,df_complete_data[\"volume_debit_trx\"],df_complete_data[\"debit_credit_ratio\"])"
   ]
  },
  {
   "cell_type": "code",
   "execution_count": 10,
   "metadata": {},
   "outputs": [
    {
     "data": {
      "text/plain": [
       "credit_application        1.000000\n",
       "nr_credit_applications    0.887960\n",
       "CRG                       0.104958\n",
       "nr_debit_trx              0.030467\n",
       "client_nr                 0.020659\n",
       "volume_credit_trx         0.013168\n",
       "volume_debit_trx          0.008674\n",
       "total_nr_trx             -0.001848\n",
       "debit_credit_ratio       -0.002477\n",
       "yearmonth                -0.011546\n",
       "nr_credit_trx            -0.011643\n",
       "max_balance              -0.043633\n",
       "min_balance              -0.082577\n",
       "Name: credit_application, dtype: float64"
      ]
     },
     "execution_count": 10,
     "metadata": {},
     "output_type": "execute_result"
    }
   ],
   "source": [
    "corl= df_complete_data.corr()\n",
    "corl[\"credit_application\"].sort_values(ascending=False)"
   ]
  },
  {
   "cell_type": "code",
   "execution_count": 11,
   "metadata": {
    "scrolled": true
   },
   "outputs": [
    {
     "name": "stdout",
     "output_type": "stream",
     "text": [
      "Removing columns: []\n",
      "['min_balance', 'CRG', 'credit_application']\n",
      "credit_application    1.00\n",
      "CRG                   0.13\n",
      "min_balance           0.08\n",
      "max_balance           0.04\n",
      "nr_debit_trx          0.03\n",
      "client_nr             0.02\n",
      "yearmonth             0.01\n",
      "volume_debit_trx      0.01\n",
      "nr_credit_trx         0.01\n",
      "volume_credit_trx     0.01\n",
      "total_nr_trx          0.00\n",
      "debit_credit_ratio    0.00\n",
      "Name: credit_application, dtype: float64\n"
     ]
    }
   ],
   "source": [
    "# fimp=feature_importances()\n",
    "# X_train_feature_selection, accepted_columns,assoc_result,disallowed_columns = fimp.filter_out_features_based_on_statistical_approach(df_complete_data,[],\"credit_application\")\n",
    "# print(accepted_columns)\n",
    "# print(assoc_result[\"credit_application\"].sort_values(ascending=False))\n",
    "\n",
    "df_complete_data.drop(\"nr_credit_applications\",axis=1,inplace=True)\n",
    "fimp=feature_importances()\n",
    "X_train_feature_selection, accepted_columns,assoc_result,disallowed_columns = fimp.filter_out_features_based_on_statistical_approach(df_complete_data,[],\"credit_application\")\n",
    "print(accepted_columns)\n",
    "print(assoc_result[\"credit_application\"].sort_values(ascending=False))"
   ]
  },
  {
   "cell_type": "markdown",
   "metadata": {},
   "source": [
    "For a Time being delete rows where CRG is not present"
   ]
  },
  {
   "cell_type": "code",
   "execution_count": 12,
   "metadata": {},
   "outputs": [
    {
     "data": {
      "text/plain": [
       "0    5395\n",
       "1     142\n",
       "Name: credit_application, dtype: int64"
      ]
     },
     "execution_count": 12,
     "metadata": {},
     "output_type": "execute_result"
    }
   ],
   "source": [
    "df_complete_data[df_complete_data[\"CRG\"].isna()][\"credit_application\"].value_counts()\n",
    "# 0    5395\n",
    "# 1     142"
   ]
  },
  {
   "cell_type": "code",
   "execution_count": 13,
   "metadata": {},
   "outputs": [],
   "source": [
    "df_complete_data = df_complete_data[~df_complete_data[\"CRG\"].isna()]"
   ]
  },
  {
   "cell_type": "code",
   "execution_count": 14,
   "metadata": {},
   "outputs": [
    {
     "data": {
      "text/plain": [
       "(24459, 12)"
      ]
     },
     "execution_count": 14,
     "metadata": {},
     "output_type": "execute_result"
    }
   ],
   "source": [
    "df_complete_data.shape"
   ]
  },
  {
   "cell_type": "markdown",
   "metadata": {},
   "source": [
    "#### To do : Missing value treatment for CRG"
   ]
  },
  {
   "cell_type": "code",
   "execution_count": 15,
   "metadata": {},
   "outputs": [
    {
     "data": {
      "text/html": [
       "<div>\n",
       "<style scoped>\n",
       "    .dataframe tbody tr th:only-of-type {\n",
       "        vertical-align: middle;\n",
       "    }\n",
       "\n",
       "    .dataframe tbody tr th {\n",
       "        vertical-align: top;\n",
       "    }\n",
       "\n",
       "    .dataframe thead th {\n",
       "        text-align: right;\n",
       "    }\n",
       "</style>\n",
       "<table border=\"1\" class=\"dataframe\">\n",
       "  <thead>\n",
       "    <tr style=\"text-align: right;\">\n",
       "      <th></th>\n",
       "      <th>client_nr</th>\n",
       "      <th>yearmonth</th>\n",
       "      <th>CRG</th>\n",
       "      <th>total_nr_trx</th>\n",
       "    </tr>\n",
       "  </thead>\n",
       "  <tbody>\n",
       "    <tr>\n",
       "      <th>0</th>\n",
       "      <td>1</td>\n",
       "      <td>201401</td>\n",
       "      <td>1.0</td>\n",
       "      <td>1</td>\n",
       "    </tr>\n",
       "    <tr>\n",
       "      <th>1</th>\n",
       "      <td>1</td>\n",
       "      <td>201402</td>\n",
       "      <td>1.0</td>\n",
       "      <td>1</td>\n",
       "    </tr>\n",
       "    <tr>\n",
       "      <th>2</th>\n",
       "      <td>1</td>\n",
       "      <td>201403</td>\n",
       "      <td>1.0</td>\n",
       "      <td>1</td>\n",
       "    </tr>\n",
       "    <tr>\n",
       "      <th>3</th>\n",
       "      <td>1</td>\n",
       "      <td>201404</td>\n",
       "      <td>1.0</td>\n",
       "      <td>1</td>\n",
       "    </tr>\n",
       "    <tr>\n",
       "      <th>4</th>\n",
       "      <td>1</td>\n",
       "      <td>201405</td>\n",
       "      <td>1.0</td>\n",
       "      <td>1</td>\n",
       "    </tr>\n",
       "    <tr>\n",
       "      <th>...</th>\n",
       "      <td>...</td>\n",
       "      <td>...</td>\n",
       "      <td>...</td>\n",
       "      <td>...</td>\n",
       "    </tr>\n",
       "    <tr>\n",
       "      <th>24454</th>\n",
       "      <td>988</td>\n",
       "      <td>201604</td>\n",
       "      <td>3.0</td>\n",
       "      <td>1</td>\n",
       "    </tr>\n",
       "    <tr>\n",
       "      <th>24455</th>\n",
       "      <td>988</td>\n",
       "      <td>201605</td>\n",
       "      <td>3.0</td>\n",
       "      <td>1</td>\n",
       "    </tr>\n",
       "    <tr>\n",
       "      <th>24456</th>\n",
       "      <td>988</td>\n",
       "      <td>201606</td>\n",
       "      <td>3.0</td>\n",
       "      <td>1</td>\n",
       "    </tr>\n",
       "    <tr>\n",
       "      <th>24457</th>\n",
       "      <td>988</td>\n",
       "      <td>201607</td>\n",
       "      <td>3.0</td>\n",
       "      <td>1</td>\n",
       "    </tr>\n",
       "    <tr>\n",
       "      <th>24458</th>\n",
       "      <td>988</td>\n",
       "      <td>201608</td>\n",
       "      <td>3.0</td>\n",
       "      <td>1</td>\n",
       "    </tr>\n",
       "  </tbody>\n",
       "</table>\n",
       "<p>24459 rows × 4 columns</p>\n",
       "</div>"
      ],
      "text/plain": [
       "       client_nr  yearmonth  CRG  total_nr_trx\n",
       "0              1     201401  1.0             1\n",
       "1              1     201402  1.0             1\n",
       "2              1     201403  1.0             1\n",
       "3              1     201404  1.0             1\n",
       "4              1     201405  1.0             1\n",
       "...          ...        ...  ...           ...\n",
       "24454        988     201604  3.0             1\n",
       "24455        988     201605  3.0             1\n",
       "24456        988     201606  3.0             1\n",
       "24457        988     201607  3.0             1\n",
       "24458        988     201608  3.0             1\n",
       "\n",
       "[24459 rows x 4 columns]"
      ]
     },
     "execution_count": 15,
     "metadata": {},
     "output_type": "execute_result"
    }
   ],
   "source": [
    "df_complete_data.groupby([\"client_nr\",\"yearmonth\",\"CRG\"])[\"total_nr_trx\"].count().reset_index()"
   ]
  },
  {
   "cell_type": "markdown",
   "metadata": {},
   "source": [
    "###### New features ideas\n",
    "Calculate how many times client has applied for credit in the past for each month"
   ]
  },
  {
   "cell_type": "code",
   "execution_count": 16,
   "metadata": {},
   "outputs": [],
   "source": [
    "def calculate_nr_credit_in_past(current_index):\n",
    "#     print(current_index)\n",
    "    client_nr = df_complete_data.loc[[current_index]][\"client_nr\"].values[0]\n",
    "    tmp_sum = df_complete_data[(df_complete_data[\"client_nr\"]==client_nr) & (df_complete_data.index <current_index)][\"credit_application\"].sum()\n",
    "    tmp_cnt = df_complete_data[(df_complete_data[\"client_nr\"]==client_nr) & (df_complete_data.index <current_index)][\"credit_application\"].count()\n",
    "    if(tmp_cnt==0):\n",
    "        return 0\n",
    "    else:\n",
    "        return tmp_sum/tmp_cnt"
   ]
  },
  {
   "cell_type": "code",
   "execution_count": 17,
   "metadata": {},
   "outputs": [],
   "source": [
    "df_complete_data.to_csv(\"test_the feature.csv\")"
   ]
  },
  {
   "cell_type": "code",
   "execution_count": 18,
   "metadata": {},
   "outputs": [],
   "source": [
    "df_complete_data[\"credit_applied_before_ratio\"]= df_complete_data.index.map(calculate_nr_credit_in_past)"
   ]
  },
  {
   "cell_type": "markdown",
   "metadata": {},
   "source": [
    "#### Split data strategy\n",
    "\n",
    "As part of train/test data split, 20% of data will be reserved as test data and will not seen by any model.\n",
    "That amounts to approximately = 6 months worth of data.\n",
    "Instead of splitting train/test data randomly, I decided to leave last 6 month data as test data set i.e. March 2016 to August 2016"
   ]
  },
  {
   "cell_type": "code",
   "execution_count": 19,
   "metadata": {},
   "outputs": [],
   "source": [
    "X_test = df_complete_data[df_complete_data[\"yearmonth\"].isin([201608,201607,201606,201605,201604,201603])].copy()\n",
    "y_test = X_test[\"credit_application\"]\n",
    "\n",
    "X_train_org = df_complete_data[~df_complete_data[\"yearmonth\"].isin([201608,201607,201606,201605,201604,201603])].copy()\n",
    "y_train_org = X_train_org[\"credit_application\"]\n",
    "\n",
    "X_train,X_val,y_train,y_val=train_test_split(X_train_org,X_train_org[\"credit_application\"],test_size=0.2,random_state=42,stratify=X_train_org[\"credit_application\"])\n",
    "\n",
    "X_test.drop([\"credit_application\"],axis=1,inplace=True)\n",
    "X_train_org.drop([\"credit_application\",\"client_nr\"],axis=1,inplace=True)\n",
    "X_train.drop([\"credit_application\",\"client_nr\"],axis=1,inplace=True)\n",
    "X_val.drop([\"credit_application\",\"client_nr\"],axis=1,inplace=True)\n",
    "\n",
    "\n",
    "# X_test.drop([\"credit_application\",\"client_nr\",\"nr_credit_applications\"],axis=1,inplace=True)\n",
    "# X_train_org.drop([\"credit_application\",\"client_nr\",\"nr_credit_applications\"],axis=1,inplace=True)\n",
    "# X_train.drop([\"credit_application\",\"client_nr\",\"nr_credit_applications\"],axis=1,inplace=True)\n",
    "# X_val.drop([\"credit_application\",\"client_nr\",\"nr_credit_applications\"],axis=1,inplace=True)"
   ]
  },
  {
   "cell_type": "markdown",
   "metadata": {},
   "source": [
    "##### 2. Using Lightgbm feature importance"
   ]
  },
  {
   "cell_type": "code",
   "execution_count": 21,
   "metadata": {},
   "outputs": [],
   "source": [
    "from lightgbm import plot_importance\n",
    "from sklearn.model_selection import GridSearchCV\n",
    "params_scope = {\n",
    "    'learning_rate': hp.uniform('learning_rate', 0.001, 0.1),\n",
    "    'num_leaves': hp.quniform('num_leaves', 2, 15, 1),\n",
    "    'n_estimators': hp.quniform('n_estimators', 10, 500, 10),\n",
    "    'scale_pos_weight': hp.quniform('scale_pos_weight', 5, 100, 5),\n",
    "    'reg_lambda ': hp.uniform('reg_lambda', 10.00, 100.0),\n",
    "    'pos_bagging_fraction': hp.uniform('pos_bagging_fraction', 0.0, 1.0),\n",
    "    'max_bin': hp.quniform('max_bin', 16, 256, 16)\n",
    "                            }\n"
   ]
  },
  {
   "cell_type": "code",
   "execution_count": 22,
   "metadata": {},
   "outputs": [],
   "source": [
    "\n",
    "\n",
    "# params_scope = {\n",
    "# #                 'learning_rate': [x/1000 for x in range(1, 110,10)],\n",
    "#                 'n_estimators': [x for x in range(10, 500,50)],\n",
    "#                'num_leaves': [x for x in range(2, 15,2)],\n",
    "#                'scale_pos_weight':[x for x in range(85, 100,5)],\n",
    "#                'objective': ['binary'],\n",
    "# #                'reg_lambda ': [x for x in range(10, 100,10)],\n",
    "#                }\n",
    "\n",
    "# import lightgbm as lgb\n",
    "# model = lgb.LGBMClassifier(**params_scope)\n",
    "# grid = GridSearchCV(model, param_grid=params_scope, verbose=1, cv=3, n_jobs=-1)\n",
    "# # Run the grid\n",
    "# grid.fit(X_train,y_train)\n",
    "\n",
    "# # Print the best parameters found\n",
    "# print(grid.best_params_)\n",
    "# print(grid.best_score_)\n",
    "# model = grid.best_estimator_\n",
    "# feature_imp_df = pd.DataFrame(data={'feature_name':model.feature_name_,\n",
    "#                    'feature_importance':model.feature_importances_},\n",
    "            \n",
    "#             )\n",
    "# feature_imp_df.sort_values(by=\"feature_importance\",ascending=False,inplace=True)"
   ]
  },
  {
   "cell_type": "code",
   "execution_count": 23,
   "metadata": {},
   "outputs": [
    {
     "name": "stdout",
     "output_type": "stream",
     "text": [
      "100%|██████████████████████████████████████████████| 250/250 [03:18<00:00,  1.26trial/s, best loss: 0.7512520868113522]\n"
     ]
    },
    {
     "name": "stderr",
     "output_type": "stream",
     "text": [
      "C:\\Users\\vishalra\\Anaconda3\\envs\\nlp_tasks\\lib\\site-packages\\lightgbm\\sklearn.py:736: UserWarning: 'verbose' argument is deprecated and will be removed in a future release of LightGBM. Pass 'log_evaluation()' callback via 'callbacks' argument instead.\n",
      "  _log_warning(\"'verbose' argument is deprecated and will be removed in a future release of LightGBM. \"\n"
     ]
    }
   ],
   "source": [
    "model,initial_params = feature_imp_lgbm(X_train,y_train,X_val,y_val,params_scope)\n",
    "feature_imp_df = pd.DataFrame(data={'feature_name':model.feature_name_,\n",
    "                   'feature_importance':model.feature_importances_},\n",
    "            \n",
    "            )\n",
    "feature_imp_df.sort_values(by=\"feature_importance\",ascending=False,inplace=True)"
   ]
  },
  {
   "cell_type": "code",
   "execution_count": 24,
   "metadata": {},
   "outputs": [
    {
     "data": {
      "text/plain": [
       "{'learning_rate': 0.014861977329016608,\n",
       " 'max_bin': 48.0,\n",
       " 'n_estimators': 150.0,\n",
       " 'num_leaves': 8.0,\n",
       " 'pos_bagging_fraction': 0.7896232081216809,\n",
       " 'reg_lambda': 88.9785715768396,\n",
       " 'scale_pos_weight': 10.0}"
      ]
     },
     "execution_count": 24,
     "metadata": {},
     "output_type": "execute_result"
    }
   ],
   "source": [
    "initial_params"
   ]
  },
  {
   "cell_type": "code",
   "execution_count": 25,
   "metadata": {},
   "outputs": [
    {
     "data": {
      "text/html": [
       "<div>\n",
       "<style scoped>\n",
       "    .dataframe tbody tr th:only-of-type {\n",
       "        vertical-align: middle;\n",
       "    }\n",
       "\n",
       "    .dataframe tbody tr th {\n",
       "        vertical-align: top;\n",
       "    }\n",
       "\n",
       "    .dataframe thead th {\n",
       "        text-align: right;\n",
       "    }\n",
       "</style>\n",
       "<table border=\"1\" class=\"dataframe\">\n",
       "  <thead>\n",
       "    <tr style=\"text-align: right;\">\n",
       "      <th></th>\n",
       "      <th>feature_name</th>\n",
       "      <th>feature_importance</th>\n",
       "    </tr>\n",
       "  </thead>\n",
       "  <tbody>\n",
       "    <tr>\n",
       "      <th>8</th>\n",
       "      <td>CRG</td>\n",
       "      <td>183</td>\n",
       "    </tr>\n",
       "    <tr>\n",
       "      <th>10</th>\n",
       "      <td>credit_applied_before_ratio</td>\n",
       "      <td>166</td>\n",
       "    </tr>\n",
       "    <tr>\n",
       "      <th>6</th>\n",
       "      <td>min_balance</td>\n",
       "      <td>152</td>\n",
       "    </tr>\n",
       "    <tr>\n",
       "      <th>2</th>\n",
       "      <td>nr_debit_trx</td>\n",
       "      <td>109</td>\n",
       "    </tr>\n",
       "    <tr>\n",
       "      <th>0</th>\n",
       "      <td>yearmonth</td>\n",
       "      <td>102</td>\n",
       "    </tr>\n",
       "    <tr>\n",
       "      <th>9</th>\n",
       "      <td>debit_credit_ratio</td>\n",
       "      <td>84</td>\n",
       "    </tr>\n",
       "    <tr>\n",
       "      <th>3</th>\n",
       "      <td>volume_debit_trx</td>\n",
       "      <td>68</td>\n",
       "    </tr>\n",
       "    <tr>\n",
       "      <th>4</th>\n",
       "      <td>nr_credit_trx</td>\n",
       "      <td>53</td>\n",
       "    </tr>\n",
       "    <tr>\n",
       "      <th>7</th>\n",
       "      <td>max_balance</td>\n",
       "      <td>48</td>\n",
       "    </tr>\n",
       "    <tr>\n",
       "      <th>1</th>\n",
       "      <td>total_nr_trx</td>\n",
       "      <td>46</td>\n",
       "    </tr>\n",
       "    <tr>\n",
       "      <th>5</th>\n",
       "      <td>volume_credit_trx</td>\n",
       "      <td>39</td>\n",
       "    </tr>\n",
       "  </tbody>\n",
       "</table>\n",
       "</div>"
      ],
      "text/plain": [
       "                   feature_name  feature_importance\n",
       "8                           CRG                 183\n",
       "10  credit_applied_before_ratio                 166\n",
       "6                   min_balance                 152\n",
       "2                  nr_debit_trx                 109\n",
       "0                     yearmonth                 102\n",
       "9            debit_credit_ratio                  84\n",
       "3              volume_debit_trx                  68\n",
       "4                 nr_credit_trx                  53\n",
       "7                   max_balance                  48\n",
       "1                  total_nr_trx                  46\n",
       "5             volume_credit_trx                  39"
      ]
     },
     "execution_count": 25,
     "metadata": {},
     "output_type": "execute_result"
    }
   ],
   "source": [
    "feature_imp_df"
   ]
  },
  {
   "cell_type": "code",
   "execution_count": 26,
   "metadata": {},
   "outputs": [],
   "source": [
    "import matplotlib.pyplot as plt\n",
    "from sklearn.model_selection import StratifiedKFold\n",
    "from sklearn.metrics import roc_auc_score,f1_score,confusion_matrix,precision_score,recall_score,roc_curve"
   ]
  },
  {
   "cell_type": "code",
   "execution_count": 27,
   "metadata": {},
   "outputs": [],
   "source": [
    "kfolds = StratifiedKFold(5)\n",
    "current_f1_scores=[]\n",
    "roc_auc_scores_val=[]\n",
    "precision_score_val=[]\n",
    "recall_score_val=[]\n",
    "fpr_scores=[]\n",
    "tpr_scores=[]\n",
    "mean_roc_auc_scores_val = []\n",
    "mean_precision_scores_val = []\n",
    "mean_recall_scores_val = []\n",
    "mean_f1_scores_val = []"
   ]
  },
  {
   "cell_type": "code",
   "execution_count": 28,
   "metadata": {},
   "outputs": [
    {
     "name": "stdout",
     "output_type": "stream",
     "text": [
      "[[2308 1360]\n",
      " [  86  226]]\n",
      "[[2211 1456]\n",
      " [ 107  205]]\n",
      "[[2195 1472]\n",
      " [  83  229]]\n",
      "[[1607 2060]\n",
      " [  74  238]]\n",
      "[[1711 1956]\n",
      " [  60  252]]\n"
     ]
    }
   ],
   "source": [
    "for train_idx ,val_index in kfolds.split(X_train_org,y_train_org):\n",
    "#     model = lgb.LGBMClassifier(\n",
    "#                 verbose=-1,\n",
    "#                 objective='binary',\n",
    "#                 **initial_params\n",
    "#             )\n",
    "    model.fit(\n",
    "                X_train_org.iloc[train_idx],\n",
    "                y_train_org.iloc[train_idx],\n",
    "#                 eval_set=[(X_train.iloc[val_index], y_train.iloc[val_index])],\n",
    "                eval_metric=lgb_f1_score\n",
    "            )\n",
    "    y_pred=np.where(model.predict_proba(X_train_org.iloc[val_index])[:,1] >0.4,1,0)\n",
    "#     y_pred=model.predict(X_train_org.iloc[val_index])\n",
    "    current_f1_scores.append(f1_score(y_train_org.iloc[val_index], y_pred))\n",
    "    tn, fp, fn, tp = confusion_matrix(y_train_org.iloc[val_index],y_pred).ravel()\n",
    "    print(confusion_matrix(y_train_org.iloc[val_index],y_pred))\n",
    "    roc_auc_scores_val.append(roc_auc_score(y_true=y_train_org.iloc[val_index], y_score=y_pred))\n",
    "    precision_score_val.append(precision_score(y_true=y_train_org.iloc[val_index],y_pred=y_pred))\n",
    "    recall_score_val.append(recall_score(y_true=y_train_org.iloc[val_index],y_pred=y_pred))\n",
    "    fpr_val, tpr_val, _ = roc_curve(y_true=y_train_org.iloc[val_index], y_score=y_pred)\n",
    "    fpr_scores.append(fpr_val)\n",
    "    tpr_scores.append(tpr_val)\n",
    "    \n",
    "    "
   ]
  },
  {
   "cell_type": "code",
   "execution_count": 29,
   "metadata": {},
   "outputs": [],
   "source": [
    "def plot_roc(fpr,tpr,roc_auc,color_ip):\n",
    "#     fpr,tpr,threshold=roc_curve(y_test,probs)\n",
    "#     roc_auc=auc(fpr,tpr)\n",
    "    print('ROC AUC=%0.2f'%roc_auc)\n",
    "    plt.plot(fpr,tpr,label='AUC=%0.2f'%roc_auc,color=color_ip)\n",
    "    plt.legend(loc='lower right')\n",
    "    plt.plot([0,1],[0,1],'b--')\n",
    "    plt.xlim([0,1])\n",
    "    plt.ylim([0,1.05])\n",
    "    plt.xlabel('False Positive Rate')\n",
    "    plt.ylabel('True Positive Rate')\n",
    "    plt.grid(True) \n",
    "#     plt.show()"
   ]
  },
  {
   "cell_type": "code",
   "execution_count": 30,
   "metadata": {},
   "outputs": [
    {
     "name": "stdout",
     "output_type": "stream",
     "text": [
      "ROC AUC=0.68\n",
      "ROC AUC=0.63\n",
      "ROC AUC=0.67\n",
      "ROC AUC=0.60\n",
      "ROC AUC=0.64\n",
      "Mean ROC AUC score on validation data =0.64\n"
     ]
    },
    {
     "data": {
      "image/png": "[encoded data removed]",
      "text/plain": [
       "<Figure size 640x480 with 1 Axes>"
      ]
     },
     "metadata": {},
     "output_type": "display_data"
    }
   ],
   "source": [
    "color_list=[\"green\",\"red\",\"black\",\"yellow\",\"orange\"]\n",
    "for fpr_val,tpr_val,roc_auc_score,color in zip(fpr_scores,tpr_scores,roc_auc_scores_val,color_list):\n",
    "    plot_roc(fpr_val,tpr_val,roc_auc_score,color)\n",
    "    \n",
    "    \n",
    "print('Mean ROC AUC score on validation data =%0.2f'%np.mean(roc_auc_scores_val))"
   ]
  },
  {
   "cell_type": "code",
   "execution_count": 31,
   "metadata": {},
   "outputs": [],
   "source": [
    "def print_metrics(f1_scores,recall_scores,precision_scores,dataset=\"validation\"):\n",
    "    print(\"F1 scores on \"+ dataset+\" data:\")\n",
    "    print(f1_scores)\n",
    "    print(\"-----------------------------------------------------\")\n",
    "    print(\"Recall scores on \"+ dataset+\" data:\")\n",
    "    print(recall_scores)\n",
    "    print(\"-----------------------------------------------------\")\n",
    "    print(\"Mean f1 score on \"+ dataset+\" data:\")\n",
    "    print(np.mean(f1_scores))\n",
    "\n",
    "    print(\"-----------------------------------------------------\")\n",
    "    print(\"Mean recall score on \"+ dataset+\" data:\")\n",
    "    print(np.mean(recall_scores))\n",
    "\n",
    "    print(\"-----------------------------------------------------\")\n",
    "    print(\"Mean precision score on \"+ dataset+\" data:\")\n",
    "    print(np.mean(precision_scores))"
   ]
  },
  {
   "cell_type": "code",
   "execution_count": 32,
   "metadata": {},
   "outputs": [
    {
     "name": "stdout",
     "output_type": "stream",
     "text": [
      "F1 scores on validation data:\n",
      "[0.238145416227608, 0.20780537252914344, 0.22752111276701442, 0.18237547892720307, 0.19999999999999998]\n",
      "-----------------------------------------------------\n",
      "Recall scores on validation data:\n",
      "[0.7243589743589743, 0.657051282051282, 0.7339743589743589, 0.7628205128205128, 0.8076923076923077]\n",
      "-----------------------------------------------------\n",
      "Mean f1 score on validation data:\n",
      "0.2111694760901938\n",
      "-----------------------------------------------------\n",
      "Mean recall score on validation data:\n",
      "0.7371794871794872\n",
      "-----------------------------------------------------\n",
      "Mean precision score on validation data:\n",
      "0.12364838387782454\n"
     ]
    }
   ],
   "source": [
    "print_metrics(current_f1_scores,recall_score_val,precision_score_val,\"validation\")"
   ]
  },
  {
   "cell_type": "code",
   "execution_count": 34,
   "metadata": {},
   "outputs": [
    {
     "name": "stdout",
     "output_type": "stream",
     "text": [
      "[[2454 1786]\n",
      " [  81  242]]\n",
      "F1 score on Test data:\n",
      "0.2058698426201616\n",
      "-----------------------------------------------------\n",
      "Recall score on Test data:\n",
      "0.7492260061919505\n",
      "-----------------------------------------------------\n",
      "Precision score on Test data:\n",
      "0.11932938856015779\n"
     ]
    }
   ],
   "source": [
    "\n",
    "y_test_pred=np.where(model.predict_proba(X_test[X_train.columns])[:,1] >0.4,1,0)\n",
    "\n",
    "print(confusion_matrix(y_test,y_test_pred))\n",
    "print(\"F1 score on Test data:\")\n",
    "print(f1_score(y_test,y_test_pred))\n",
    "print(\"-----------------------------------------------------\")\n",
    "print(\"Recall score on Test data:\")\n",
    "print(recall_score(y_test,y_test_pred))\n",
    "print(\"-----------------------------------------------------\")\n",
    "print(\"Precision score on Test data:\")\n",
    "print(precision_score(y_test,y_test_pred))"
   ]
  },
  {
   "cell_type": "code",
   "execution_count": 35,
   "metadata": {},
   "outputs": [
    {
     "name": "stdout",
     "output_type": "stream",
     "text": [
      "---------------THRESHOLD =0.3 ----------------------\n",
      "[[1896 2344]\n",
      " [  44  279]]\n",
      "F1 score on Test data:\n",
      "0.1894093686354379\n",
      "-----------------------------------------------------\n",
      "Recall score on Test data:\n",
      "0.8637770897832817\n",
      "-----------------------------------------------------\n",
      "Precision score on Test data:\n",
      "0.10636675562333206\n",
      "---------------THRESHOLD =0.35 ----------------------\n",
      "[[2161 2079]\n",
      " [  58  265]]\n",
      "F1 score on Test data:\n",
      "0.19872515935508062\n",
      "-----------------------------------------------------\n",
      "Recall score on Test data:\n",
      "0.8204334365325078\n",
      "-----------------------------------------------------\n",
      "Precision score on Test data:\n",
      "0.11305460750853243\n",
      "---------------THRESHOLD =0.4 ----------------------\n",
      "[[2454 1786]\n",
      " [  81  242]]\n",
      "F1 score on Test data:\n",
      "0.2058698426201616\n",
      "-----------------------------------------------------\n",
      "Recall score on Test data:\n",
      "0.7492260061919505\n",
      "-----------------------------------------------------\n",
      "Precision score on Test data:\n",
      "0.11932938856015779\n",
      "---------------THRESHOLD =0.45 ----------------------\n",
      "[[3245  995]\n",
      " [ 138  185]]\n",
      "F1 score on Test data:\n",
      "0.24617431803060544\n",
      "-----------------------------------------------------\n",
      "Recall score on Test data:\n",
      "0.5727554179566563\n",
      "-----------------------------------------------------\n",
      "Precision score on Test data:\n",
      "0.15677966101694915\n",
      "---------------THRESHOLD =0.5 ----------------------\n",
      "[[3598  642]\n",
      " [ 191  132]]\n",
      "F1 score on Test data:\n",
      "0.24065633546034637\n",
      "-----------------------------------------------------\n",
      "Recall score on Test data:\n",
      "0.4086687306501548\n",
      "-----------------------------------------------------\n",
      "Precision score on Test data:\n",
      "0.17054263565891473\n",
      "---------------THRESHOLD =0.55 ----------------------\n",
      "[[3931  309]\n",
      " [ 240   83]]\n",
      "F1 score on Test data:\n",
      "0.2321678321678322\n",
      "-----------------------------------------------------\n",
      "Recall score on Test data:\n",
      "0.25696594427244585\n",
      "-----------------------------------------------------\n",
      "Precision score on Test data:\n",
      "0.21173469387755103\n",
      "---------------THRESHOLD =0.61 ----------------------\n",
      "[[4198   42]\n",
      " [ 307   16]]\n",
      "F1 score on Test data:\n",
      "0.08398950131233596\n",
      "-----------------------------------------------------\n",
      "Recall score on Test data:\n",
      "0.04953560371517028\n",
      "-----------------------------------------------------\n",
      "Precision score on Test data:\n",
      "0.27586206896551724\n"
     ]
    }
   ],
   "source": [
    "# y_test_pred = model.predict(X_test)\n",
    "for i in np.arange(0.3,0.65,0.051):\n",
    "    i=(round(i,2))\n",
    "    print(\"---------------THRESHOLD =\"+str(i)+\" ----------------------\")\n",
    "\n",
    "    y_test_pred=np.where(model.predict_proba(X_test)[:,1] >i,1,0)\n",
    "\n",
    "    print(confusion_matrix(y_test,y_test_pred))\n",
    "    print(\"F1 score on Test data:\")\n",
    "    print(f1_score(y_test,y_test_pred))\n",
    "    print(\"-----------------------------------------------------\")\n",
    "    print(\"Recall score on Test data:\")\n",
    "    print(recall_score(y_test,y_test_pred))\n",
    "    print(\"-----------------------------------------------------\")\n",
    "    print(\"Precision score on Test data:\")\n",
    "    print(precision_score(y_test,y_test_pred))"
   ]
  },
  {
   "cell_type": "code",
   "execution_count": 49,
   "metadata": {},
   "outputs": [],
   "source": [
    "import pickle\n",
    "pickle.dump(model,open('output files/model_lgbm_30_04_best.pkl','wb'))"
   ]
  },
  {
   "cell_type": "code",
   "execution_count": 46,
   "metadata": {},
   "outputs": [],
   "source": [
    "X_test[\"ground_truth\"] = y_test\n",
    "X_test[\"pred_lgbm\"]=y_test_pred\n",
    "X_test.to_csv(\"output files/predictions_on_test_set_lgbm.csv\")\n"
   ]
  },
  {
   "cell_type": "code",
   "execution_count": 44,
   "metadata": {},
   "outputs": [
    {
     "name": "stderr",
     "output_type": "stream",
     "text": [
      "C:\\Users\\vishalra\\Anaconda3\\envs\\nlp_tasks\\lib\\site-packages\\tqdm\\auto.py:21: TqdmWarning: IProgress not found. Please update jupyter and ipywidgets. See https://ipywidgets.readthedocs.io/en/stable/user_install.html\n",
      "  from .autonotebook import tqdm as notebook_tqdm\n",
      "LightGBM binary classifier with TreeExplainer shap values output has changed to a list of ndarray\n"
     ]
    },
    {
     "data": {
      "image/png": "[encoded data removed]",
      "text/plain": [
       "<Figure size 800x590 with 1 Axes>"
      ]
     },
     "metadata": {},
     "output_type": "display_data"
    }
   ],
   "source": [
    "import shap\n",
    "explainer = shap.TreeExplainer(model)\n",
    "shap_values = explainer.shap_values(X_val[X_train.columns])\n",
    "shap.summary_plot(shap_values, X_val[X_train.columns], plot_type=\"bar\")"
   ]
  },
  {
   "cell_type": "code",
   "execution_count": 42,
   "metadata": {},
   "outputs": [
    {
     "data": {
      "text/html": [
       "<div>\n",
       "<style scoped>\n",
       "    .dataframe tbody tr th:only-of-type {\n",
       "        vertical-align: middle;\n",
       "    }\n",
       "\n",
       "    .dataframe tbody tr th {\n",
       "        vertical-align: top;\n",
       "    }\n",
       "\n",
       "    .dataframe thead th {\n",
       "        text-align: right;\n",
       "    }\n",
       "</style>\n",
       "<table border=\"1\" class=\"dataframe\">\n",
       "  <thead>\n",
       "    <tr style=\"text-align: right;\">\n",
       "      <th></th>\n",
       "      <th>yearmonth</th>\n",
       "      <th>total_nr_trx</th>\n",
       "      <th>nr_debit_trx</th>\n",
       "      <th>volume_debit_trx</th>\n",
       "      <th>nr_credit_trx</th>\n",
       "      <th>volume_credit_trx</th>\n",
       "      <th>min_balance</th>\n",
       "      <th>max_balance</th>\n",
       "      <th>CRG</th>\n",
       "      <th>debit_credit_ratio</th>\n",
       "      <th>credit_applied_before_ratio</th>\n",
       "      <th>client_nr</th>\n",
       "    </tr>\n",
       "  </thead>\n",
       "  <tbody>\n",
       "    <tr>\n",
       "      <th>26</th>\n",
       "      <td>201603</td>\n",
       "      <td>60</td>\n",
       "      <td>40</td>\n",
       "      <td>3532728</td>\n",
       "      <td>20</td>\n",
       "      <td>3541991</td>\n",
       "      <td>-9923867</td>\n",
       "      <td>12750606</td>\n",
       "      <td>1.0</td>\n",
       "      <td>0.997385</td>\n",
       "      <td>0.0</td>\n",
       "      <td>1</td>\n",
       "    </tr>\n",
       "    <tr>\n",
       "      <th>27</th>\n",
       "      <td>201604</td>\n",
       "      <td>45</td>\n",
       "      <td>32</td>\n",
       "      <td>819025</td>\n",
       "      <td>13</td>\n",
       "      <td>488143</td>\n",
       "      <td>-10291903</td>\n",
       "      <td>12750426</td>\n",
       "      <td>1.0</td>\n",
       "      <td>1.677838</td>\n",
       "      <td>0.0</td>\n",
       "      <td>1</td>\n",
       "    </tr>\n",
       "    <tr>\n",
       "      <th>28</th>\n",
       "      <td>201605</td>\n",
       "      <td>45</td>\n",
       "      <td>30</td>\n",
       "      <td>999849</td>\n",
       "      <td>15</td>\n",
       "      <td>431060</td>\n",
       "      <td>-10724536</td>\n",
       "      <td>1636168</td>\n",
       "      <td>1.0</td>\n",
       "      <td>2.319512</td>\n",
       "      <td>0.0</td>\n",
       "      <td>1</td>\n",
       "    </tr>\n",
       "    <tr>\n",
       "      <th>29</th>\n",
       "      <td>201606</td>\n",
       "      <td>23</td>\n",
       "      <td>21</td>\n",
       "      <td>250012</td>\n",
       "      <td>2</td>\n",
       "      <td>47701</td>\n",
       "      <td>-10868626</td>\n",
       "      <td>1585224</td>\n",
       "      <td>1.0</td>\n",
       "      <td>5.241232</td>\n",
       "      <td>0.0</td>\n",
       "      <td>1</td>\n",
       "    </tr>\n",
       "    <tr>\n",
       "      <th>30</th>\n",
       "      <td>201607</td>\n",
       "      <td>39</td>\n",
       "      <td>33</td>\n",
       "      <td>578297</td>\n",
       "      <td>6</td>\n",
       "      <td>178219</td>\n",
       "      <td>-11189619</td>\n",
       "      <td>12750338</td>\n",
       "      <td>1.0</td>\n",
       "      <td>3.244867</td>\n",
       "      <td>0.0</td>\n",
       "      <td>1</td>\n",
       "    </tr>\n",
       "    <tr>\n",
       "      <th>...</th>\n",
       "      <td>...</td>\n",
       "      <td>...</td>\n",
       "      <td>...</td>\n",
       "      <td>...</td>\n",
       "      <td>...</td>\n",
       "      <td>...</td>\n",
       "      <td>...</td>\n",
       "      <td>...</td>\n",
       "      <td>...</td>\n",
       "      <td>...</td>\n",
       "      <td>...</td>\n",
       "      <td>...</td>\n",
       "    </tr>\n",
       "    <tr>\n",
       "      <th>29832</th>\n",
       "      <td>201604</td>\n",
       "      <td>99</td>\n",
       "      <td>58</td>\n",
       "      <td>6860742</td>\n",
       "      <td>41</td>\n",
       "      <td>6275498</td>\n",
       "      <td>-61718</td>\n",
       "      <td>792456</td>\n",
       "      <td>3.0</td>\n",
       "      <td>1.093259</td>\n",
       "      <td>0.0</td>\n",
       "      <td>988</td>\n",
       "    </tr>\n",
       "    <tr>\n",
       "      <th>29833</th>\n",
       "      <td>201605</td>\n",
       "      <td>143</td>\n",
       "      <td>99</td>\n",
       "      <td>11295466</td>\n",
       "      <td>44</td>\n",
       "      <td>10125313</td>\n",
       "      <td>-1418357</td>\n",
       "      <td>2846231</td>\n",
       "      <td>3.0</td>\n",
       "      <td>1.115567</td>\n",
       "      <td>0.0</td>\n",
       "      <td>988</td>\n",
       "    </tr>\n",
       "    <tr>\n",
       "      <th>29834</th>\n",
       "      <td>201606</td>\n",
       "      <td>119</td>\n",
       "      <td>79</td>\n",
       "      <td>5869965</td>\n",
       "      <td>40</td>\n",
       "      <td>6567639</td>\n",
       "      <td>-1327262</td>\n",
       "      <td>-143964</td>\n",
       "      <td>3.0</td>\n",
       "      <td>0.893771</td>\n",
       "      <td>0.0</td>\n",
       "      <td>988</td>\n",
       "    </tr>\n",
       "    <tr>\n",
       "      <th>29835</th>\n",
       "      <td>201607</td>\n",
       "      <td>121</td>\n",
       "      <td>80</td>\n",
       "      <td>6632809</td>\n",
       "      <td>41</td>\n",
       "      <td>6077459</td>\n",
       "      <td>-1376355</td>\n",
       "      <td>-266210</td>\n",
       "      <td>3.0</td>\n",
       "      <td>1.091379</td>\n",
       "      <td>0.0</td>\n",
       "      <td>988</td>\n",
       "    </tr>\n",
       "    <tr>\n",
       "      <th>29836</th>\n",
       "      <td>201608</td>\n",
       "      <td>130</td>\n",
       "      <td>77</td>\n",
       "      <td>7376193</td>\n",
       "      <td>53</td>\n",
       "      <td>7177190</td>\n",
       "      <td>-1296105</td>\n",
       "      <td>-365841</td>\n",
       "      <td>3.0</td>\n",
       "      <td>1.027727</td>\n",
       "      <td>0.0</td>\n",
       "      <td>988</td>\n",
       "    </tr>\n",
       "  </tbody>\n",
       "</table>\n",
       "<p>4563 rows × 12 columns</p>\n",
       "</div>"
      ],
      "text/plain": [
       "       yearmonth  total_nr_trx  nr_debit_trx  volume_debit_trx  nr_credit_trx  \\\n",
       "26        201603            60            40           3532728             20   \n",
       "27        201604            45            32            819025             13   \n",
       "28        201605            45            30            999849             15   \n",
       "29        201606            23            21            250012              2   \n",
       "30        201607            39            33            578297              6   \n",
       "...          ...           ...           ...               ...            ...   \n",
       "29832     201604            99            58           6860742             41   \n",
       "29833     201605           143            99          11295466             44   \n",
       "29834     201606           119            79           5869965             40   \n",
       "29835     201607           121            80           6632809             41   \n",
       "29836     201608           130            77           7376193             53   \n",
       "\n",
       "       volume_credit_trx  min_balance  max_balance  CRG  debit_credit_ratio  \\\n",
       "26               3541991     -9923867     12750606  1.0            0.997385   \n",
       "27                488143    -10291903     12750426  1.0            1.677838   \n",
       "28                431060    -10724536      1636168  1.0            2.319512   \n",
       "29                 47701    -10868626      1585224  1.0            5.241232   \n",
       "30                178219    -11189619     12750338  1.0            3.244867   \n",
       "...                  ...          ...          ...  ...                 ...   \n",
       "29832            6275498       -61718       792456  3.0            1.093259   \n",
       "29833           10125313     -1418357      2846231  3.0            1.115567   \n",
       "29834            6567639     -1327262      -143964  3.0            0.893771   \n",
       "29835            6077459     -1376355      -266210  3.0            1.091379   \n",
       "29836            7177190     -1296105      -365841  3.0            1.027727   \n",
       "\n",
       "       credit_applied_before_ratio  client_nr  \n",
       "26                             0.0          1  \n",
       "27                             0.0          1  \n",
       "28                             0.0          1  \n",
       "29                             0.0          1  \n",
       "30                             0.0          1  \n",
       "...                            ...        ...  \n",
       "29832                          0.0        988  \n",
       "29833                          0.0        988  \n",
       "29834                          0.0        988  \n",
       "29835                          0.0        988  \n",
       "29836                          0.0        988  \n",
       "\n",
       "[4563 rows x 12 columns]"
      ]
     },
     "execution_count": 42,
     "metadata": {},
     "output_type": "execute_result"
    }
   ],
   "source": [
    "X_test"
   ]
  },
  {
   "cell_type": "code",
   "execution_count": null,
   "metadata": {},
   "outputs": [],
   "source": []
  }
 ],
 "metadata": {
  "kernelspec": {
   "display_name": "nlp_tasks",
   "language": "python",
   "name": "nlp_tasks"
  },
  "language_info": {
   "codemirror_mode": {
    "name": "ipython",
    "version": 3
   },
   "file_extension": ".py",
   "mimetype": "text/x-python",
   "name": "python",
   "nbconvert_exporter": "python",
   "pygments_lexer": "ipython3",
   "version": "3.10.9"
  }
 },
 "nbformat": 4,
 "nbformat_minor": 4
}
