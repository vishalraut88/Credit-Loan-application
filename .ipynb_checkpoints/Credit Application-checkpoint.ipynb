{
 "cells": [
  {
   "cell_type": "code",
   "execution_count": 7,
   "metadata": {},
   "outputs": [],
   "source": [
    "# import lightgbm as lgbm\n",
    "# from hyperopt import hp, tpe, Trials"
   ]
  },
  {
   "cell_type": "code",
   "execution_count": 8,
   "metadata": {},
   "outputs": [],
   "source": [
    "import pandas as pd\n",
    "import numpy as np\n",
    "import seaborn as sns\n",
    "import matplotlib.pyplot as plt\n",
    "from sklearn.model_selection import train_test_split\n",
    "from utils.preprocessing import preprocessing \n",
    "from utils.utils import feature_importances,initial_hyperparam_search,cast_params_to_proper_types,lgb_f1_score,feature_imp_lgbm"
   ]
  },
  {
   "cell_type": "code",
   "execution_count": 9,
   "metadata": {},
   "outputs": [],
   "source": [
    "prepos= preprocessing()\n",
    "df_credit_application = prepos.read_data(\"credit_applications.csv\")\n",
    "df_customers = prepos.read_data(\"customers.csv\")\n",
    "df_customers.drop(\"Unnamed: 0\",axis=1,inplace=True)\n",
    "df_credit_application.drop(\"Unnamed: 0\",axis=1,inplace=True)"
   ]
  },
  {
   "cell_type": "code",
   "execution_count": 10,
   "metadata": {},
   "outputs": [
    {
     "name": "stdout",
     "output_type": "stream",
     "text": [
      "(29996, 12)\n"
     ]
    }
   ],
   "source": [
    "df_complete_data = df_customers.merge(df_credit_application,how=\"inner\",on=[\"client_nr\",\"yearmonth\"])\n",
    "print(df_complete_data.shape)"
   ]
  },
  {
   "cell_type": "code",
   "execution_count": null,
   "metadata": {},
   "outputs": [],
   "source": []
  },
  {
   "cell_type": "markdown",
   "metadata": {},
   "source": [
    "##### EDA And feature importances"
   ]
  },
  {
   "cell_type": "code",
   "execution_count": 11,
   "metadata": {},
   "outputs": [
    {
     "data": {
      "text/html": [
       "<div>\n",
       "<style scoped>\n",
       "    .dataframe tbody tr th:only-of-type {\n",
       "        vertical-align: middle;\n",
       "    }\n",
       "\n",
       "    .dataframe tbody tr th {\n",
       "        vertical-align: top;\n",
       "    }\n",
       "\n",
       "    .dataframe thead th {\n",
       "        text-align: right;\n",
       "    }\n",
       "</style>\n",
       "<table border=\"1\" class=\"dataframe\">\n",
       "  <thead>\n",
       "    <tr style=\"text-align: right;\">\n",
       "      <th></th>\n",
       "      <th>client_nr</th>\n",
       "      <th>yearmonth</th>\n",
       "      <th>total_nr_trx</th>\n",
       "      <th>nr_debit_trx</th>\n",
       "      <th>volume_debit_trx</th>\n",
       "      <th>nr_credit_trx</th>\n",
       "      <th>volume_credit_trx</th>\n",
       "      <th>min_balance</th>\n",
       "      <th>max_balance</th>\n",
       "      <th>CRG</th>\n",
       "      <th>credit_application</th>\n",
       "      <th>nr_credit_applications</th>\n",
       "    </tr>\n",
       "  </thead>\n",
       "  <tbody>\n",
       "    <tr>\n",
       "      <th>count</th>\n",
       "      <td>29996.000000</td>\n",
       "      <td>29996.000000</td>\n",
       "      <td>29996.000000</td>\n",
       "      <td>29996.000000</td>\n",
       "      <td>2.999600e+04</td>\n",
       "      <td>29996.000000</td>\n",
       "      <td>2.999600e+04</td>\n",
       "      <td>2.999600e+04</td>\n",
       "      <td>2.999600e+04</td>\n",
       "      <td>24459.000000</td>\n",
       "      <td>29996.000000</td>\n",
       "      <td>29996.000000</td>\n",
       "    </tr>\n",
       "    <tr>\n",
       "      <th>mean</th>\n",
       "      <td>481.560775</td>\n",
       "      <td>201493.675157</td>\n",
       "      <td>166.427957</td>\n",
       "      <td>75.785571</td>\n",
       "      <td>1.121290e+07</td>\n",
       "      <td>90.642386</td>\n",
       "      <td>1.126906e+07</td>\n",
       "      <td>-5.523773e+06</td>\n",
       "      <td>3.752693e+06</td>\n",
       "      <td>3.251850</td>\n",
       "      <td>0.067509</td>\n",
       "      <td>0.087078</td>\n",
       "    </tr>\n",
       "    <tr>\n",
       "      <th>std</th>\n",
       "      <td>281.317753</td>\n",
       "      <td>77.361645</td>\n",
       "      <td>220.947519</td>\n",
       "      <td>60.063496</td>\n",
       "      <td>1.617596e+07</td>\n",
       "      <td>192.244770</td>\n",
       "      <td>1.624998e+07</td>\n",
       "      <td>1.357517e+07</td>\n",
       "      <td>1.616937e+07</td>\n",
       "      <td>1.889136</td>\n",
       "      <td>0.250906</td>\n",
       "      <td>0.364473</td>\n",
       "    </tr>\n",
       "    <tr>\n",
       "      <th>min</th>\n",
       "      <td>1.000000</td>\n",
       "      <td>201401.000000</td>\n",
       "      <td>1.000000</td>\n",
       "      <td>0.000000</td>\n",
       "      <td>0.000000e+00</td>\n",
       "      <td>0.000000</td>\n",
       "      <td>0.000000e+00</td>\n",
       "      <td>-3.467127e+08</td>\n",
       "      <td>-2.485206e+08</td>\n",
       "      <td>1.000000</td>\n",
       "      <td>0.000000</td>\n",
       "      <td>0.000000</td>\n",
       "    </tr>\n",
       "    <tr>\n",
       "      <th>25%</th>\n",
       "      <td>237.000000</td>\n",
       "      <td>201409.000000</td>\n",
       "      <td>76.000000</td>\n",
       "      <td>38.000000</td>\n",
       "      <td>3.072750e+06</td>\n",
       "      <td>33.000000</td>\n",
       "      <td>3.148068e+06</td>\n",
       "      <td>-7.895864e+06</td>\n",
       "      <td>-1.868002e+06</td>\n",
       "      <td>2.000000</td>\n",
       "      <td>0.000000</td>\n",
       "      <td>0.000000</td>\n",
       "    </tr>\n",
       "    <tr>\n",
       "      <th>50%</th>\n",
       "      <td>479.000000</td>\n",
       "      <td>201505.000000</td>\n",
       "      <td>129.000000</td>\n",
       "      <td>66.000000</td>\n",
       "      <td>6.822769e+06</td>\n",
       "      <td>56.000000</td>\n",
       "      <td>6.934694e+06</td>\n",
       "      <td>-2.957198e+06</td>\n",
       "      <td>1.040998e+06</td>\n",
       "      <td>3.000000</td>\n",
       "      <td>0.000000</td>\n",
       "      <td>0.000000</td>\n",
       "    </tr>\n",
       "    <tr>\n",
       "      <th>75%</th>\n",
       "      <td>721.000000</td>\n",
       "      <td>201601.000000</td>\n",
       "      <td>205.000000</td>\n",
       "      <td>101.000000</td>\n",
       "      <td>1.386656e+07</td>\n",
       "      <td>102.000000</td>\n",
       "      <td>1.394257e+07</td>\n",
       "      <td>1.690275e+04</td>\n",
       "      <td>5.806224e+06</td>\n",
       "      <td>4.000000</td>\n",
       "      <td>0.000000</td>\n",
       "      <td>0.000000</td>\n",
       "    </tr>\n",
       "    <tr>\n",
       "      <th>max</th>\n",
       "      <td>1000.000000</td>\n",
       "      <td>201608.000000</td>\n",
       "      <td>6341.000000</td>\n",
       "      <td>1590.000000</td>\n",
       "      <td>7.980480e+08</td>\n",
       "      <td>6325.000000</td>\n",
       "      <td>8.775321e+08</td>\n",
       "      <td>2.109783e+08</td>\n",
       "      <td>3.722319e+08</td>\n",
       "      <td>7.000000</td>\n",
       "      <td>1.000000</td>\n",
       "      <td>7.000000</td>\n",
       "    </tr>\n",
       "  </tbody>\n",
       "</table>\n",
       "</div>"
      ],
      "text/plain": [
       "          client_nr      yearmonth  total_nr_trx  nr_debit_trx  \\\n",
       "count  29996.000000   29996.000000  29996.000000  29996.000000   \n",
       "mean     481.560775  201493.675157    166.427957     75.785571   \n",
       "std      281.317753      77.361645    220.947519     60.063496   \n",
       "min        1.000000  201401.000000      1.000000      0.000000   \n",
       "25%      237.000000  201409.000000     76.000000     38.000000   \n",
       "50%      479.000000  201505.000000    129.000000     66.000000   \n",
       "75%      721.000000  201601.000000    205.000000    101.000000   \n",
       "max     1000.000000  201608.000000   6341.000000   1590.000000   \n",
       "\n",
       "       volume_debit_trx  nr_credit_trx  volume_credit_trx   min_balance  \\\n",
       "count      2.999600e+04   29996.000000       2.999600e+04  2.999600e+04   \n",
       "mean       1.121290e+07      90.642386       1.126906e+07 -5.523773e+06   \n",
       "std        1.617596e+07     192.244770       1.624998e+07  1.357517e+07   \n",
       "min        0.000000e+00       0.000000       0.000000e+00 -3.467127e+08   \n",
       "25%        3.072750e+06      33.000000       3.148068e+06 -7.895864e+06   \n",
       "50%        6.822769e+06      56.000000       6.934694e+06 -2.957198e+06   \n",
       "75%        1.386656e+07     102.000000       1.394257e+07  1.690275e+04   \n",
       "max        7.980480e+08    6325.000000       8.775321e+08  2.109783e+08   \n",
       "\n",
       "        max_balance           CRG  credit_application  nr_credit_applications  \n",
       "count  2.999600e+04  24459.000000        29996.000000            29996.000000  \n",
       "mean   3.752693e+06      3.251850            0.067509                0.087078  \n",
       "std    1.616937e+07      1.889136            0.250906                0.364473  \n",
       "min   -2.485206e+08      1.000000            0.000000                0.000000  \n",
       "25%   -1.868002e+06      2.000000            0.000000                0.000000  \n",
       "50%    1.040998e+06      3.000000            0.000000                0.000000  \n",
       "75%    5.806224e+06      4.000000            0.000000                0.000000  \n",
       "max    3.722319e+08      7.000000            1.000000                7.000000  "
      ]
     },
     "execution_count": 11,
     "metadata": {},
     "output_type": "execute_result"
    }
   ],
   "source": [
    "df_complete_data.describe()"
   ]
  },
  {
   "cell_type": "code",
   "execution_count": 12,
   "metadata": {},
   "outputs": [
    {
     "data": {
      "text/plain": [
       "<Axes: xlabel='credit_application', ylabel='count'>"
      ]
     },
     "execution_count": 12,
     "metadata": {},
     "output_type": "execute_result"
    },
    {
     "data": {
      "image/png": "[encoded data removed]",
      "text/plain": [
       "<Figure size 640x480 with 1 Axes>"
      ]
     },
     "metadata": {},
     "output_type": "display_data"
    }
   ],
   "source": [
    "sns.countplot(x=df_complete_data[\"credit_application\"])\n",
    "\n",
    "# 0    27971\n",
    "# 1     2025"
   ]
  },
  {
   "cell_type": "code",
   "execution_count": 13,
   "metadata": {},
   "outputs": [
    {
     "data": {
      "text/html": [
       "<div>\n",
       "<style scoped>\n",
       "    .dataframe tbody tr th:only-of-type {\n",
       "        vertical-align: middle;\n",
       "    }\n",
       "\n",
       "    .dataframe tbody tr th {\n",
       "        vertical-align: top;\n",
       "    }\n",
       "\n",
       "    .dataframe thead th {\n",
       "        text-align: right;\n",
       "    }\n",
       "</style>\n",
       "<table border=\"1\" class=\"dataframe\">\n",
       "  <thead>\n",
       "    <tr style=\"text-align: right;\">\n",
       "      <th></th>\n",
       "      <th>Missing Values</th>\n",
       "      <th>Percentage of missing values</th>\n",
       "    </tr>\n",
       "  </thead>\n",
       "  <tbody>\n",
       "    <tr>\n",
       "      <th>client_nr</th>\n",
       "      <td>0</td>\n",
       "      <td>0.000000</td>\n",
       "    </tr>\n",
       "    <tr>\n",
       "      <th>yearmonth</th>\n",
       "      <td>0</td>\n",
       "      <td>0.000000</td>\n",
       "    </tr>\n",
       "    <tr>\n",
       "      <th>total_nr_trx</th>\n",
       "      <td>0</td>\n",
       "      <td>0.000000</td>\n",
       "    </tr>\n",
       "    <tr>\n",
       "      <th>nr_debit_trx</th>\n",
       "      <td>0</td>\n",
       "      <td>0.000000</td>\n",
       "    </tr>\n",
       "    <tr>\n",
       "      <th>volume_debit_trx</th>\n",
       "      <td>0</td>\n",
       "      <td>0.000000</td>\n",
       "    </tr>\n",
       "    <tr>\n",
       "      <th>nr_credit_trx</th>\n",
       "      <td>0</td>\n",
       "      <td>0.000000</td>\n",
       "    </tr>\n",
       "    <tr>\n",
       "      <th>volume_credit_trx</th>\n",
       "      <td>0</td>\n",
       "      <td>0.000000</td>\n",
       "    </tr>\n",
       "    <tr>\n",
       "      <th>min_balance</th>\n",
       "      <td>0</td>\n",
       "      <td>0.000000</td>\n",
       "    </tr>\n",
       "    <tr>\n",
       "      <th>max_balance</th>\n",
       "      <td>0</td>\n",
       "      <td>0.000000</td>\n",
       "    </tr>\n",
       "    <tr>\n",
       "      <th>CRG</th>\n",
       "      <td>5537</td>\n",
       "      <td>18.459128</td>\n",
       "    </tr>\n",
       "    <tr>\n",
       "      <th>credit_application</th>\n",
       "      <td>0</td>\n",
       "      <td>0.000000</td>\n",
       "    </tr>\n",
       "    <tr>\n",
       "      <th>nr_credit_applications</th>\n",
       "      <td>0</td>\n",
       "      <td>0.000000</td>\n",
       "    </tr>\n",
       "  </tbody>\n",
       "</table>\n",
       "</div>"
      ],
      "text/plain": [
       "                        Missing Values  Percentage of missing values\n",
       "client_nr                            0                      0.000000\n",
       "yearmonth                            0                      0.000000\n",
       "total_nr_trx                         0                      0.000000\n",
       "nr_debit_trx                         0                      0.000000\n",
       "volume_debit_trx                     0                      0.000000\n",
       "nr_credit_trx                        0                      0.000000\n",
       "volume_credit_trx                    0                      0.000000\n",
       "min_balance                          0                      0.000000\n",
       "max_balance                          0                      0.000000\n",
       "CRG                               5537                     18.459128\n",
       "credit_application                   0                      0.000000\n",
       "nr_credit_applications               0                      0.000000"
      ]
     },
     "execution_count": 13,
     "metadata": {},
     "output_type": "execute_result"
    }
   ],
   "source": [
    "prepos.missing_values_intable(df_complete_data)"
   ]
  },
  {
   "cell_type": "code",
   "execution_count": 14,
   "metadata": {},
   "outputs": [],
   "source": [
    "# plt.rcParams[\"figure.figsize\"] = [5,5]  #set the graph to a smaller size \n",
    "df_complete_data[\"debit_credit_ratio\"]=df_complete_data[\"volume_debit_trx\"]/df_complete_data[\"volume_credit_trx\"]"
   ]
  },
  {
   "cell_type": "code",
   "execution_count": 15,
   "metadata": {},
   "outputs": [],
   "source": [
    "df_complete_data[\"debit_credit_ratio\"] = np.where(df_complete_data[\"debit_credit_ratio\"]==np.inf,df_complete_data[\"volume_debit_trx\"],df_complete_data[\"debit_credit_ratio\"])"
   ]
  },
  {
   "cell_type": "code",
   "execution_count": 16,
   "metadata": {},
   "outputs": [
    {
     "data": {
      "text/plain": [
       "credit_application        1.000000\n",
       "nr_credit_applications    0.887960\n",
       "CRG                       0.104958\n",
       "nr_debit_trx              0.030467\n",
       "client_nr                 0.020659\n",
       "volume_credit_trx         0.013168\n",
       "volume_debit_trx          0.008674\n",
       "total_nr_trx             -0.001848\n",
       "debit_credit_ratio       -0.002477\n",
       "yearmonth                -0.011546\n",
       "nr_credit_trx            -0.011643\n",
       "max_balance              -0.043633\n",
       "min_balance              -0.082577\n",
       "Name: credit_application, dtype: float64"
      ]
     },
     "execution_count": 16,
     "metadata": {},
     "output_type": "execute_result"
    }
   ],
   "source": [
    "corl= df_complete_data.corr()\n",
    "corl[\"credit_application\"].sort_values(ascending=False)"
   ]
  },
  {
   "cell_type": "code",
   "execution_count": 17,
   "metadata": {
    "scrolled": true
   },
   "outputs": [
    {
     "name": "stdout",
     "output_type": "stream",
     "text": [
      "Removing columns: []\n",
      "['min_balance', 'CRG', 'credit_application']\n",
      "credit_application    1.00\n",
      "CRG                   0.13\n",
      "min_balance           0.08\n",
      "max_balance           0.04\n",
      "nr_debit_trx          0.03\n",
      "client_nr             0.02\n",
      "yearmonth             0.01\n",
      "volume_debit_trx      0.01\n",
      "nr_credit_trx         0.01\n",
      "volume_credit_trx     0.01\n",
      "total_nr_trx          0.00\n",
      "debit_credit_ratio    0.00\n",
      "Name: credit_application, dtype: float64\n"
     ]
    }
   ],
   "source": [
    "# fimp=feature_importances()\n",
    "# X_train_feature_selection, accepted_columns,assoc_result,disallowed_columns = fimp.filter_out_features_based_on_statistical_approach(df_complete_data,[],\"credit_application\")\n",
    "# print(accepted_columns)\n",
    "# print(assoc_result[\"credit_application\"].sort_values(ascending=False))\n",
    "\n",
    "df_complete_data.drop(\"nr_credit_applications\",axis=1,inplace=True)\n",
    "fimp=feature_importances()\n",
    "X_train_feature_selection, accepted_columns,assoc_result,disallowed_columns = fimp.filter_out_features_based_on_statistical_approach(df_complete_data,[],\"credit_application\")\n",
    "print(accepted_columns)\n",
    "print(assoc_result[\"credit_application\"].sort_values(ascending=False))"
   ]
  },
  {
   "cell_type": "markdown",
   "metadata": {},
   "source": [
    "For a Time being delete rows where CRG is not present"
   ]
  },
  {
   "cell_type": "code",
   "execution_count": 18,
   "metadata": {},
   "outputs": [
    {
     "data": {
      "text/plain": [
       "0    5395\n",
       "1     142\n",
       "Name: credit_application, dtype: int64"
      ]
     },
     "execution_count": 18,
     "metadata": {},
     "output_type": "execute_result"
    }
   ],
   "source": [
    "df_complete_data[df_complete_data[\"CRG\"].isna()][\"credit_application\"].value_counts()\n",
    "# 0    5395\n",
    "# 1     142"
   ]
  },
  {
   "cell_type": "code",
   "execution_count": 19,
   "metadata": {},
   "outputs": [],
   "source": [
    "df_complete_data = df_complete_data[~df_complete_data[\"CRG\"].isna()]"
   ]
  },
  {
   "cell_type": "code",
   "execution_count": 20,
   "metadata": {},
   "outputs": [
    {
     "data": {
      "text/plain": [
       "(24459, 12)"
      ]
     },
     "execution_count": 20,
     "metadata": {},
     "output_type": "execute_result"
    }
   ],
   "source": [
    "df_complete_data.shape"
   ]
  },
  {
   "cell_type": "markdown",
   "metadata": {},
   "source": [
    "#### To do : Missing value treatment for CRG"
   ]
  },
  {
   "cell_type": "code",
   "execution_count": 21,
   "metadata": {},
   "outputs": [
    {
     "data": {
      "text/html": [
       "<div>\n",
       "<style scoped>\n",
       "    .dataframe tbody tr th:only-of-type {\n",
       "        vertical-align: middle;\n",
       "    }\n",
       "\n",
       "    .dataframe tbody tr th {\n",
       "        vertical-align: top;\n",
       "    }\n",
       "\n",
       "    .dataframe thead th {\n",
       "        text-align: right;\n",
       "    }\n",
       "</style>\n",
       "<table border=\"1\" class=\"dataframe\">\n",
       "  <thead>\n",
       "    <tr style=\"text-align: right;\">\n",
       "      <th></th>\n",
       "      <th>client_nr</th>\n",
       "      <th>yearmonth</th>\n",
       "      <th>CRG</th>\n",
       "      <th>total_nr_trx</th>\n",
       "    </tr>\n",
       "  </thead>\n",
       "  <tbody>\n",
       "    <tr>\n",
       "      <th>0</th>\n",
       "      <td>1</td>\n",
       "      <td>201401</td>\n",
       "      <td>1.0</td>\n",
       "      <td>1</td>\n",
       "    </tr>\n",
       "    <tr>\n",
       "      <th>1</th>\n",
       "      <td>1</td>\n",
       "      <td>201402</td>\n",
       "      <td>1.0</td>\n",
       "      <td>1</td>\n",
       "    </tr>\n",
       "    <tr>\n",
       "      <th>2</th>\n",
       "      <td>1</td>\n",
       "      <td>201403</td>\n",
       "      <td>1.0</td>\n",
       "      <td>1</td>\n",
       "    </tr>\n",
       "    <tr>\n",
       "      <th>3</th>\n",
       "      <td>1</td>\n",
       "      <td>201404</td>\n",
       "      <td>1.0</td>\n",
       "      <td>1</td>\n",
       "    </tr>\n",
       "    <tr>\n",
       "      <th>4</th>\n",
       "      <td>1</td>\n",
       "      <td>201405</td>\n",
       "      <td>1.0</td>\n",
       "      <td>1</td>\n",
       "    </tr>\n",
       "    <tr>\n",
       "      <th>...</th>\n",
       "      <td>...</td>\n",
       "      <td>...</td>\n",
       "      <td>...</td>\n",
       "      <td>...</td>\n",
       "    </tr>\n",
       "    <tr>\n",
       "      <th>24454</th>\n",
       "      <td>988</td>\n",
       "      <td>201604</td>\n",
       "      <td>3.0</td>\n",
       "      <td>1</td>\n",
       "    </tr>\n",
       "    <tr>\n",
       "      <th>24455</th>\n",
       "      <td>988</td>\n",
       "      <td>201605</td>\n",
       "      <td>3.0</td>\n",
       "      <td>1</td>\n",
       "    </tr>\n",
       "    <tr>\n",
       "      <th>24456</th>\n",
       "      <td>988</td>\n",
       "      <td>201606</td>\n",
       "      <td>3.0</td>\n",
       "      <td>1</td>\n",
       "    </tr>\n",
       "    <tr>\n",
       "      <th>24457</th>\n",
       "      <td>988</td>\n",
       "      <td>201607</td>\n",
       "      <td>3.0</td>\n",
       "      <td>1</td>\n",
       "    </tr>\n",
       "    <tr>\n",
       "      <th>24458</th>\n",
       "      <td>988</td>\n",
       "      <td>201608</td>\n",
       "      <td>3.0</td>\n",
       "      <td>1</td>\n",
       "    </tr>\n",
       "  </tbody>\n",
       "</table>\n",
       "<p>24459 rows × 4 columns</p>\n",
       "</div>"
      ],
      "text/plain": [
       "       client_nr  yearmonth  CRG  total_nr_trx\n",
       "0              1     201401  1.0             1\n",
       "1              1     201402  1.0             1\n",
       "2              1     201403  1.0             1\n",
       "3              1     201404  1.0             1\n",
       "4              1     201405  1.0             1\n",
       "...          ...        ...  ...           ...\n",
       "24454        988     201604  3.0             1\n",
       "24455        988     201605  3.0             1\n",
       "24456        988     201606  3.0             1\n",
       "24457        988     201607  3.0             1\n",
       "24458        988     201608  3.0             1\n",
       "\n",
       "[24459 rows x 4 columns]"
      ]
     },
     "execution_count": 21,
     "metadata": {},
     "output_type": "execute_result"
    }
   ],
   "source": [
    "df_complete_data.groupby([\"client_nr\",\"yearmonth\",\"CRG\"])[\"total_nr_trx\"].count().reset_index()"
   ]
  },
  {
   "cell_type": "markdown",
   "metadata": {},
   "source": [
    "###### New features ideas\n",
    "Calculate how many times client has applied for credit in the past for each month"
   ]
  },
  {
   "cell_type": "code",
   "execution_count": 22,
   "metadata": {},
   "outputs": [],
   "source": [
    "def calculate_nr_credit_in_past(current_index):\n",
    "#     print(current_index)\n",
    "    client_nr = df_complete_data.loc[[current_index]][\"client_nr\"].values[0]\n",
    "    tmp_sum = df_complete_data[(df_complete_data[\"client_nr\"]==client_nr) & (df_complete_data.index <current_index)][\"credit_application\"].sum()\n",
    "    tmp_cnt = df_complete_data[(df_complete_data[\"client_nr\"]==client_nr) & (df_complete_data.index <current_index)][\"credit_application\"].count()\n",
    "    if(tmp_cnt==0):\n",
    "        return 0\n",
    "    else:\n",
    "        return tmp_sum/tmp_cnt"
   ]
  },
  {
   "cell_type": "code",
   "execution_count": 23,
   "metadata": {},
   "outputs": [],
   "source": [
    "df_complete_data[\"credit_applied_before_ratio\"]= df_complete_data.index.map(calculate_nr_credit_in_past)"
   ]
  },
  {
   "cell_type": "markdown",
   "metadata": {},
   "source": [
    "#### Split data strategy\n",
    "\n",
    "As part of train/test data split, 20% of data will be reserved as test data and will not seen by any model.\n",
    "That amounts to approximately = 6 months worth of data.\n",
    "Instead of splitting train/test data randomly, I decided to leave last 6 month data as test data set i.e. March 2016 to August 2016"
   ]
  },
  {
   "cell_type": "code",
   "execution_count": 24,
   "metadata": {},
   "outputs": [],
   "source": [
    "X_test = df_complete_data[df_complete_data[\"yearmonth\"].isin([201608,201607,201606,201605,201604,201603])].copy()\n",
    "y_test = X_test[\"credit_application\"]\n",
    "\n",
    "X_train_org = df_complete_data[~df_complete_data[\"yearmonth\"].isin([201608,201607,201606,201605,201604,201603])].copy()\n",
    "y_train_org = X_train_org[\"credit_application\"]\n",
    "\n",
    "X_train,X_val,y_train,y_val=train_test_split(X_train_org,X_train_org[\"credit_application\"],test_size=0.2,random_state=42,stratify=X_train_org[\"credit_application\"])\n",
    "\n",
    "X_test.drop([\"credit_application\",\"client_nr\"],axis=1,inplace=True)\n",
    "X_train_org.drop([\"credit_application\",\"client_nr\"],axis=1,inplace=True)\n",
    "X_train.drop([\"credit_application\",\"client_nr\"],axis=1,inplace=True)\n",
    "X_val.drop([\"credit_application\",\"client_nr\"],axis=1,inplace=True)\n",
    "\n",
    "\n",
    "# X_test.drop([\"credit_application\",\"client_nr\",\"nr_credit_applications\"],axis=1,inplace=True)\n",
    "# X_train_org.drop([\"credit_application\",\"client_nr\",\"nr_credit_applications\"],axis=1,inplace=True)\n",
    "# X_train.drop([\"credit_application\",\"client_nr\",\"nr_credit_applications\"],axis=1,inplace=True)\n",
    "# X_val.drop([\"credit_application\",\"client_nr\",\"nr_credit_applications\"],axis=1,inplace=True)"
   ]
  },
  {
   "cell_type": "markdown",
   "metadata": {},
   "source": [
    "2 unsupervised algorithm performance observed:\n",
    "1. Isolation forest\n",
    "2. Local outlier factor\n",
    "\n",
    "##### 1. Isolation forest"
   ]
  },
  {
   "cell_type": "code",
   "execution_count": 44,
   "metadata": {},
   "outputs": [],
   "source": [
    "from sklearn.ensemble import IsolationForest\n",
    "from sklearn.model_selection import ParameterSampler\n",
    "from sklearn.metrics import f1_score,roc_auc_score,confusion_matrix,recall_score,precision_score"
   ]
  },
  {
   "cell_type": "code",
   "execution_count": 42,
   "metadata": {},
   "outputs": [
    {
     "data": {
      "text/plain": [
       "[1, 1, 1, 0, 0, 1, 1, 0, 0, 0, 0, 0]"
      ]
     },
     "execution_count": 42,
     "metadata": {},
     "output_type": "execute_result"
    }
   ],
   "source": []
  },
  {
   "cell_type": "code",
   "execution_count": 54,
   "metadata": {},
   "outputs": [
    {
     "name": "stdout",
     "output_type": "stream",
     "text": [
      "{'n_estimators': 240, 'max_samples': 0.89, 'max_features': 0.25, 'contamination': 0.09}\n"
     ]
    },
    {
     "name": "stderr",
     "output_type": "stream",
     "text": [
      "C:\\Users\\vishalra\\Anaconda3\\envs\\nlp_tasks\\lib\\site-packages\\sklearn\\base.py:439: UserWarning: X does not have valid feature names, but IsolationForest was fitted with feature names\n",
      "  warnings.warn(\n"
     ]
    },
    {
     "name": "stdout",
     "output_type": "stream",
     "text": [
      "0.09078014184397164\n",
      "0 0.09078014184397164\n",
      "{'n_estimators': 20, 'max_samples': 0.98, 'max_features': 0.37, 'contamination': 0.1}\n"
     ]
    },
    {
     "name": "stderr",
     "output_type": "stream",
     "text": [
      "C:\\Users\\vishalra\\Anaconda3\\envs\\nlp_tasks\\lib\\site-packages\\sklearn\\base.py:439: UserWarning: X does not have valid feature names, but IsolationForest was fitted with feature names\n",
      "  warnings.warn(\n"
     ]
    },
    {
     "name": "stdout",
     "output_type": "stream",
     "text": [
      "0.08356545961002787\n",
      "{'n_estimators': 130, 'max_samples': 0.93, 'max_features': 0.27, 'contamination': 0.09}\n"
     ]
    },
    {
     "name": "stderr",
     "output_type": "stream",
     "text": [
      "C:\\Users\\vishalra\\Anaconda3\\envs\\nlp_tasks\\lib\\site-packages\\sklearn\\base.py:439: UserWarning: X does not have valid feature names, but IsolationForest was fitted with feature names\n",
      "  warnings.warn(\n"
     ]
    },
    {
     "name": "stdout",
     "output_type": "stream",
     "text": [
      "0.07627118644067797\n",
      "{'n_estimators': 155, 'max_samples': 0.66, 'max_features': 0.89, 'contamination': 0.2}\n"
     ]
    },
    {
     "name": "stderr",
     "output_type": "stream",
     "text": [
      "C:\\Users\\vishalra\\Anaconda3\\envs\\nlp_tasks\\lib\\site-packages\\sklearn\\base.py:439: UserWarning: X does not have valid feature names, but IsolationForest was fitted with feature names\n",
      "  warnings.warn(\n"
     ]
    },
    {
     "name": "stdout",
     "output_type": "stream",
     "text": [
      "0.12577502214348982\n",
      "3 0.12577502214348982\n",
      "{'n_estimators': 95, 'max_samples': 0.9, 'max_features': 0.53, 'contamination': 0.09}\n"
     ]
    },
    {
     "name": "stderr",
     "output_type": "stream",
     "text": [
      "C:\\Users\\vishalra\\Anaconda3\\envs\\nlp_tasks\\lib\\site-packages\\sklearn\\base.py:439: UserWarning: X does not have valid feature names, but IsolationForest was fitted with feature names\n",
      "  warnings.warn(\n"
     ]
    },
    {
     "name": "stdout",
     "output_type": "stream",
     "text": [
      "0.09155937052932761\n",
      "{'n_estimators': 200, 'max_samples': 0.46, 'max_features': 0.46, 'contamination': 0.3}\n"
     ]
    },
    {
     "name": "stderr",
     "output_type": "stream",
     "text": [
      "C:\\Users\\vishalra\\Anaconda3\\envs\\nlp_tasks\\lib\\site-packages\\sklearn\\base.py:439: UserWarning: X does not have valid feature names, but IsolationForest was fitted with feature names\n",
      "  warnings.warn(\n"
     ]
    },
    {
     "name": "stdout",
     "output_type": "stream",
     "text": [
      "0.1329073482428115\n",
      "5 0.1329073482428115\n",
      "{'n_estimators': 100, 'max_samples': 0.51, 'max_features': 0.23, 'contamination': 0.09}\n"
     ]
    },
    {
     "name": "stderr",
     "output_type": "stream",
     "text": [
      "C:\\Users\\vishalra\\Anaconda3\\envs\\nlp_tasks\\lib\\site-packages\\sklearn\\base.py:439: UserWarning: X does not have valid feature names, but IsolationForest was fitted with feature names\n",
      "  warnings.warn(\n"
     ]
    },
    {
     "name": "stdout",
     "output_type": "stream",
     "text": [
      "0.09329446064139943\n",
      "{'n_estimators': 120, 'max_samples': 0.43, 'max_features': 0.5, 'contamination': 0.1}\n"
     ]
    },
    {
     "name": "stderr",
     "output_type": "stream",
     "text": [
      "C:\\Users\\vishalra\\Anaconda3\\envs\\nlp_tasks\\lib\\site-packages\\sklearn\\base.py:439: UserWarning: X does not have valid feature names, but IsolationForest was fitted with feature names\n",
      "  warnings.warn(\n"
     ]
    },
    {
     "name": "stdout",
     "output_type": "stream",
     "text": [
      "0.10382513661202185\n",
      "{'n_estimators': 165, 'max_samples': 0.2, 'max_features': 0.26, 'contamination': 0.2}\n"
     ]
    },
    {
     "name": "stderr",
     "output_type": "stream",
     "text": [
      "C:\\Users\\vishalra\\Anaconda3\\envs\\nlp_tasks\\lib\\site-packages\\sklearn\\base.py:439: UserWarning: X does not have valid feature names, but IsolationForest was fitted with feature names\n",
      "  warnings.warn(\n"
     ]
    },
    {
     "name": "stdout",
     "output_type": "stream",
     "text": [
      "0.11120917917034423\n",
      "{'n_estimators': 205, 'max_samples': 0.03, 'max_features': 0.29, 'contamination': 0.09}\n"
     ]
    },
    {
     "name": "stderr",
     "output_type": "stream",
     "text": [
      "C:\\Users\\vishalra\\Anaconda3\\envs\\nlp_tasks\\lib\\site-packages\\sklearn\\base.py:439: UserWarning: X does not have valid feature names, but IsolationForest was fitted with feature names\n",
      "  warnings.warn(\n"
     ]
    },
    {
     "name": "stdout",
     "output_type": "stream",
     "text": [
      "0.08247422680412371\n",
      "{'n_estimators': 235, 'max_samples': 0.06, 'max_features': 0.05, 'contamination': 0.2}\n"
     ]
    },
    {
     "name": "stderr",
     "output_type": "stream",
     "text": [
      "C:\\Users\\vishalra\\Anaconda3\\envs\\nlp_tasks\\lib\\site-packages\\sklearn\\base.py:439: UserWarning: X does not have valid feature names, but IsolationForest was fitted with feature names\n",
      "  warnings.warn(\n"
     ]
    },
    {
     "name": "stdout",
     "output_type": "stream",
     "text": [
      "0.10366398570151923\n",
      "{'n_estimators': 240, 'max_samples': 0.41, 'max_features': 0.21, 'contamination': 0.3}\n"
     ]
    },
    {
     "name": "stderr",
     "output_type": "stream",
     "text": [
      "C:\\Users\\vishalra\\Anaconda3\\envs\\nlp_tasks\\lib\\site-packages\\sklearn\\base.py:439: UserWarning: X does not have valid feature names, but IsolationForest was fitted with feature names\n",
      "  warnings.warn(\n"
     ]
    },
    {
     "name": "stdout",
     "output_type": "stream",
     "text": [
      "0.12572161642078256\n",
      "{'n_estimators': 55, 'max_samples': 0.86, 'max_features': 0.32, 'contamination': 0.2}\n"
     ]
    },
    {
     "name": "stderr",
     "output_type": "stream",
     "text": [
      "C:\\Users\\vishalra\\Anaconda3\\envs\\nlp_tasks\\lib\\site-packages\\sklearn\\base.py:439: UserWarning: X does not have valid feature names, but IsolationForest was fitted with feature names\n",
      "  warnings.warn(\n"
     ]
    },
    {
     "name": "stdout",
     "output_type": "stream",
     "text": [
      "0.1226993865030675\n",
      "{'n_estimators': 180, 'max_samples': 0.5, 'max_features': 0.98, 'contamination': 0.3}\n"
     ]
    },
    {
     "name": "stderr",
     "output_type": "stream",
     "text": [
      "C:\\Users\\vishalra\\Anaconda3\\envs\\nlp_tasks\\lib\\site-packages\\sklearn\\base.py:439: UserWarning: X does not have valid feature names, but IsolationForest was fitted with feature names\n",
      "  warnings.warn(\n"
     ]
    },
    {
     "name": "stdout",
     "output_type": "stream",
     "text": [
      "0.1288265306122449\n",
      "{'n_estimators': 175, 'max_samples': 0.28, 'max_features': 0.87, 'contamination': 0.1}\n"
     ]
    },
    {
     "name": "stderr",
     "output_type": "stream",
     "text": [
      "C:\\Users\\vishalra\\Anaconda3\\envs\\nlp_tasks\\lib\\site-packages\\sklearn\\base.py:439: UserWarning: X does not have valid feature names, but IsolationForest was fitted with feature names\n",
      "  warnings.warn(\n"
     ]
    },
    {
     "name": "stdout",
     "output_type": "stream",
     "text": [
      "0.10235131396957123\n",
      "{'n_estimators': 150, 'max_samples': 0.76, 'max_features': 0.36, 'contamination': 0.09}\n"
     ]
    },
    {
     "name": "stderr",
     "output_type": "stream",
     "text": [
      "C:\\Users\\vishalra\\Anaconda3\\envs\\nlp_tasks\\lib\\site-packages\\sklearn\\base.py:439: UserWarning: X does not have valid feature names, but IsolationForest was fitted with feature names\n",
      "  warnings.warn(\n"
     ]
    },
    {
     "name": "stdout",
     "output_type": "stream",
     "text": [
      "0.10014306151645207\n",
      "{'n_estimators': 85, 'max_samples': 0.05, 'max_features': 0.54, 'contamination': 0.2}\n"
     ]
    },
    {
     "name": "stderr",
     "output_type": "stream",
     "text": [
      "C:\\Users\\vishalra\\Anaconda3\\envs\\nlp_tasks\\lib\\site-packages\\sklearn\\base.py:439: UserWarning: X does not have valid feature names, but IsolationForest was fitted with feature names\n",
      "  warnings.warn(\n"
     ]
    },
    {
     "name": "stdout",
     "output_type": "stream",
     "text": [
      "0.12288512911843279\n",
      "{'n_estimators': 225, 'max_samples': 0.77, 'max_features': 0.57, 'contamination': 0.09}\n"
     ]
    },
    {
     "name": "stderr",
     "output_type": "stream",
     "text": [
      "C:\\Users\\vishalra\\Anaconda3\\envs\\nlp_tasks\\lib\\site-packages\\sklearn\\base.py:439: UserWarning: X does not have valid feature names, but IsolationForest was fitted with feature names\n",
      "  warnings.warn(\n"
     ]
    },
    {
     "name": "stdout",
     "output_type": "stream",
     "text": [
      "0.09635036496350363\n",
      "{'n_estimators': 150, 'max_samples': 0.39, 'max_features': 0.09, 'contamination': 0.09}\n"
     ]
    },
    {
     "name": "stderr",
     "output_type": "stream",
     "text": [
      "C:\\Users\\vishalra\\Anaconda3\\envs\\nlp_tasks\\lib\\site-packages\\sklearn\\base.py:439: UserWarning: X does not have valid feature names, but IsolationForest was fitted with feature names\n",
      "  warnings.warn(\n"
     ]
    },
    {
     "name": "stdout",
     "output_type": "stream",
     "text": [
      "0.06675938803894299\n",
      "{'n_estimators': 190, 'max_samples': 0.22, 'max_features': 0.68, 'contamination': 0.09}\n"
     ]
    },
    {
     "name": "stderr",
     "output_type": "stream",
     "text": [
      "C:\\Users\\vishalra\\Anaconda3\\envs\\nlp_tasks\\lib\\site-packages\\sklearn\\base.py:439: UserWarning: X does not have valid feature names, but IsolationForest was fitted with feature names\n",
      "  warnings.warn(\n"
     ]
    },
    {
     "name": "stdout",
     "output_type": "stream",
     "text": [
      "0.09288824383164004\n",
      "{'n_estimators': 100, 'max_samples': 0.23, 'max_features': 0.28, 'contamination': 0.2}\n"
     ]
    },
    {
     "name": "stderr",
     "output_type": "stream",
     "text": [
      "C:\\Users\\vishalra\\Anaconda3\\envs\\nlp_tasks\\lib\\site-packages\\sklearn\\base.py:439: UserWarning: X does not have valid feature names, but IsolationForest was fitted with feature names\n",
      "  warnings.warn(\n"
     ]
    },
    {
     "name": "stdout",
     "output_type": "stream",
     "text": [
      "0.10867659947414549\n",
      "{'n_estimators': 90, 'max_samples': 0.66, 'max_features': 0.61, 'contamination': 0.1}\n"
     ]
    },
    {
     "name": "stderr",
     "output_type": "stream",
     "text": [
      "C:\\Users\\vishalra\\Anaconda3\\envs\\nlp_tasks\\lib\\site-packages\\sklearn\\base.py:439: UserWarning: X does not have valid feature names, but IsolationForest was fitted with feature names\n",
      "  warnings.warn(\n"
     ]
    },
    {
     "name": "stdout",
     "output_type": "stream",
     "text": [
      "0.09890109890109891\n",
      "{'n_estimators': 125, 'max_samples': 0.69, 'max_features': 0.8, 'contamination': 0.2}\n"
     ]
    },
    {
     "name": "stderr",
     "output_type": "stream",
     "text": [
      "C:\\Users\\vishalra\\Anaconda3\\envs\\nlp_tasks\\lib\\site-packages\\sklearn\\base.py:439: UserWarning: X does not have valid feature names, but IsolationForest was fitted with feature names\n",
      "  warnings.warn(\n"
     ]
    },
    {
     "name": "stdout",
     "output_type": "stream",
     "text": [
      "0.12620508326029797\n",
      "{'n_estimators': 10, 'max_samples': 0.6, 'max_features': 0.61, 'contamination': 0.3}\n"
     ]
    },
    {
     "name": "stderr",
     "output_type": "stream",
     "text": [
      "C:\\Users\\vishalra\\Anaconda3\\envs\\nlp_tasks\\lib\\site-packages\\sklearn\\base.py:439: UserWarning: X does not have valid feature names, but IsolationForest was fitted with feature names\n",
      "  warnings.warn(\n"
     ]
    },
    {
     "name": "stdout",
     "output_type": "stream",
     "text": [
      "0.11577608142493637\n",
      "{'n_estimators': 225, 'max_samples': 0.75, 'max_features': 0.67, 'contamination': 0.09}\n"
     ]
    },
    {
     "name": "stderr",
     "output_type": "stream",
     "text": [
      "C:\\Users\\vishalra\\Anaconda3\\envs\\nlp_tasks\\lib\\site-packages\\sklearn\\base.py:439: UserWarning: X does not have valid feature names, but IsolationForest was fitted with feature names\n",
      "  warnings.warn(\n"
     ]
    },
    {
     "name": "stdout",
     "output_type": "stream",
     "text": [
      "0.09495548961424333\n",
      "{'n_estimators': 155, 'max_samples': 0.57, 'max_features': 0.73, 'contamination': 0.3}\n"
     ]
    },
    {
     "name": "stderr",
     "output_type": "stream",
     "text": [
      "C:\\Users\\vishalra\\Anaconda3\\envs\\nlp_tasks\\lib\\site-packages\\sklearn\\base.py:439: UserWarning: X does not have valid feature names, but IsolationForest was fitted with feature names\n",
      "  warnings.warn(\n"
     ]
    },
    {
     "name": "stdout",
     "output_type": "stream",
     "text": [
      "0.1329032258064516\n",
      "{'n_estimators': 150, 'max_samples': 0.62, 'max_features': 0.55, 'contamination': 0.2}\n"
     ]
    },
    {
     "name": "stderr",
     "output_type": "stream",
     "text": [
      "C:\\Users\\vishalra\\Anaconda3\\envs\\nlp_tasks\\lib\\site-packages\\sklearn\\base.py:439: UserWarning: X does not have valid feature names, but IsolationForest was fitted with feature names\n",
      "  warnings.warn(\n"
     ]
    },
    {
     "name": "stdout",
     "output_type": "stream",
     "text": [
      "0.12062937062937062\n",
      "{'n_estimators': 15, 'max_samples': 0.59, 'max_features': 0.62, 'contamination': 0.1}\n"
     ]
    },
    {
     "name": "stderr",
     "output_type": "stream",
     "text": [
      "C:\\Users\\vishalra\\Anaconda3\\envs\\nlp_tasks\\lib\\site-packages\\sklearn\\base.py:439: UserWarning: X does not have valid feature names, but IsolationForest was fitted with feature names\n",
      "  warnings.warn(\n"
     ]
    },
    {
     "name": "stdout",
     "output_type": "stream",
     "text": [
      "0.08611111111111111\n",
      "{'n_estimators': 80, 'max_samples': 0.1, 'max_features': 0.22, 'contamination': 0.09}\n"
     ]
    },
    {
     "name": "stderr",
     "output_type": "stream",
     "text": [
      "C:\\Users\\vishalra\\Anaconda3\\envs\\nlp_tasks\\lib\\site-packages\\sklearn\\base.py:439: UserWarning: X does not have valid feature names, but IsolationForest was fitted with feature names\n",
      "  warnings.warn(\n"
     ]
    },
    {
     "name": "stdout",
     "output_type": "stream",
     "text": [
      "0.08226950354609928\n",
      "{'n_estimators': 175, 'max_samples': 0.12, 'max_features': 0.63, 'contamination': 0.2}\n"
     ]
    },
    {
     "name": "stderr",
     "output_type": "stream",
     "text": [
      "C:\\Users\\vishalra\\Anaconda3\\envs\\nlp_tasks\\lib\\site-packages\\sklearn\\base.py:439: UserWarning: X does not have valid feature names, but IsolationForest was fitted with feature names\n",
      "  warnings.warn(\n"
     ]
    },
    {
     "name": "stdout",
     "output_type": "stream",
     "text": [
      "0.1133746678476528\n",
      "{'n_estimators': 120, 'max_samples': 0.71, 'max_features': 0.58, 'contamination': 0.2}\n"
     ]
    },
    {
     "name": "stderr",
     "output_type": "stream",
     "text": [
      "C:\\Users\\vishalra\\Anaconda3\\envs\\nlp_tasks\\lib\\site-packages\\sklearn\\base.py:439: UserWarning: X does not have valid feature names, but IsolationForest was fitted with feature names\n",
      "  warnings.warn(\n"
     ]
    },
    {
     "name": "stdout",
     "output_type": "stream",
     "text": [
      "0.12323943661971831\n",
      "{'n_estimators': 10, 'max_samples': 0.72, 'max_features': 0.38, 'contamination': 0.09}\n"
     ]
    },
    {
     "name": "stderr",
     "output_type": "stream",
     "text": [
      "C:\\Users\\vishalra\\Anaconda3\\envs\\nlp_tasks\\lib\\site-packages\\sklearn\\base.py:439: UserWarning: X does not have valid feature names, but IsolationForest was fitted with feature names\n",
      "  warnings.warn(\n"
     ]
    },
    {
     "name": "stdout",
     "output_type": "stream",
     "text": [
      "0.0708215297450425\n",
      "{'n_estimators': 85, 'max_samples': 0.91, 'max_features': 0.85, 'contamination': 0.2}\n"
     ]
    },
    {
     "name": "stderr",
     "output_type": "stream",
     "text": [
      "C:\\Users\\vishalra\\Anaconda3\\envs\\nlp_tasks\\lib\\site-packages\\sklearn\\base.py:439: UserWarning: X does not have valid feature names, but IsolationForest was fitted with feature names\n",
      "  warnings.warn(\n"
     ]
    },
    {
     "name": "stdout",
     "output_type": "stream",
     "text": [
      "0.11702127659574468\n",
      "{'n_estimators': 230, 'max_samples': 0.1, 'max_features': 0.01, 'contamination': 0.3}\n"
     ]
    },
    {
     "name": "stderr",
     "output_type": "stream",
     "text": [
      "C:\\Users\\vishalra\\Anaconda3\\envs\\nlp_tasks\\lib\\site-packages\\sklearn\\base.py:439: UserWarning: X does not have valid feature names, but IsolationForest was fitted with feature names\n",
      "  warnings.warn(\n"
     ]
    },
    {
     "name": "stdout",
     "output_type": "stream",
     "text": [
      "0.13437703848662752\n",
      "33 0.13437703848662752\n",
      "{'n_estimators': 150, 'max_samples': 0.93, 'max_features': 0.02, 'contamination': 0.2}\n"
     ]
    },
    {
     "name": "stderr",
     "output_type": "stream",
     "text": [
      "C:\\Users\\vishalra\\Anaconda3\\envs\\nlp_tasks\\lib\\site-packages\\sklearn\\base.py:439: UserWarning: X does not have valid feature names, but IsolationForest was fitted with feature names\n",
      "  warnings.warn(\n"
     ]
    },
    {
     "name": "stdout",
     "output_type": "stream",
     "text": [
      "0.09956331877729258\n",
      "{'n_estimators': 20, 'max_samples': 0.82, 'max_features': 0.67, 'contamination': 0.2}\n"
     ]
    },
    {
     "name": "stderr",
     "output_type": "stream",
     "text": [
      "C:\\Users\\vishalra\\Anaconda3\\envs\\nlp_tasks\\lib\\site-packages\\sklearn\\base.py:439: UserWarning: X does not have valid feature names, but IsolationForest was fitted with feature names\n",
      "  warnings.warn(\n"
     ]
    },
    {
     "name": "stdout",
     "output_type": "stream",
     "text": [
      "0.12818261633011413\n",
      "{'n_estimators': 35, 'max_samples': 0.24, 'max_features': 1.0, 'contamination': 0.09}\n"
     ]
    },
    {
     "name": "stderr",
     "output_type": "stream",
     "text": [
      "C:\\Users\\vishalra\\Anaconda3\\envs\\nlp_tasks\\lib\\site-packages\\sklearn\\base.py:439: UserWarning: X does not have valid feature names, but IsolationForest was fitted with feature names\n",
      "  warnings.warn(\n"
     ]
    },
    {
     "name": "stdout",
     "output_type": "stream",
     "text": [
      "0.07906295754026355\n",
      "{'n_estimators': 35, 'max_samples': 0.16, 'max_features': 0.88, 'contamination': 0.1}\n"
     ]
    },
    {
     "name": "stderr",
     "output_type": "stream",
     "text": [
      "C:\\Users\\vishalra\\Anaconda3\\envs\\nlp_tasks\\lib\\site-packages\\sklearn\\base.py:439: UserWarning: X does not have valid feature names, but IsolationForest was fitted with feature names\n",
      "  warnings.warn(\n"
     ]
    },
    {
     "name": "stdout",
     "output_type": "stream",
     "text": [
      "0.0923076923076923\n",
      "{'n_estimators': 105, 'max_samples': 0.08, 'max_features': 0.17, 'contamination': 0.3}\n"
     ]
    },
    {
     "name": "stderr",
     "output_type": "stream",
     "text": [
      "C:\\Users\\vishalra\\Anaconda3\\envs\\nlp_tasks\\lib\\site-packages\\sklearn\\base.py:439: UserWarning: X does not have valid feature names, but IsolationForest was fitted with feature names\n",
      "  warnings.warn(\n"
     ]
    },
    {
     "name": "stdout",
     "output_type": "stream",
     "text": [
      "0.12384716732542819\n",
      "{'n_estimators': 150, 'max_samples': 0.99, 'max_features': 0.32, 'contamination': 0.09}\n"
     ]
    },
    {
     "name": "stderr",
     "output_type": "stream",
     "text": [
      "C:\\Users\\vishalra\\Anaconda3\\envs\\nlp_tasks\\lib\\site-packages\\sklearn\\base.py:439: UserWarning: X does not have valid feature names, but IsolationForest was fitted with feature names\n",
      "  warnings.warn(\n"
     ]
    },
    {
     "name": "stdout",
     "output_type": "stream",
     "text": [
      "0.09784172661870504\n",
      "{'n_estimators': 55, 'max_samples': 0.74, 'max_features': 0.92, 'contamination': 0.3}\n"
     ]
    },
    {
     "name": "stderr",
     "output_type": "stream",
     "text": [
      "C:\\Users\\vishalra\\Anaconda3\\envs\\nlp_tasks\\lib\\site-packages\\sklearn\\base.py:439: UserWarning: X does not have valid feature names, but IsolationForest was fitted with feature names\n",
      "  warnings.warn(\n"
     ]
    },
    {
     "name": "stdout",
     "output_type": "stream",
     "text": [
      "0.125974025974026\n",
      "{'n_estimators': 45, 'max_samples': 0.51, 'max_features': 0.93, 'contamination': 0.2}\n"
     ]
    },
    {
     "name": "stderr",
     "output_type": "stream",
     "text": [
      "C:\\Users\\vishalra\\Anaconda3\\envs\\nlp_tasks\\lib\\site-packages\\sklearn\\base.py:439: UserWarning: X does not have valid feature names, but IsolationForest was fitted with feature names\n",
      "  warnings.warn(\n"
     ]
    },
    {
     "name": "stdout",
     "output_type": "stream",
     "text": [
      "0.12072072072072071\n",
      "{'n_estimators': 155, 'max_samples': 0.51, 'max_features': 0.45, 'contamination': 0.2}\n"
     ]
    },
    {
     "name": "stderr",
     "output_type": "stream",
     "text": [
      "C:\\Users\\vishalra\\Anaconda3\\envs\\nlp_tasks\\lib\\site-packages\\sklearn\\base.py:439: UserWarning: X does not have valid feature names, but IsolationForest was fitted with feature names\n",
      "  warnings.warn(\n"
     ]
    },
    {
     "name": "stdout",
     "output_type": "stream",
     "text": [
      "0.10928013876843017\n",
      "{'n_estimators': 130, 'max_samples': 0.64, 'max_features': 0.34, 'contamination': 0.1}\n"
     ]
    },
    {
     "name": "stderr",
     "output_type": "stream",
     "text": [
      "C:\\Users\\vishalra\\Anaconda3\\envs\\nlp_tasks\\lib\\site-packages\\sklearn\\base.py:439: UserWarning: X does not have valid feature names, but IsolationForest was fitted with feature names\n",
      "  warnings.warn(\n"
     ]
    },
    {
     "name": "stdout",
     "output_type": "stream",
     "text": [
      "0.09366391184573003\n",
      "{'n_estimators': 210, 'max_samples': 0.56, 'max_features': 0.08, 'contamination': 0.1}\n"
     ]
    },
    {
     "name": "stderr",
     "output_type": "stream",
     "text": [
      "C:\\Users\\vishalra\\Anaconda3\\envs\\nlp_tasks\\lib\\site-packages\\sklearn\\base.py:439: UserWarning: X does not have valid feature names, but IsolationForest was fitted with feature names\n",
      "  warnings.warn(\n"
     ]
    },
    {
     "name": "stdout",
     "output_type": "stream",
     "text": [
      "0.07526881720430106\n",
      "{'n_estimators': 110, 'max_samples': 0.28, 'max_features': 0.33, 'contamination': 0.1}\n"
     ]
    },
    {
     "name": "stderr",
     "output_type": "stream",
     "text": [
      "C:\\Users\\vishalra\\Anaconda3\\envs\\nlp_tasks\\lib\\site-packages\\sklearn\\base.py:439: UserWarning: X does not have valid feature names, but IsolationForest was fitted with feature names\n",
      "  warnings.warn(\n"
     ]
    },
    {
     "name": "stdout",
     "output_type": "stream",
     "text": [
      "0.08551724137931035\n",
      "{'n_estimators': 125, 'max_samples': 0.32, 'max_features': 0.07, 'contamination': 0.3}\n"
     ]
    },
    {
     "name": "stderr",
     "output_type": "stream",
     "text": [
      "C:\\Users\\vishalra\\Anaconda3\\envs\\nlp_tasks\\lib\\site-packages\\sklearn\\base.py:439: UserWarning: X does not have valid feature names, but IsolationForest was fitted with feature names\n",
      "  warnings.warn(\n"
     ]
    },
    {
     "name": "stdout",
     "output_type": "stream",
     "text": [
      "0.11872146118721462\n",
      "{'n_estimators': 90, 'max_samples': 0.42, 'max_features': 0.14, 'contamination': 0.09}\n"
     ]
    },
    {
     "name": "stderr",
     "output_type": "stream",
     "text": [
      "C:\\Users\\vishalra\\Anaconda3\\envs\\nlp_tasks\\lib\\site-packages\\sklearn\\base.py:439: UserWarning: X does not have valid feature names, but IsolationForest was fitted with feature names\n",
      "  warnings.warn(\n"
     ]
    },
    {
     "name": "stdout",
     "output_type": "stream",
     "text": [
      "0.07222222222222223\n",
      "{'n_estimators': 55, 'max_samples': 0.53, 'max_features': 0.41, 'contamination': 0.2}\n"
     ]
    },
    {
     "name": "stderr",
     "output_type": "stream",
     "text": [
      "C:\\Users\\vishalra\\Anaconda3\\envs\\nlp_tasks\\lib\\site-packages\\sklearn\\base.py:439: UserWarning: X does not have valid feature names, but IsolationForest was fitted with feature names\n",
      "  warnings.warn(\n"
     ]
    },
    {
     "name": "stdout",
     "output_type": "stream",
     "text": [
      "0.11443661971830986\n",
      "{'n_estimators': 165, 'max_samples': 0.28, 'max_features': 0.18, 'contamination': 0.09}\n"
     ]
    },
    {
     "name": "stderr",
     "output_type": "stream",
     "text": [
      "C:\\Users\\vishalra\\Anaconda3\\envs\\nlp_tasks\\lib\\site-packages\\sklearn\\base.py:439: UserWarning: X does not have valid feature names, but IsolationForest was fitted with feature names\n",
      "  warnings.warn(\n"
     ]
    },
    {
     "name": "stdout",
     "output_type": "stream",
     "text": [
      "0.07355021216407355\n"
     ]
    }
   ],
   "source": [
    "\n",
    "space = {\n",
    "    \"n_estimators\": list(range(10, 251, 5)),\n",
    "    \"max_features\": [x/100 for x in range(1, 101, 1)],\n",
    "    \"max_samples\": [x/100 for x in range(1, 101, 1)],\n",
    "    \"contamination\":[0.09,0.1,0.2,0.3]\n",
    "}\n",
    "best_score = 0.0\n",
    "for ix, g in enumerate(ParameterSampler(space, n_iter=50, random_state=42)):\n",
    "    print(g)\n",
    "    model = IsolationForest(n_jobs=-1, random_state=42, **g)\n",
    "    model.fit(X_train,y_train)\n",
    "    y_val_pred = model.predict(X_val)\n",
    "    y_val_pred = [1 if x==-1 else 0 for x in y_val_pred ]\n",
    "    score = f1_score(y_val, y_val_pred)\n",
    "    print(score)\n",
    "    if score > best_score:\n",
    "        best_score = score\n",
    "        best_grid = g\n",
    "        print(ix, score)\n",
    "    \n",
    "    \n"
   ]
  },
  {
   "cell_type": "code",
   "execution_count": 55,
   "metadata": {},
   "outputs": [
    {
     "name": "stdout",
     "output_type": "stream",
     "text": [
      "0.13437703848662752 {'n_estimators': 230, 'max_samples': 0.1, 'max_features': 0.01, 'contamination': 0.3}\n"
     ]
    }
   ],
   "source": [
    "print(best_score,best_grid)"
   ]
  },
  {
   "cell_type": "code",
   "execution_count": 56,
   "metadata": {},
   "outputs": [
    {
     "name": "stderr",
     "output_type": "stream",
     "text": [
      "C:\\Users\\vishalra\\Anaconda3\\envs\\nlp_tasks\\lib\\site-packages\\sklearn\\base.py:439: UserWarning: X does not have valid feature names, but IsolationForest was fitted with feature names\n",
      "  warnings.warn(\n"
     ]
    },
    {
     "data": {
      "text/html": [
       "<style>#sk-container-id-2 {color: black;background-color: white;}#sk-container-id-2 pre{padding: 0;}#sk-container-id-2 div.sk-toggleable {background-color: white;}#sk-container-id-2 label.sk-toggleable__label {cursor: pointer;display: block;width: 100%;margin-bottom: 0;padding: 0.3em;box-sizing: border-box;text-align: center;}#sk-container-id-2 label.sk-toggleable__label-arrow:before {content: \"▸\";float: left;margin-right: 0.25em;color: #696969;}#sk-container-id-2 label.sk-toggleable__label-arrow:hover:before {color: black;}#sk-container-id-2 div.sk-estimator:hover label.sk-toggleable__label-arrow:before {color: black;}#sk-container-id-2 div.sk-toggleable__content {max-height: 0;max-width: 0;overflow: hidden;text-align: left;background-color: #f0f8ff;}#sk-container-id-2 div.sk-toggleable__content pre {margin: 0.2em;color: black;border-radius: 0.25em;background-color: #f0f8ff;}#sk-container-id-2 input.sk-toggleable__control:checked~div.sk-toggleable__content {max-height: 200px;max-width: 100%;overflow: auto;}#sk-container-id-2 input.sk-toggleable__control:checked~label.sk-toggleable__label-arrow:before {content: \"▾\";}#sk-container-id-2 div.sk-estimator input.sk-toggleable__control:checked~label.sk-toggleable__label {background-color: #d4ebff;}#sk-container-id-2 div.sk-label input.sk-toggleable__control:checked~label.sk-toggleable__label {background-color: #d4ebff;}#sk-container-id-2 input.sk-hidden--visually {border: 0;clip: rect(1px 1px 1px 1px);clip: rect(1px, 1px, 1px, 1px);height: 1px;margin: -1px;overflow: hidden;padding: 0;position: absolute;width: 1px;}#sk-container-id-2 div.sk-estimator {font-family: monospace;background-color: #f0f8ff;border: 1px dotted black;border-radius: 0.25em;box-sizing: border-box;margin-bottom: 0.5em;}#sk-container-id-2 div.sk-estimator:hover {background-color: #d4ebff;}#sk-container-id-2 div.sk-parallel-item::after {content: \"\";width: 100%;border-bottom: 1px solid gray;flex-grow: 1;}#sk-container-id-2 div.sk-label:hover label.sk-toggleable__label {background-color: #d4ebff;}#sk-container-id-2 div.sk-serial::before {content: \"\";position: absolute;border-left: 1px solid gray;box-sizing: border-box;top: 0;bottom: 0;left: 50%;z-index: 0;}#sk-container-id-2 div.sk-serial {display: flex;flex-direction: column;align-items: center;background-color: white;padding-right: 0.2em;padding-left: 0.2em;position: relative;}#sk-container-id-2 div.sk-item {position: relative;z-index: 1;}#sk-container-id-2 div.sk-parallel {display: flex;align-items: stretch;justify-content: center;background-color: white;position: relative;}#sk-container-id-2 div.sk-item::before, #sk-container-id-2 div.sk-parallel-item::before {content: \"\";position: absolute;border-left: 1px solid gray;box-sizing: border-box;top: 0;bottom: 0;left: 50%;z-index: -1;}#sk-container-id-2 div.sk-parallel-item {display: flex;flex-direction: column;z-index: 1;position: relative;background-color: white;}#sk-container-id-2 div.sk-parallel-item:first-child::after {align-self: flex-end;width: 50%;}#sk-container-id-2 div.sk-parallel-item:last-child::after {align-self: flex-start;width: 50%;}#sk-container-id-2 div.sk-parallel-item:only-child::after {width: 0;}#sk-container-id-2 div.sk-dashed-wrapped {border: 1px dashed gray;margin: 0 0.4em 0.5em 0.4em;box-sizing: border-box;padding-bottom: 0.4em;background-color: white;}#sk-container-id-2 div.sk-label label {font-family: monospace;font-weight: bold;display: inline-block;line-height: 1.2em;}#sk-container-id-2 div.sk-label-container {text-align: center;}#sk-container-id-2 div.sk-container {/* jupyter's `normalize.less` sets `[hidden] { display: none; }` but bootstrap.min.css set `[hidden] { display: none !important; }` so we also need the `!important` here to be able to override the default hidden behavior on the sphinx rendered scikit-learn.org. See: https://github.com/scikit-learn/scikit-learn/issues/21755 */display: inline-block !important;position: relative;}#sk-container-id-2 div.sk-text-repr-fallback {display: none;}</style><div id=\"sk-container-id-2\" class=\"sk-top-container\"><div class=\"sk-text-repr-fallback\"><pre>IsolationForest(contamination=0.3, max_features=0.01, max_samples=0.1,\n",
       "                n_estimators=230)</pre><b>In a Jupyter environment, please rerun this cell to show the HTML representation or trust the notebook. <br />On GitHub, the HTML representation is unable to render, please try loading this page with nbviewer.org.</b></div><div class=\"sk-container\" hidden><div class=\"sk-item\"><div class=\"sk-estimator sk-toggleable\"><input class=\"sk-toggleable__control sk-hidden--visually\" id=\"sk-estimator-id-2\" type=\"checkbox\" checked><label for=\"sk-estimator-id-2\" class=\"sk-toggleable__label sk-toggleable__label-arrow\">IsolationForest</label><div class=\"sk-toggleable__content\"><pre>IsolationForest(contamination=0.3, max_features=0.01, max_samples=0.1,\n",
       "                n_estimators=230)</pre></div></div></div></div></div>"
      ],
      "text/plain": [
       "IsolationForest(contamination=0.3, max_features=0.01, max_samples=0.1,\n",
       "                n_estimators=230)"
      ]
     },
     "execution_count": 56,
     "metadata": {},
     "output_type": "execute_result"
    }
   ],
   "source": [
    "model = IsolationForest(**best_grid)\n",
    "model.fit(X_train)"
   ]
  },
  {
   "cell_type": "code",
   "execution_count": 57,
   "metadata": {},
   "outputs": [],
   "source": [
    "model.predict(X_val)\n",
    "y_val_pred = model.predict(X_val)\n",
    "y_val_pred = [1 if x==-1 else 0 for x in y_val_pred ]\n",
    "score = f1_score(y_val, y_val_pred)"
   ]
  },
  {
   "cell_type": "code",
   "execution_count": 58,
   "metadata": {},
   "outputs": [
    {
     "data": {
      "text/plain": [
       "array([[2571, 1097],\n",
       "       [ 209,  103]], dtype=int64)"
      ]
     },
     "execution_count": 58,
     "metadata": {},
     "output_type": "execute_result"
    }
   ],
   "source": [
    "confusion_matrix(y_val, y_val_pred)"
   ]
  },
  {
   "cell_type": "code",
   "execution_count": 61,
   "metadata": {},
   "outputs": [],
   "source": [
    "model.predict(X_test)\n",
    "y_test_pred = model.predict(X_test)\n",
    "y_test_pred = [1 if x==-1 else 0 for x in y_test_pred ]\n",
    "score = f1_score(y_test, y_test_pred)"
   ]
  },
  {
   "cell_type": "code",
   "execution_count": 62,
   "metadata": {
    "scrolled": true
   },
   "outputs": [
    {
     "name": "stdout",
     "output_type": "stream",
     "text": [
      "0.15664986428848393\n"
     ]
    },
    {
     "data": {
      "text/plain": [
       "array([[2186, 2054],\n",
       "       [ 121,  202]], dtype=int64)"
      ]
     },
     "execution_count": 62,
     "metadata": {},
     "output_type": "execute_result"
    }
   ],
   "source": [
    "print(score)\n",
    "confusion_matrix(y_test, y_test_pred)"
   ]
  },
  {
   "cell_type": "code",
   "execution_count": 63,
   "metadata": {},
   "outputs": [],
   "source": [
    "X_test[\"ground_truth\"] = y_test\n",
    "X_test[\"pred_isolation_forest\"]=y_test_pred"
   ]
  },
  {
   "cell_type": "code",
   "execution_count": 64,
   "metadata": {},
   "outputs": [],
   "source": [
    "X_test.to_csv(\"predictions_on_test_set.csv\")"
   ]
  },
  {
   "cell_type": "code",
   "execution_count": null,
   "metadata": {},
   "outputs": [],
   "source": []
  }
 ],
 "metadata": {
  "kernelspec": {
   "display_name": "nlp_tasks",
   "language": "python",
   "name": "nlp_tasks"
  },
  "language_info": {
   "codemirror_mode": {
    "name": "ipython",
    "version": 3
   },
   "file_extension": ".py",
   "mimetype": "text/x-python",
   "name": "python",
   "nbconvert_exporter": "python",
   "pygments_lexer": "ipython3",
   "version": "3.10.9"
  }
 },
 "nbformat": 4,
 "nbformat_minor": 4
}
